{
 "cells": [
  {
   "cell_type": "markdown",
   "id": "9f992366",
   "metadata": {},
   "source": [
    "# Feature Engineering - Cleaning Datasets\n",
    "#### Feature names: times_pregnant, plasma_glucose, diastolic_blood, skin_thickness, serum_insulin, bmi, pedigree_function, age, diabetes"
   ]
  },
  {
   "cell_type": "code",
   "execution_count": null,
   "id": "9a6c0fd9",
   "metadata": {},
   "outputs": [],
   "source": [
    "# load dataset\n"
   ]
  },
  {
   "cell_type": "code",
   "execution_count": null,
   "id": "e93b3ebd",
   "metadata": {},
   "outputs": [],
   "source": [
    "# data distribution of plasma_glucose for both classes (have diabetes or not diabetes)\n"
   ]
  },
  {
   "cell_type": "code",
   "execution_count": null,
   "id": "2a4acf99",
   "metadata": {},
   "outputs": [],
   "source": [
    "# check the null values? How many have you found?\n"
   ]
  },
  {
   "cell_type": "code",
   "execution_count": null,
   "id": "400b82ba",
   "metadata": {},
   "outputs": [],
   "source": [
    "# proportion of people with or without diabetics\n"
   ]
  },
  {
   "cell_type": "code",
   "execution_count": null,
   "id": "21e60f51",
   "metadata": {},
   "outputs": [],
   "source": [
    "# Show the statistical description of the features.\n",
    "# What conclusion would you like to draw?\n",
    "# Any interesting/critical/suspeciou observation?\n"
   ]
  },
  {
   "cell_type": "code",
   "execution_count": null,
   "id": "f86eca1c",
   "metadata": {},
   "outputs": [],
   "source": []
  },
  {
   "cell_type": "code",
   "execution_count": null,
   "id": "29ace5e2",
   "metadata": {},
   "outputs": [],
   "source": []
  },
  {
   "cell_type": "code",
   "execution_count": null,
   "id": "524d4b53",
   "metadata": {},
   "outputs": [],
   "source": []
  }
 ],
 "metadata": {
  "kernelspec": {
   "display_name": "Python 3 (ipykernel)",
   "language": "python",
   "name": "python3"
  },
  "language_info": {
   "codemirror_mode": {
    "name": "ipython",
    "version": 3
   },
   "file_extension": ".py",
   "mimetype": "text/x-python",
   "name": "python",
   "nbconvert_exporter": "python",
   "pygments_lexer": "ipython3",
   "version": "3.9.13"
  }
 },
 "nbformat": 4,
 "nbformat_minor": 5
}
