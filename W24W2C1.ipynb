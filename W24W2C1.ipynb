{
 "cells": [
  {
   "cell_type": "markdown",
   "id": "d13061f1",
   "metadata": {},
   "source": [
    "# <font color='Purple'> Python Data Structures\n",
    "    - A model for organizing data to improve the data processing activities.\n",
    "    - List\n",
    "    - Tuple\n",
    "    - Dictionary\n",
    "    - Set"
   ]
  },
  {
   "cell_type": "markdown",
   "id": "e10b19f3",
   "metadata": {},
   "source": [
    "## Tuple\n",
    "- a comma seperated collection of data enclosed in a parentheses such as (1, 2)\n",
    "- What about 1, 2 ?\n",
    "- Immutable - so insertion and deletion can take place in a tuple"
   ]
  },
  {
   "cell_type": "code",
   "execution_count": 1,
   "id": "670aa6fc",
   "metadata": {},
   "outputs": [],
   "source": [
    "# empty tuple\n",
    "tup1 = ()"
   ]
  },
  {
   "cell_type": "code",
   "execution_count": 2,
   "id": "6f5b237d",
   "metadata": {},
   "outputs": [
    {
     "data": {
      "text/plain": [
       "()"
      ]
     },
     "execution_count": 2,
     "metadata": {},
     "output_type": "execute_result"
    }
   ],
   "source": [
    "tup1"
   ]
  },
  {
   "cell_type": "code",
   "execution_count": 3,
   "id": "a56801b5",
   "metadata": {},
   "outputs": [
    {
     "name": "stdout",
     "output_type": "stream",
     "text": [
      "()\n"
     ]
    }
   ],
   "source": [
    "tup2 = tuple()\n",
    "print(tup2)"
   ]
  },
  {
   "cell_type": "code",
   "execution_count": 9,
   "id": "5a2ffad0",
   "metadata": {},
   "outputs": [
    {
     "data": {
      "text/plain": [
       "(1, 2)"
      ]
     },
     "execution_count": 9,
     "metadata": {},
     "output_type": "execute_result"
    }
   ],
   "source": [
    "tup3 = tuple((1,2))\n",
    "tup3"
   ]
  },
  {
   "cell_type": "code",
   "execution_count": 10,
   "id": "4c9df086",
   "metadata": {},
   "outputs": [
    {
     "data": {
      "text/plain": [
       "tuple"
      ]
     },
     "execution_count": 10,
     "metadata": {},
     "output_type": "execute_result"
    }
   ],
   "source": [
    "type(tup3)"
   ]
  },
  {
   "cell_type": "code",
   "execution_count": 6,
   "id": "52a7471e",
   "metadata": {},
   "outputs": [
    {
     "name": "stdout",
     "output_type": "stream",
     "text": [
      "(4, 5, 6)\n"
     ]
    }
   ],
   "source": [
    "# tuple from a list\n",
    "aList = [4,5,6]\n",
    "tup4 = tuple(aList)\n",
    "print(tup4)"
   ]
  },
  {
   "cell_type": "code",
   "execution_count": 11,
   "id": "0743b52b",
   "metadata": {},
   "outputs": [
    {
     "name": "stdout",
     "output_type": "stream",
     "text": [
      "(1, 2)\n"
     ]
    }
   ],
   "source": [
    "tup5 = 1, 2\n",
    "print(tup5)"
   ]
  },
  {
   "cell_type": "code",
   "execution_count": null,
   "id": "126e626f",
   "metadata": {},
   "outputs": [],
   "source": []
  },
  {
   "cell_type": "code",
   "execution_count": 12,
   "id": "5e95c00f",
   "metadata": {},
   "outputs": [
    {
     "data": {
      "text/plain": [
       "('Canada', 'USA')"
      ]
     },
     "execution_count": 12,
     "metadata": {},
     "output_type": "execute_result"
    }
   ],
   "source": [
    "tup = ('Canada', 'USA')\n",
    "tup"
   ]
  },
  {
   "cell_type": "code",
   "execution_count": 15,
   "id": "053dfded",
   "metadata": {},
   "outputs": [
    {
     "ename": "TypeError",
     "evalue": "'tuple' object does not support item assignment",
     "output_type": "error",
     "traceback": [
      "\u001b[1;31m---------------------------------------------------------------------------\u001b[0m",
      "\u001b[1;31mTypeError\u001b[0m                                 Traceback (most recent call last)",
      "\u001b[1;32m~\\AppData\\Local\\Temp\\ipykernel_16288\\601956375.py\u001b[0m in \u001b[0;36m<module>\u001b[1;34m\u001b[0m\n\u001b[0;32m      1\u001b[0m \u001b[1;31m# accessing element\u001b[0m\u001b[1;33m\u001b[0m\u001b[1;33m\u001b[0m\u001b[0m\n\u001b[1;32m----> 2\u001b[1;33m \u001b[0mtup\u001b[0m\u001b[1;33m[\u001b[0m\u001b[1;36m1\u001b[0m\u001b[1;33m]\u001b[0m \u001b[1;33m=\u001b[0m \u001b[1;34m'United States'\u001b[0m\u001b[1;33m\u001b[0m\u001b[1;33m\u001b[0m\u001b[0m\n\u001b[0m",
      "\u001b[1;31mTypeError\u001b[0m: 'tuple' object does not support item assignment"
     ]
    }
   ],
   "source": [
    "# accessing element\n",
    "tup[1] = 'United States'"
   ]
  },
  {
   "cell_type": "code",
   "execution_count": 16,
   "id": "82ca4cd2",
   "metadata": {},
   "outputs": [
    {
     "data": {
      "text/plain": [
       "['Canada', 'USA']"
      ]
     },
     "execution_count": 16,
     "metadata": {},
     "output_type": "execute_result"
    }
   ],
   "source": [
    "listOfCountries = list(tup)\n",
    "listOfCountries"
   ]
  },
  {
   "cell_type": "code",
   "execution_count": 17,
   "id": "46af03e9",
   "metadata": {},
   "outputs": [
    {
     "data": {
      "text/plain": [
       "['Canada', 'United States']"
      ]
     },
     "execution_count": 17,
     "metadata": {},
     "output_type": "execute_result"
    }
   ],
   "source": [
    "listOfCountries[1] = 'United States'\n",
    "listOfCountries"
   ]
  },
  {
   "cell_type": "code",
   "execution_count": 18,
   "id": "e203be9b",
   "metadata": {},
   "outputs": [
    {
     "data": {
      "text/plain": [
       "('Canada', 'United States')"
      ]
     },
     "execution_count": 18,
     "metadata": {},
     "output_type": "execute_result"
    }
   ],
   "source": [
    "# convert the list back to the tuple\n",
    "tup = tuple(listOfCountries)\n",
    "tup"
   ]
  },
  {
   "cell_type": "code",
   "execution_count": 21,
   "id": "d85a5813",
   "metadata": {},
   "outputs": [
    {
     "data": {
      "text/plain": [
       "'Canada'"
      ]
     },
     "execution_count": 21,
     "metadata": {},
     "output_type": "execute_result"
    }
   ],
   "source": [
    "# negative indexing to access a tuple element\n",
    "tup[-2]"
   ]
  },
  {
   "cell_type": "code",
   "execution_count": null,
   "id": "560da0a8",
   "metadata": {},
   "outputs": [],
   "source": [
    "# the concept of slicing in tuple is the same as of string and list"
   ]
  },
  {
   "cell_type": "code",
   "execution_count": 22,
   "id": "99bf9ce8",
   "metadata": {},
   "outputs": [],
   "source": [
    "# we are defining a function what will calculate and return the area and the circumference of a circle\n",
    "def circleProperties():\n",
    "    radius = 2.5\n",
    "    PI = 3.1415\n",
    "    area = PI * radius**2\n",
    "    circumference = 2 * PI * radius\n",
    "    return area, circumference # this statement is similar to this one: return 1, 2"
   ]
  },
  {
   "cell_type": "code",
   "execution_count": 56,
   "id": "39946461",
   "metadata": {},
   "outputs": [],
   "source": [
    "x = circleProperties() # is this valid or not? The answer is YES."
   ]
  },
  {
   "cell_type": "code",
   "execution_count": 57,
   "id": "c559c884",
   "metadata": {},
   "outputs": [
    {
     "data": {
      "text/plain": [
       "(19.634375000000002, 15.707500000000001)"
      ]
     },
     "execution_count": 57,
     "metadata": {},
     "output_type": "execute_result"
    }
   ],
   "source": [
    "x"
   ]
  },
  {
   "cell_type": "code",
   "execution_count": 28,
   "id": "35233a7c",
   "metadata": {},
   "outputs": [
    {
     "data": {
      "text/plain": [
       "tuple"
      ]
     },
     "execution_count": 28,
     "metadata": {},
     "output_type": "execute_result"
    }
   ],
   "source": [
    "type(x)"
   ]
  },
  {
   "cell_type": "code",
   "execution_count": 58,
   "id": "24a568ae",
   "metadata": {},
   "outputs": [
    {
     "data": {
      "text/plain": [
       "19.634375000000002"
      ]
     },
     "execution_count": 58,
     "metadata": {},
     "output_type": "execute_result"
    }
   ],
   "source": [
    "x[0]"
   ]
  },
  {
   "cell_type": "code",
   "execution_count": 23,
   "id": "06728689",
   "metadata": {},
   "outputs": [],
   "source": [
    "x, y = circleProperties()"
   ]
  },
  {
   "cell_type": "code",
   "execution_count": 24,
   "id": "812ff9b0",
   "metadata": {},
   "outputs": [
    {
     "data": {
      "text/plain": [
       "19.634375000000002"
      ]
     },
     "execution_count": 24,
     "metadata": {},
     "output_type": "execute_result"
    }
   ],
   "source": [
    "x"
   ]
  },
  {
   "cell_type": "code",
   "execution_count": 25,
   "id": "982c357d",
   "metadata": {},
   "outputs": [
    {
     "data": {
      "text/plain": [
       "15.707500000000001"
      ]
     },
     "execution_count": 25,
     "metadata": {},
     "output_type": "execute_result"
    }
   ],
   "source": [
    "y"
   ]
  },
  {
   "cell_type": "code",
   "execution_count": null,
   "id": "352675d2",
   "metadata": {},
   "outputs": [],
   "source": []
  },
  {
   "cell_type": "code",
   "execution_count": null,
   "id": "2cc4eb6d",
   "metadata": {},
   "outputs": [],
   "source": []
  },
  {
   "cell_type": "markdown",
   "id": "52b74f26",
   "metadata": {},
   "source": [
    "## List\n",
    "- a comma seperated collection of data enclosed in a square bracket such as [1, 2]\n",
    "- mutable"
   ]
  },
  {
   "cell_type": "code",
   "execution_count": 31,
   "id": "80d3e9e7",
   "metadata": {},
   "outputs": [],
   "source": [
    "aList = []\n",
    "bList = list()"
   ]
  },
  {
   "cell_type": "code",
   "execution_count": 32,
   "id": "d0461284",
   "metadata": {},
   "outputs": [
    {
     "data": {
      "text/plain": [
       "[]"
      ]
     },
     "execution_count": 32,
     "metadata": {},
     "output_type": "execute_result"
    }
   ],
   "source": [
    "bList"
   ]
  },
  {
   "cell_type": "code",
   "execution_count": 33,
   "id": "c3886bfd",
   "metadata": {},
   "outputs": [
    {
     "data": {
      "text/plain": [
       "[]"
      ]
     },
     "execution_count": 33,
     "metadata": {},
     "output_type": "execute_result"
    }
   ],
   "source": [
    "aList"
   ]
  },
  {
   "cell_type": "code",
   "execution_count": 34,
   "id": "e8466c83",
   "metadata": {},
   "outputs": [
    {
     "data": {
      "text/plain": [
       "['Alissa', 12, 'C', 1524]"
      ]
     },
     "execution_count": 34,
     "metadata": {},
     "output_type": "execute_result"
    }
   ],
   "source": [
    "aList = ['Alissa', 12, 'C', 1524]\n",
    "aList"
   ]
  },
  {
   "cell_type": "code",
   "execution_count": 37,
   "id": "ca996003",
   "metadata": {},
   "outputs": [
    {
     "data": {
      "text/plain": [
       "-3"
      ]
     },
     "execution_count": 37,
     "metadata": {},
     "output_type": "execute_result"
    }
   ],
   "source": [
    "aList = [[1,2], [-2,-3,-5]]\n",
    "aList[1][1]"
   ]
  },
  {
   "cell_type": "code",
   "execution_count": 38,
   "id": "a30b8ad6",
   "metadata": {},
   "outputs": [
    {
     "data": {
      "text/plain": [
       "[[1, 2], [-2, -3, -5], 100]"
      ]
     },
     "execution_count": 38,
     "metadata": {},
     "output_type": "execute_result"
    }
   ],
   "source": [
    "# insert at the end of a list\n",
    "aList.append(100)\n",
    "aList"
   ]
  },
  {
   "cell_type": "code",
   "execution_count": 39,
   "id": "7ce6d2bf",
   "metadata": {},
   "outputs": [
    {
     "data": {
      "text/plain": [
       "100"
      ]
     },
     "execution_count": 39,
     "metadata": {},
     "output_type": "execute_result"
    }
   ],
   "source": [
    "# deletion\n",
    "aList.pop()"
   ]
  },
  {
   "cell_type": "code",
   "execution_count": 40,
   "id": "fcc68885",
   "metadata": {},
   "outputs": [
    {
     "data": {
      "text/plain": [
       "[[1, 2], [-2, -3, -5]]"
      ]
     },
     "execution_count": 40,
     "metadata": {},
     "output_type": "execute_result"
    }
   ],
   "source": [
    "aList"
   ]
  },
  {
   "cell_type": "code",
   "execution_count": 41,
   "id": "0f672a2e",
   "metadata": {},
   "outputs": [
    {
     "data": {
      "text/plain": [
       "[1, 2]"
      ]
     },
     "execution_count": 41,
     "metadata": {},
     "output_type": "execute_result"
    }
   ],
   "source": [
    "aList.pop(0)"
   ]
  },
  {
   "cell_type": "code",
   "execution_count": 42,
   "id": "f3f96fc3",
   "metadata": {},
   "outputs": [
    {
     "data": {
      "text/plain": [
       "[[-2, -3, -5]]"
      ]
     },
     "execution_count": 42,
     "metadata": {},
     "output_type": "execute_result"
    }
   ],
   "source": [
    "aList"
   ]
  },
  {
   "cell_type": "code",
   "execution_count": 43,
   "id": "164d8471",
   "metadata": {},
   "outputs": [],
   "source": [
    "sports = ['hockey', 'football', 'cricket', 'baseball']"
   ]
  },
  {
   "cell_type": "code",
   "execution_count": 44,
   "id": "1216fbc4",
   "metadata": {},
   "outputs": [
    {
     "name": "stdout",
     "output_type": "stream",
     "text": [
      "hockey\n",
      "football\n",
      "cricket\n",
      "baseball\n"
     ]
    }
   ],
   "source": [
    "for item in sports:\n",
    "    print(item)"
   ]
  },
  {
   "cell_type": "code",
   "execution_count": 49,
   "id": "197f39d4",
   "metadata": {},
   "outputs": [],
   "source": [
    "sports.sort(key=len)"
   ]
  },
  {
   "cell_type": "code",
   "execution_count": null,
   "id": "3ccf5236",
   "metadata": {},
   "outputs": [],
   "source": []
  },
  {
   "cell_type": "code",
   "execution_count": 50,
   "id": "5882baf9",
   "metadata": {},
   "outputs": [
    {
     "name": "stdout",
     "output_type": "stream",
     "text": [
      "['hockey', 'cricket', 'football', 'baseball']\n"
     ]
    }
   ],
   "source": [
    "print(sports)"
   ]
  },
  {
   "cell_type": "code",
   "execution_count": null,
   "id": "0a7f67b4",
   "metadata": {},
   "outputs": [],
   "source": []
  },
  {
   "cell_type": "code",
   "execution_count": 51,
   "id": "abaee499",
   "metadata": {},
   "outputs": [
    {
     "data": {
      "text/plain": [
       "0"
      ]
     },
     "execution_count": 51,
     "metadata": {},
     "output_type": "execute_result"
    }
   ],
   "source": [
    "# searching\n",
    "sports.index('hockey')"
   ]
  },
  {
   "cell_type": "code",
   "execution_count": null,
   "id": "709983ed",
   "metadata": {},
   "outputs": [],
   "source": []
  },
  {
   "cell_type": "markdown",
   "id": "edaa746a",
   "metadata": {},
   "source": [
    "### list comprehension\n",
    "- a compact way to create a list\n",
    "- create a list by filtering elements"
   ]
  },
  {
   "cell_type": "code",
   "execution_count": 53,
   "id": "8948648e",
   "metadata": {},
   "outputs": [
    {
     "name": "stdout",
     "output_type": "stream",
     "text": [
      "[1, 4, 9, 16, 25, 36, 49, 64, 81, 100]\n"
     ]
    }
   ],
   "source": [
    "# create a list of squared numbers from 1 to 10 \n",
    "aList = []\n",
    "for item in range(1, 11):\n",
    "    aList.append(item * item)\n",
    "print(aList)"
   ]
  },
  {
   "cell_type": "code",
   "execution_count": 54,
   "id": "b00361e9",
   "metadata": {},
   "outputs": [
    {
     "data": {
      "text/plain": [
       "[1, 4, 9, 16, 25, 36, 49, 64, 81, 100]"
      ]
     },
     "execution_count": 54,
     "metadata": {},
     "output_type": "execute_result"
    }
   ],
   "source": [
    "# using list comprehension\n",
    "bList = [item*item for item in range(1,11)]\n",
    "bList"
   ]
  },
  {
   "cell_type": "code",
   "execution_count": 55,
   "id": "b3d0cd57",
   "metadata": {},
   "outputs": [
    {
     "data": {
      "text/plain": [
       "[4, 16, 36, 64, 100]"
      ]
     },
     "execution_count": 55,
     "metadata": {},
     "output_type": "execute_result"
    }
   ],
   "source": [
    "even_list = [item for item in bList if item%2 == 0]\n",
    "even_list"
   ]
  },
  {
   "cell_type": "code",
   "execution_count": null,
   "id": "3e969cbd",
   "metadata": {},
   "outputs": [],
   "source": []
  },
  {
   "cell_type": "markdown",
   "id": "c489bf10",
   "metadata": {},
   "source": [
    "## Dictionary\n",
    "- a collection of key-value pairs\n",
    "- is not ordered\n",
    "- we can access the values of a dictionary using keys\n",
    "- dictionary is mutable"
   ]
  },
  {
   "cell_type": "code",
   "execution_count": 59,
   "id": "fef552be",
   "metadata": {},
   "outputs": [
    {
     "name": "stdout",
     "output_type": "stream",
     "text": [
      "{}\n"
     ]
    }
   ],
   "source": [
    "aDict = {}\n",
    "bDict = dict()\n",
    "print(aDict)"
   ]
  },
  {
   "cell_type": "code",
   "execution_count": 60,
   "id": "ea83755c",
   "metadata": {},
   "outputs": [
    {
     "data": {
      "text/plain": [
       "{}"
      ]
     },
     "execution_count": 60,
     "metadata": {},
     "output_type": "execute_result"
    }
   ],
   "source": [
    "bDict"
   ]
  },
  {
   "cell_type": "code",
   "execution_count": 61,
   "id": "e657faa3",
   "metadata": {},
   "outputs": [
    {
     "data": {
      "text/plain": [
       "{'Alberta': 'Edmonton', 'Ontario': 'Toronto'}"
      ]
     },
     "execution_count": 61,
     "metadata": {},
     "output_type": "execute_result"
    }
   ],
   "source": [
    "aDict = {'Alberta': 'Edmonton', 'Ontario': 'Toronto'}\n",
    "aDict"
   ]
  },
  {
   "cell_type": "code",
   "execution_count": 63,
   "id": "567762b2",
   "metadata": {},
   "outputs": [
    {
     "data": {
      "text/plain": [
       "'Edmonton'"
      ]
     },
     "execution_count": 63,
     "metadata": {},
     "output_type": "execute_result"
    }
   ],
   "source": [
    "aDict['Alberta']"
   ]
  },
  {
   "cell_type": "code",
   "execution_count": 65,
   "id": "d8f59503",
   "metadata": {},
   "outputs": [
    {
     "name": "stdout",
     "output_type": "stream",
     "text": [
      "Alberta: Edmonton\n",
      "Ontario: Toronto\n"
     ]
    }
   ],
   "source": [
    "# for loop for traversing a dictionary\n",
    "for key, value in aDict.items():\n",
    "    print(key, end = ': ')\n",
    "    print(value)"
   ]
  },
  {
   "cell_type": "code",
   "execution_count": null,
   "id": "a60c9bdb",
   "metadata": {},
   "outputs": [],
   "source": []
  },
  {
   "cell_type": "markdown",
   "id": "56515173",
   "metadata": {},
   "source": [
    "## Set\n",
    "- a sequence of <b> unique </b> elements\n",
    "- elements are not ordered"
   ]
  },
  {
   "cell_type": "code",
   "execution_count": 66,
   "id": "a639ca05",
   "metadata": {},
   "outputs": [
    {
     "data": {
      "text/plain": [
       "set()"
      ]
     },
     "execution_count": 66,
     "metadata": {},
     "output_type": "execute_result"
    }
   ],
   "source": [
    "aSet = set()\n",
    "aSet"
   ]
  },
  {
   "cell_type": "code",
   "execution_count": null,
   "id": "0cc8ebaa",
   "metadata": {},
   "outputs": [],
   "source": []
  },
  {
   "cell_type": "code",
   "execution_count": null,
   "id": "4b51697c",
   "metadata": {},
   "outputs": [],
   "source": []
  },
  {
   "cell_type": "code",
   "execution_count": null,
   "id": "9d3ccb26",
   "metadata": {},
   "outputs": [],
   "source": []
  },
  {
   "cell_type": "code",
   "execution_count": null,
   "id": "42c90374",
   "metadata": {},
   "outputs": [],
   "source": []
  },
  {
   "cell_type": "code",
   "execution_count": null,
   "id": "ce12546d",
   "metadata": {},
   "outputs": [],
   "source": []
  },
  {
   "cell_type": "code",
   "execution_count": null,
   "id": "105dfec9",
   "metadata": {},
   "outputs": [],
   "source": []
  },
  {
   "cell_type": "code",
   "execution_count": null,
   "id": "ce4866c9",
   "metadata": {},
   "outputs": [],
   "source": []
  }
 ],
 "metadata": {
  "kernelspec": {
   "display_name": "Python 3 (ipykernel)",
   "language": "python",
   "name": "python3"
  },
  "language_info": {
   "codemirror_mode": {
    "name": "ipython",
    "version": 3
   },
   "file_extension": ".py",
   "mimetype": "text/x-python",
   "name": "python",
   "nbconvert_exporter": "python",
   "pygments_lexer": "ipython3",
   "version": "3.9.13"
  }
 },
 "nbformat": 4,
 "nbformat_minor": 5
}
