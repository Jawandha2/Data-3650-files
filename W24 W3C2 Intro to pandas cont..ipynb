{
 "cells": [
  {
   "cell_type": "code",
   "execution_count": 1,
   "id": "163353ee",
   "metadata": {},
   "outputs": [],
   "source": [
    "import numpy as np\n",
    "import pandas as pd"
   ]
  },
  {
   "cell_type": "code",
   "execution_count": 6,
   "id": "8850c9e9",
   "metadata": {},
   "outputs": [
    {
     "data": {
      "text/html": [
       "<div>\n",
       "<style scoped>\n",
       "    .dataframe tbody tr th:only-of-type {\n",
       "        vertical-align: middle;\n",
       "    }\n",
       "\n",
       "    .dataframe tbody tr th {\n",
       "        vertical-align: top;\n",
       "    }\n",
       "\n",
       "    .dataframe thead th {\n",
       "        text-align: right;\n",
       "    }\n",
       "</style>\n",
       "<table border=\"1\" class=\"dataframe\">\n",
       "  <thead>\n",
       "    <tr style=\"text-align: right;\">\n",
       "      <th></th>\n",
       "      <th>One</th>\n",
       "      <th>Two</th>\n",
       "      <th>Three</th>\n",
       "      <th>Four</th>\n",
       "    </tr>\n",
       "  </thead>\n",
       "  <tbody>\n",
       "    <tr>\n",
       "      <th>A</th>\n",
       "      <td>-1.560352</td>\n",
       "      <td>-0.030978</td>\n",
       "      <td>-0.620928</td>\n",
       "      <td>-1.464580</td>\n",
       "    </tr>\n",
       "    <tr>\n",
       "      <th>B</th>\n",
       "      <td>1.411946</td>\n",
       "      <td>-0.476732</td>\n",
       "      <td>-0.780469</td>\n",
       "      <td>1.070268</td>\n",
       "    </tr>\n",
       "    <tr>\n",
       "      <th>C</th>\n",
       "      <td>-1.282293</td>\n",
       "      <td>-1.327479</td>\n",
       "      <td>0.126338</td>\n",
       "      <td>0.862194</td>\n",
       "    </tr>\n",
       "    <tr>\n",
       "      <th>D</th>\n",
       "      <td>0.696737</td>\n",
       "      <td>-0.334565</td>\n",
       "      <td>-0.997526</td>\n",
       "      <td>1.598908</td>\n",
       "    </tr>\n",
       "    <tr>\n",
       "      <th>E</th>\n",
       "      <td>3.314075</td>\n",
       "      <td>0.987770</td>\n",
       "      <td>0.123866</td>\n",
       "      <td>0.742785</td>\n",
       "    </tr>\n",
       "  </tbody>\n",
       "</table>\n",
       "</div>"
      ],
      "text/plain": [
       "        One       Two     Three      Four\n",
       "A -1.560352 -0.030978 -0.620928 -1.464580\n",
       "B  1.411946 -0.476732 -0.780469  1.070268\n",
       "C -1.282293 -1.327479  0.126338  0.862194\n",
       "D  0.696737 -0.334565 -0.997526  1.598908\n",
       "E  3.314075  0.987770  0.123866  0.742785"
      ]
     },
     "execution_count": 6,
     "metadata": {},
     "output_type": "execute_result"
    }
   ],
   "source": [
    "# create a dataframe\n",
    "np.random.seed(50)\n",
    "df = pd.DataFrame(data = np.random.randn(5,4), index = 'A B C D E'.split(), columns = ['One', 'Two', 'Three', 'Four'])\n",
    "df"
   ]
  },
  {
   "cell_type": "code",
   "execution_count": 8,
   "id": "de200a62",
   "metadata": {},
   "outputs": [],
   "source": [
    "# adding and dropping column\n",
    "df['Five'] = np.random.randn(5)"
   ]
  },
  {
   "cell_type": "code",
   "execution_count": 9,
   "id": "76bf6cfb",
   "metadata": {},
   "outputs": [
    {
     "data": {
      "text/html": [
       "<div>\n",
       "<style scoped>\n",
       "    .dataframe tbody tr th:only-of-type {\n",
       "        vertical-align: middle;\n",
       "    }\n",
       "\n",
       "    .dataframe tbody tr th {\n",
       "        vertical-align: top;\n",
       "    }\n",
       "\n",
       "    .dataframe thead th {\n",
       "        text-align: right;\n",
       "    }\n",
       "</style>\n",
       "<table border=\"1\" class=\"dataframe\">\n",
       "  <thead>\n",
       "    <tr style=\"text-align: right;\">\n",
       "      <th></th>\n",
       "      <th>One</th>\n",
       "      <th>Two</th>\n",
       "      <th>Three</th>\n",
       "      <th>Four</th>\n",
       "      <th>Five</th>\n",
       "    </tr>\n",
       "  </thead>\n",
       "  <tbody>\n",
       "    <tr>\n",
       "      <th>A</th>\n",
       "      <td>-1.560352</td>\n",
       "      <td>-0.030978</td>\n",
       "      <td>-0.620928</td>\n",
       "      <td>-1.464580</td>\n",
       "      <td>0.222244</td>\n",
       "    </tr>\n",
       "    <tr>\n",
       "      <th>B</th>\n",
       "      <td>1.411946</td>\n",
       "      <td>-0.476732</td>\n",
       "      <td>-0.780469</td>\n",
       "      <td>1.070268</td>\n",
       "      <td>0.251814</td>\n",
       "    </tr>\n",
       "    <tr>\n",
       "      <th>C</th>\n",
       "      <td>-1.282293</td>\n",
       "      <td>-1.327479</td>\n",
       "      <td>0.126338</td>\n",
       "      <td>0.862194</td>\n",
       "      <td>0.707926</td>\n",
       "    </tr>\n",
       "    <tr>\n",
       "      <th>D</th>\n",
       "      <td>0.696737</td>\n",
       "      <td>-0.334565</td>\n",
       "      <td>-0.997526</td>\n",
       "      <td>1.598908</td>\n",
       "      <td>0.493990</td>\n",
       "    </tr>\n",
       "    <tr>\n",
       "      <th>E</th>\n",
       "      <td>3.314075</td>\n",
       "      <td>0.987770</td>\n",
       "      <td>0.123866</td>\n",
       "      <td>0.742785</td>\n",
       "      <td>1.471002</td>\n",
       "    </tr>\n",
       "  </tbody>\n",
       "</table>\n",
       "</div>"
      ],
      "text/plain": [
       "        One       Two     Three      Four      Five\n",
       "A -1.560352 -0.030978 -0.620928 -1.464580  0.222244\n",
       "B  1.411946 -0.476732 -0.780469  1.070268  0.251814\n",
       "C -1.282293 -1.327479  0.126338  0.862194  0.707926\n",
       "D  0.696737 -0.334565 -0.997526  1.598908  0.493990\n",
       "E  3.314075  0.987770  0.123866  0.742785  1.471002"
      ]
     },
     "execution_count": 9,
     "metadata": {},
     "output_type": "execute_result"
    }
   ],
   "source": [
    "df"
   ]
  },
  {
   "cell_type": "code",
   "execution_count": 10,
   "id": "ac06babd",
   "metadata": {},
   "outputs": [
    {
     "data": {
      "text/plain": [
       "pandas.core.series.Series"
      ]
     },
     "execution_count": 10,
     "metadata": {},
     "output_type": "execute_result"
    }
   ],
   "source": [
    "type(df['Five'])"
   ]
  },
  {
   "cell_type": "code",
   "execution_count": 12,
   "id": "b74e6b1b",
   "metadata": {},
   "outputs": [
    {
     "data": {
      "text/html": [
       "<div>\n",
       "<style scoped>\n",
       "    .dataframe tbody tr th:only-of-type {\n",
       "        vertical-align: middle;\n",
       "    }\n",
       "\n",
       "    .dataframe tbody tr th {\n",
       "        vertical-align: top;\n",
       "    }\n",
       "\n",
       "    .dataframe thead th {\n",
       "        text-align: right;\n",
       "    }\n",
       "</style>\n",
       "<table border=\"1\" class=\"dataframe\">\n",
       "  <thead>\n",
       "    <tr style=\"text-align: right;\">\n",
       "      <th></th>\n",
       "      <th>One</th>\n",
       "      <th>Two</th>\n",
       "      <th>Three</th>\n",
       "      <th>Four</th>\n",
       "    </tr>\n",
       "  </thead>\n",
       "  <tbody>\n",
       "    <tr>\n",
       "      <th>A</th>\n",
       "      <td>-1.560352</td>\n",
       "      <td>-0.030978</td>\n",
       "      <td>-0.620928</td>\n",
       "      <td>-1.464580</td>\n",
       "    </tr>\n",
       "    <tr>\n",
       "      <th>B</th>\n",
       "      <td>1.411946</td>\n",
       "      <td>-0.476732</td>\n",
       "      <td>-0.780469</td>\n",
       "      <td>1.070268</td>\n",
       "    </tr>\n",
       "    <tr>\n",
       "      <th>C</th>\n",
       "      <td>-1.282293</td>\n",
       "      <td>-1.327479</td>\n",
       "      <td>0.126338</td>\n",
       "      <td>0.862194</td>\n",
       "    </tr>\n",
       "    <tr>\n",
       "      <th>D</th>\n",
       "      <td>0.696737</td>\n",
       "      <td>-0.334565</td>\n",
       "      <td>-0.997526</td>\n",
       "      <td>1.598908</td>\n",
       "    </tr>\n",
       "    <tr>\n",
       "      <th>E</th>\n",
       "      <td>3.314075</td>\n",
       "      <td>0.987770</td>\n",
       "      <td>0.123866</td>\n",
       "      <td>0.742785</td>\n",
       "    </tr>\n",
       "  </tbody>\n",
       "</table>\n",
       "</div>"
      ],
      "text/plain": [
       "        One       Two     Three      Four\n",
       "A -1.560352 -0.030978 -0.620928 -1.464580\n",
       "B  1.411946 -0.476732 -0.780469  1.070268\n",
       "C -1.282293 -1.327479  0.126338  0.862194\n",
       "D  0.696737 -0.334565 -0.997526  1.598908\n",
       "E  3.314075  0.987770  0.123866  0.742785"
      ]
     },
     "execution_count": 12,
     "metadata": {},
     "output_type": "execute_result"
    }
   ],
   "source": [
    "df.drop('Five', axis = 1)"
   ]
  },
  {
   "cell_type": "code",
   "execution_count": 13,
   "id": "7ea53634",
   "metadata": {},
   "outputs": [
    {
     "data": {
      "text/html": [
       "<div>\n",
       "<style scoped>\n",
       "    .dataframe tbody tr th:only-of-type {\n",
       "        vertical-align: middle;\n",
       "    }\n",
       "\n",
       "    .dataframe tbody tr th {\n",
       "        vertical-align: top;\n",
       "    }\n",
       "\n",
       "    .dataframe thead th {\n",
       "        text-align: right;\n",
       "    }\n",
       "</style>\n",
       "<table border=\"1\" class=\"dataframe\">\n",
       "  <thead>\n",
       "    <tr style=\"text-align: right;\">\n",
       "      <th></th>\n",
       "      <th>One</th>\n",
       "      <th>Two</th>\n",
       "      <th>Three</th>\n",
       "      <th>Four</th>\n",
       "      <th>Five</th>\n",
       "    </tr>\n",
       "  </thead>\n",
       "  <tbody>\n",
       "    <tr>\n",
       "      <th>A</th>\n",
       "      <td>-1.560352</td>\n",
       "      <td>-0.030978</td>\n",
       "      <td>-0.620928</td>\n",
       "      <td>-1.464580</td>\n",
       "      <td>0.222244</td>\n",
       "    </tr>\n",
       "    <tr>\n",
       "      <th>B</th>\n",
       "      <td>1.411946</td>\n",
       "      <td>-0.476732</td>\n",
       "      <td>-0.780469</td>\n",
       "      <td>1.070268</td>\n",
       "      <td>0.251814</td>\n",
       "    </tr>\n",
       "    <tr>\n",
       "      <th>C</th>\n",
       "      <td>-1.282293</td>\n",
       "      <td>-1.327479</td>\n",
       "      <td>0.126338</td>\n",
       "      <td>0.862194</td>\n",
       "      <td>0.707926</td>\n",
       "    </tr>\n",
       "    <tr>\n",
       "      <th>D</th>\n",
       "      <td>0.696737</td>\n",
       "      <td>-0.334565</td>\n",
       "      <td>-0.997526</td>\n",
       "      <td>1.598908</td>\n",
       "      <td>0.493990</td>\n",
       "    </tr>\n",
       "    <tr>\n",
       "      <th>E</th>\n",
       "      <td>3.314075</td>\n",
       "      <td>0.987770</td>\n",
       "      <td>0.123866</td>\n",
       "      <td>0.742785</td>\n",
       "      <td>1.471002</td>\n",
       "    </tr>\n",
       "  </tbody>\n",
       "</table>\n",
       "</div>"
      ],
      "text/plain": [
       "        One       Two     Three      Four      Five\n",
       "A -1.560352 -0.030978 -0.620928 -1.464580  0.222244\n",
       "B  1.411946 -0.476732 -0.780469  1.070268  0.251814\n",
       "C -1.282293 -1.327479  0.126338  0.862194  0.707926\n",
       "D  0.696737 -0.334565 -0.997526  1.598908  0.493990\n",
       "E  3.314075  0.987770  0.123866  0.742785  1.471002"
      ]
     },
     "execution_count": 13,
     "metadata": {},
     "output_type": "execute_result"
    }
   ],
   "source": [
    "df"
   ]
  },
  {
   "cell_type": "code",
   "execution_count": 14,
   "id": "33bd5f61",
   "metadata": {},
   "outputs": [],
   "source": [
    "df.drop('Five', axis = 1, inplace = True)"
   ]
  },
  {
   "cell_type": "code",
   "execution_count": 15,
   "id": "be946944",
   "metadata": {},
   "outputs": [
    {
     "data": {
      "text/html": [
       "<div>\n",
       "<style scoped>\n",
       "    .dataframe tbody tr th:only-of-type {\n",
       "        vertical-align: middle;\n",
       "    }\n",
       "\n",
       "    .dataframe tbody tr th {\n",
       "        vertical-align: top;\n",
       "    }\n",
       "\n",
       "    .dataframe thead th {\n",
       "        text-align: right;\n",
       "    }\n",
       "</style>\n",
       "<table border=\"1\" class=\"dataframe\">\n",
       "  <thead>\n",
       "    <tr style=\"text-align: right;\">\n",
       "      <th></th>\n",
       "      <th>One</th>\n",
       "      <th>Two</th>\n",
       "      <th>Three</th>\n",
       "      <th>Four</th>\n",
       "    </tr>\n",
       "  </thead>\n",
       "  <tbody>\n",
       "    <tr>\n",
       "      <th>A</th>\n",
       "      <td>-1.560352</td>\n",
       "      <td>-0.030978</td>\n",
       "      <td>-0.620928</td>\n",
       "      <td>-1.464580</td>\n",
       "    </tr>\n",
       "    <tr>\n",
       "      <th>B</th>\n",
       "      <td>1.411946</td>\n",
       "      <td>-0.476732</td>\n",
       "      <td>-0.780469</td>\n",
       "      <td>1.070268</td>\n",
       "    </tr>\n",
       "    <tr>\n",
       "      <th>C</th>\n",
       "      <td>-1.282293</td>\n",
       "      <td>-1.327479</td>\n",
       "      <td>0.126338</td>\n",
       "      <td>0.862194</td>\n",
       "    </tr>\n",
       "    <tr>\n",
       "      <th>D</th>\n",
       "      <td>0.696737</td>\n",
       "      <td>-0.334565</td>\n",
       "      <td>-0.997526</td>\n",
       "      <td>1.598908</td>\n",
       "    </tr>\n",
       "    <tr>\n",
       "      <th>E</th>\n",
       "      <td>3.314075</td>\n",
       "      <td>0.987770</td>\n",
       "      <td>0.123866</td>\n",
       "      <td>0.742785</td>\n",
       "    </tr>\n",
       "  </tbody>\n",
       "</table>\n",
       "</div>"
      ],
      "text/plain": [
       "        One       Two     Three      Four\n",
       "A -1.560352 -0.030978 -0.620928 -1.464580\n",
       "B  1.411946 -0.476732 -0.780469  1.070268\n",
       "C -1.282293 -1.327479  0.126338  0.862194\n",
       "D  0.696737 -0.334565 -0.997526  1.598908\n",
       "E  3.314075  0.987770  0.123866  0.742785"
      ]
     },
     "execution_count": 15,
     "metadata": {},
     "output_type": "execute_result"
    }
   ],
   "source": [
    "df"
   ]
  },
  {
   "cell_type": "markdown",
   "id": "c82bd215",
   "metadata": {},
   "source": [
    "#### Indexing in pandas DataFrame\n",
    "- index of a DataFrame is similar to an address"
   ]
  },
  {
   "cell_type": "code",
   "execution_count": 16,
   "id": "ada273d1",
   "metadata": {},
   "outputs": [
    {
     "data": {
      "text/html": [
       "<div>\n",
       "<style scoped>\n",
       "    .dataframe tbody tr th:only-of-type {\n",
       "        vertical-align: middle;\n",
       "    }\n",
       "\n",
       "    .dataframe tbody tr th {\n",
       "        vertical-align: top;\n",
       "    }\n",
       "\n",
       "    .dataframe thead th {\n",
       "        text-align: right;\n",
       "    }\n",
       "</style>\n",
       "<table border=\"1\" class=\"dataframe\">\n",
       "  <thead>\n",
       "    <tr style=\"text-align: right;\">\n",
       "      <th></th>\n",
       "      <th>NoPlate</th>\n",
       "      <th>Make</th>\n",
       "      <th>Year</th>\n",
       "    </tr>\n",
       "  </thead>\n",
       "  <tbody>\n",
       "    <tr>\n",
       "      <th>0</th>\n",
       "      <td>YT2332</td>\n",
       "      <td>Honda</td>\n",
       "      <td>2022</td>\n",
       "    </tr>\n",
       "    <tr>\n",
       "      <th>1</th>\n",
       "      <td>YT5673</td>\n",
       "      <td>Ford</td>\n",
       "      <td>2012</td>\n",
       "    </tr>\n",
       "    <tr>\n",
       "      <th>2</th>\n",
       "      <td>AC90C3</td>\n",
       "      <td>BMW</td>\n",
       "      <td>2023</td>\n",
       "    </tr>\n",
       "  </tbody>\n",
       "</table>\n",
       "</div>"
      ],
      "text/plain": [
       "  NoPlate   Make  Year\n",
       "0  YT2332  Honda  2022\n",
       "1  YT5673   Ford  2012\n",
       "2  AC90C3    BMW  2023"
      ]
     },
     "execution_count": 16,
     "metadata": {},
     "output_type": "execute_result"
    }
   ],
   "source": [
    "cars = {\n",
    "    'NoPlate':['YT2332', 'YT5673', 'AC90C3'],\n",
    "    'Make': ['Honda', 'Ford', 'BMW'],\n",
    "    'Year':[2022, 2012, 2023]\n",
    "}\n",
    "df = pd.DataFrame(cars)\n",
    "df"
   ]
  },
  {
   "cell_type": "code",
   "execution_count": 17,
   "id": "18b56a77",
   "metadata": {},
   "outputs": [
    {
     "data": {
      "text/plain": [
       "Index(['NoPlate', 'Make', 'Year'], dtype='object')"
      ]
     },
     "execution_count": 17,
     "metadata": {},
     "output_type": "execute_result"
    }
   ],
   "source": [
    "# accessing column names\n",
    "df.columns"
   ]
  },
  {
   "cell_type": "code",
   "execution_count": 18,
   "id": "f2b7db26",
   "metadata": {},
   "outputs": [
    {
     "data": {
      "text/plain": [
       "RangeIndex(start=0, stop=3, step=1)"
      ]
     },
     "execution_count": 18,
     "metadata": {},
     "output_type": "execute_result"
    }
   ],
   "source": [
    "# index\n",
    "df.index"
   ]
  },
  {
   "cell_type": "code",
   "execution_count": 21,
   "id": "18bf4ac5",
   "metadata": {},
   "outputs": [],
   "source": [
    "df.set_index('Make', inplace = True)"
   ]
  },
  {
   "cell_type": "code",
   "execution_count": 22,
   "id": "f2400515",
   "metadata": {},
   "outputs": [
    {
     "data": {
      "text/html": [
       "<div>\n",
       "<style scoped>\n",
       "    .dataframe tbody tr th:only-of-type {\n",
       "        vertical-align: middle;\n",
       "    }\n",
       "\n",
       "    .dataframe tbody tr th {\n",
       "        vertical-align: top;\n",
       "    }\n",
       "\n",
       "    .dataframe thead th {\n",
       "        text-align: right;\n",
       "    }\n",
       "</style>\n",
       "<table border=\"1\" class=\"dataframe\">\n",
       "  <thead>\n",
       "    <tr style=\"text-align: right;\">\n",
       "      <th></th>\n",
       "      <th>NoPlate</th>\n",
       "      <th>Year</th>\n",
       "    </tr>\n",
       "    <tr>\n",
       "      <th>Make</th>\n",
       "      <th></th>\n",
       "      <th></th>\n",
       "    </tr>\n",
       "  </thead>\n",
       "  <tbody>\n",
       "    <tr>\n",
       "      <th>Honda</th>\n",
       "      <td>YT2332</td>\n",
       "      <td>2022</td>\n",
       "    </tr>\n",
       "    <tr>\n",
       "      <th>Ford</th>\n",
       "      <td>YT5673</td>\n",
       "      <td>2012</td>\n",
       "    </tr>\n",
       "    <tr>\n",
       "      <th>BMW</th>\n",
       "      <td>AC90C3</td>\n",
       "      <td>2023</td>\n",
       "    </tr>\n",
       "  </tbody>\n",
       "</table>\n",
       "</div>"
      ],
      "text/plain": [
       "      NoPlate  Year\n",
       "Make               \n",
       "Honda  YT2332  2022\n",
       "Ford   YT5673  2012\n",
       "BMW    AC90C3  2023"
      ]
     },
     "execution_count": 22,
     "metadata": {},
     "output_type": "execute_result"
    }
   ],
   "source": [
    "df"
   ]
  },
  {
   "cell_type": "code",
   "execution_count": 25,
   "id": "97919a1a",
   "metadata": {},
   "outputs": [],
   "source": [
    "df.sort_index(inplace = True)"
   ]
  },
  {
   "cell_type": "code",
   "execution_count": 26,
   "id": "7d11018c",
   "metadata": {},
   "outputs": [
    {
     "data": {
      "text/html": [
       "<div>\n",
       "<style scoped>\n",
       "    .dataframe tbody tr th:only-of-type {\n",
       "        vertical-align: middle;\n",
       "    }\n",
       "\n",
       "    .dataframe tbody tr th {\n",
       "        vertical-align: top;\n",
       "    }\n",
       "\n",
       "    .dataframe thead th {\n",
       "        text-align: right;\n",
       "    }\n",
       "</style>\n",
       "<table border=\"1\" class=\"dataframe\">\n",
       "  <thead>\n",
       "    <tr style=\"text-align: right;\">\n",
       "      <th></th>\n",
       "      <th>NoPlate</th>\n",
       "      <th>Year</th>\n",
       "    </tr>\n",
       "    <tr>\n",
       "      <th>Make</th>\n",
       "      <th></th>\n",
       "      <th></th>\n",
       "    </tr>\n",
       "  </thead>\n",
       "  <tbody>\n",
       "    <tr>\n",
       "      <th>BMW</th>\n",
       "      <td>AC90C3</td>\n",
       "      <td>2023</td>\n",
       "    </tr>\n",
       "    <tr>\n",
       "      <th>Ford</th>\n",
       "      <td>YT5673</td>\n",
       "      <td>2012</td>\n",
       "    </tr>\n",
       "    <tr>\n",
       "      <th>Honda</th>\n",
       "      <td>YT2332</td>\n",
       "      <td>2022</td>\n",
       "    </tr>\n",
       "  </tbody>\n",
       "</table>\n",
       "</div>"
      ],
      "text/plain": [
       "      NoPlate  Year\n",
       "Make               \n",
       "BMW    AC90C3  2023\n",
       "Ford   YT5673  2012\n",
       "Honda  YT2332  2022"
      ]
     },
     "execution_count": 26,
     "metadata": {},
     "output_type": "execute_result"
    }
   ],
   "source": [
    "df"
   ]
  },
  {
   "cell_type": "code",
   "execution_count": 27,
   "id": "3312c76d",
   "metadata": {},
   "outputs": [
    {
     "data": {
      "text/html": [
       "<div>\n",
       "<style scoped>\n",
       "    .dataframe tbody tr th:only-of-type {\n",
       "        vertical-align: middle;\n",
       "    }\n",
       "\n",
       "    .dataframe tbody tr th {\n",
       "        vertical-align: top;\n",
       "    }\n",
       "\n",
       "    .dataframe thead th {\n",
       "        text-align: right;\n",
       "    }\n",
       "</style>\n",
       "<table border=\"1\" class=\"dataframe\">\n",
       "  <thead>\n",
       "    <tr style=\"text-align: right;\">\n",
       "      <th></th>\n",
       "      <th>Make</th>\n",
       "      <th>NoPlate</th>\n",
       "      <th>Year</th>\n",
       "    </tr>\n",
       "  </thead>\n",
       "  <tbody>\n",
       "    <tr>\n",
       "      <th>0</th>\n",
       "      <td>BMW</td>\n",
       "      <td>AC90C3</td>\n",
       "      <td>2023</td>\n",
       "    </tr>\n",
       "    <tr>\n",
       "      <th>1</th>\n",
       "      <td>Ford</td>\n",
       "      <td>YT5673</td>\n",
       "      <td>2012</td>\n",
       "    </tr>\n",
       "    <tr>\n",
       "      <th>2</th>\n",
       "      <td>Honda</td>\n",
       "      <td>YT2332</td>\n",
       "      <td>2022</td>\n",
       "    </tr>\n",
       "  </tbody>\n",
       "</table>\n",
       "</div>"
      ],
      "text/plain": [
       "    Make NoPlate  Year\n",
       "0    BMW  AC90C3  2023\n",
       "1   Ford  YT5673  2012\n",
       "2  Honda  YT2332  2022"
      ]
     },
     "execution_count": 27,
     "metadata": {},
     "output_type": "execute_result"
    }
   ],
   "source": [
    "df.reset_index()"
   ]
  },
  {
   "cell_type": "code",
   "execution_count": 28,
   "id": "b182df1b",
   "metadata": {},
   "outputs": [],
   "source": [
    "df.rename(columns={'NoPlate':'Plate'}, inplace = True)"
   ]
  },
  {
   "cell_type": "code",
   "execution_count": 29,
   "id": "190d5d65",
   "metadata": {},
   "outputs": [
    {
     "data": {
      "text/html": [
       "<div>\n",
       "<style scoped>\n",
       "    .dataframe tbody tr th:only-of-type {\n",
       "        vertical-align: middle;\n",
       "    }\n",
       "\n",
       "    .dataframe tbody tr th {\n",
       "        vertical-align: top;\n",
       "    }\n",
       "\n",
       "    .dataframe thead th {\n",
       "        text-align: right;\n",
       "    }\n",
       "</style>\n",
       "<table border=\"1\" class=\"dataframe\">\n",
       "  <thead>\n",
       "    <tr style=\"text-align: right;\">\n",
       "      <th></th>\n",
       "      <th>Plate</th>\n",
       "      <th>Year</th>\n",
       "    </tr>\n",
       "    <tr>\n",
       "      <th>Make</th>\n",
       "      <th></th>\n",
       "      <th></th>\n",
       "    </tr>\n",
       "  </thead>\n",
       "  <tbody>\n",
       "    <tr>\n",
       "      <th>BMW</th>\n",
       "      <td>AC90C3</td>\n",
       "      <td>2023</td>\n",
       "    </tr>\n",
       "    <tr>\n",
       "      <th>Ford</th>\n",
       "      <td>YT5673</td>\n",
       "      <td>2012</td>\n",
       "    </tr>\n",
       "    <tr>\n",
       "      <th>Honda</th>\n",
       "      <td>YT2332</td>\n",
       "      <td>2022</td>\n",
       "    </tr>\n",
       "  </tbody>\n",
       "</table>\n",
       "</div>"
      ],
      "text/plain": [
       "        Plate  Year\n",
       "Make               \n",
       "BMW    AC90C3  2023\n",
       "Ford   YT5673  2012\n",
       "Honda  YT2332  2022"
      ]
     },
     "execution_count": 29,
     "metadata": {},
     "output_type": "execute_result"
    }
   ],
   "source": [
    "df"
   ]
  },
  {
   "cell_type": "code",
   "execution_count": 31,
   "id": "78ceb4d2",
   "metadata": {},
   "outputs": [
    {
     "data": {
      "text/html": [
       "<div>\n",
       "<style scoped>\n",
       "    .dataframe tbody tr th:only-of-type {\n",
       "        vertical-align: middle;\n",
       "    }\n",
       "\n",
       "    .dataframe tbody tr th {\n",
       "        vertical-align: top;\n",
       "    }\n",
       "\n",
       "    .dataframe thead th {\n",
       "        text-align: right;\n",
       "    }\n",
       "</style>\n",
       "<table border=\"1\" class=\"dataframe\">\n",
       "  <thead>\n",
       "    <tr style=\"text-align: right;\">\n",
       "      <th></th>\n",
       "      <th>One</th>\n",
       "      <th>Two</th>\n",
       "      <th>Three</th>\n",
       "      <th>Four</th>\n",
       "    </tr>\n",
       "  </thead>\n",
       "  <tbody>\n",
       "    <tr>\n",
       "      <th>A</th>\n",
       "      <td>-1.560352</td>\n",
       "      <td>-0.030978</td>\n",
       "      <td>-0.620928</td>\n",
       "      <td>-1.464580</td>\n",
       "    </tr>\n",
       "    <tr>\n",
       "      <th>B</th>\n",
       "      <td>1.411946</td>\n",
       "      <td>-0.476732</td>\n",
       "      <td>-0.780469</td>\n",
       "      <td>1.070268</td>\n",
       "    </tr>\n",
       "    <tr>\n",
       "      <th>C</th>\n",
       "      <td>-1.282293</td>\n",
       "      <td>-1.327479</td>\n",
       "      <td>0.126338</td>\n",
       "      <td>0.862194</td>\n",
       "    </tr>\n",
       "    <tr>\n",
       "      <th>D</th>\n",
       "      <td>0.696737</td>\n",
       "      <td>-0.334565</td>\n",
       "      <td>-0.997526</td>\n",
       "      <td>1.598908</td>\n",
       "    </tr>\n",
       "    <tr>\n",
       "      <th>E</th>\n",
       "      <td>3.314075</td>\n",
       "      <td>0.987770</td>\n",
       "      <td>0.123866</td>\n",
       "      <td>0.742785</td>\n",
       "    </tr>\n",
       "  </tbody>\n",
       "</table>\n",
       "</div>"
      ],
      "text/plain": [
       "        One       Two     Three      Four\n",
       "A -1.560352 -0.030978 -0.620928 -1.464580\n",
       "B  1.411946 -0.476732 -0.780469  1.070268\n",
       "C -1.282293 -1.327479  0.126338  0.862194\n",
       "D  0.696737 -0.334565 -0.997526  1.598908\n",
       "E  3.314075  0.987770  0.123866  0.742785"
      ]
     },
     "execution_count": 31,
     "metadata": {},
     "output_type": "execute_result"
    }
   ],
   "source": [
    "np.random.seed(50)\n",
    "df = pd.DataFrame(data = np.random.randn(5,4), index = 'A B C D E'.split(), columns = ['One', 'Two', 'Three', 'Four'])\n",
    "df"
   ]
  },
  {
   "cell_type": "code",
   "execution_count": 35,
   "id": "45712a8d",
   "metadata": {},
   "outputs": [
    {
     "data": {
      "text/html": [
       "<div>\n",
       "<style scoped>\n",
       "    .dataframe tbody tr th:only-of-type {\n",
       "        vertical-align: middle;\n",
       "    }\n",
       "\n",
       "    .dataframe tbody tr th {\n",
       "        vertical-align: top;\n",
       "    }\n",
       "\n",
       "    .dataframe thead th {\n",
       "        text-align: right;\n",
       "    }\n",
       "</style>\n",
       "<table border=\"1\" class=\"dataframe\">\n",
       "  <thead>\n",
       "    <tr style=\"text-align: right;\">\n",
       "      <th></th>\n",
       "      <th>One</th>\n",
       "      <th>Two</th>\n",
       "      <th>Three</th>\n",
       "      <th>Four</th>\n",
       "    </tr>\n",
       "  </thead>\n",
       "  <tbody>\n",
       "    <tr>\n",
       "      <th>A</th>\n",
       "      <td>-1.560352</td>\n",
       "      <td>-0.030978</td>\n",
       "      <td>-0.620928</td>\n",
       "      <td>-1.46458</td>\n",
       "    </tr>\n",
       "    <tr>\n",
       "      <th>B</th>\n",
       "      <td>NaN</td>\n",
       "      <td>-0.476732</td>\n",
       "      <td>-0.780469</td>\n",
       "      <td>NaN</td>\n",
       "    </tr>\n",
       "    <tr>\n",
       "      <th>C</th>\n",
       "      <td>-1.282293</td>\n",
       "      <td>-1.327479</td>\n",
       "      <td>NaN</td>\n",
       "      <td>NaN</td>\n",
       "    </tr>\n",
       "    <tr>\n",
       "      <th>D</th>\n",
       "      <td>NaN</td>\n",
       "      <td>-0.334565</td>\n",
       "      <td>-0.997526</td>\n",
       "      <td>NaN</td>\n",
       "    </tr>\n",
       "    <tr>\n",
       "      <th>E</th>\n",
       "      <td>NaN</td>\n",
       "      <td>NaN</td>\n",
       "      <td>NaN</td>\n",
       "      <td>NaN</td>\n",
       "    </tr>\n",
       "  </tbody>\n",
       "</table>\n",
       "</div>"
      ],
      "text/plain": [
       "        One       Two     Three     Four\n",
       "A -1.560352 -0.030978 -0.620928 -1.46458\n",
       "B       NaN -0.476732 -0.780469      NaN\n",
       "C -1.282293 -1.327479       NaN      NaN\n",
       "D       NaN -0.334565 -0.997526      NaN\n",
       "E       NaN       NaN       NaN      NaN"
      ]
     },
     "execution_count": 35,
     "metadata": {},
     "output_type": "execute_result"
    }
   ],
   "source": [
    "# conditional selection\n",
    "df[df < 0]"
   ]
  },
  {
   "cell_type": "code",
   "execution_count": 36,
   "id": "108fa4f9",
   "metadata": {},
   "outputs": [
    {
     "data": {
      "text/html": [
       "<div>\n",
       "<style scoped>\n",
       "    .dataframe tbody tr th:only-of-type {\n",
       "        vertical-align: middle;\n",
       "    }\n",
       "\n",
       "    .dataframe tbody tr th {\n",
       "        vertical-align: top;\n",
       "    }\n",
       "\n",
       "    .dataframe thead th {\n",
       "        text-align: right;\n",
       "    }\n",
       "</style>\n",
       "<table border=\"1\" class=\"dataframe\">\n",
       "  <thead>\n",
       "    <tr style=\"text-align: right;\">\n",
       "      <th></th>\n",
       "      <th>One</th>\n",
       "      <th>Two</th>\n",
       "      <th>Three</th>\n",
       "      <th>Four</th>\n",
       "    </tr>\n",
       "  </thead>\n",
       "  <tbody>\n",
       "    <tr>\n",
       "      <th>A</th>\n",
       "      <td>-1.560352</td>\n",
       "      <td>-0.030978</td>\n",
       "      <td>-0.620928</td>\n",
       "      <td>-1.464580</td>\n",
       "    </tr>\n",
       "    <tr>\n",
       "      <th>B</th>\n",
       "      <td>1.411946</td>\n",
       "      <td>-0.476732</td>\n",
       "      <td>-0.780469</td>\n",
       "      <td>1.070268</td>\n",
       "    </tr>\n",
       "    <tr>\n",
       "      <th>D</th>\n",
       "      <td>0.696737</td>\n",
       "      <td>-0.334565</td>\n",
       "      <td>-0.997526</td>\n",
       "      <td>1.598908</td>\n",
       "    </tr>\n",
       "  </tbody>\n",
       "</table>\n",
       "</div>"
      ],
      "text/plain": [
       "        One       Two     Three      Four\n",
       "A -1.560352 -0.030978 -0.620928 -1.464580\n",
       "B  1.411946 -0.476732 -0.780469  1.070268\n",
       "D  0.696737 -0.334565 -0.997526  1.598908"
      ]
     },
     "execution_count": 36,
     "metadata": {},
     "output_type": "execute_result"
    }
   ],
   "source": [
    "# show the DataFrame where the values of 'Three' column are negative\n",
    "df[df['Three'] < 0]"
   ]
  },
  {
   "cell_type": "code",
   "execution_count": 38,
   "id": "8287b83e",
   "metadata": {},
   "outputs": [
    {
     "data": {
      "text/html": [
       "<div>\n",
       "<style scoped>\n",
       "    .dataframe tbody tr th:only-of-type {\n",
       "        vertical-align: middle;\n",
       "    }\n",
       "\n",
       "    .dataframe tbody tr th {\n",
       "        vertical-align: top;\n",
       "    }\n",
       "\n",
       "    .dataframe thead th {\n",
       "        text-align: right;\n",
       "    }\n",
       "</style>\n",
       "<table border=\"1\" class=\"dataframe\">\n",
       "  <thead>\n",
       "    <tr style=\"text-align: right;\">\n",
       "      <th></th>\n",
       "      <th>One</th>\n",
       "      <th>Two</th>\n",
       "      <th>Three</th>\n",
       "      <th>Four</th>\n",
       "    </tr>\n",
       "  </thead>\n",
       "  <tbody>\n",
       "    <tr>\n",
       "      <th>A</th>\n",
       "      <td>-1.560352</td>\n",
       "      <td>-0.030978</td>\n",
       "      <td>-0.620928</td>\n",
       "      <td>-1.464580</td>\n",
       "    </tr>\n",
       "    <tr>\n",
       "      <th>B</th>\n",
       "      <td>1.411946</td>\n",
       "      <td>-0.476732</td>\n",
       "      <td>-0.780469</td>\n",
       "      <td>1.070268</td>\n",
       "    </tr>\n",
       "    <tr>\n",
       "      <th>D</th>\n",
       "      <td>0.696737</td>\n",
       "      <td>-0.334565</td>\n",
       "      <td>-0.997526</td>\n",
       "      <td>1.598908</td>\n",
       "    </tr>\n",
       "  </tbody>\n",
       "</table>\n",
       "</div>"
      ],
      "text/plain": [
       "        One       Two     Three      Four\n",
       "A -1.560352 -0.030978 -0.620928 -1.464580\n",
       "B  1.411946 -0.476732 -0.780469  1.070268\n",
       "D  0.696737 -0.334565 -0.997526  1.598908"
      ]
     },
     "execution_count": 38,
     "metadata": {},
     "output_type": "execute_result"
    }
   ],
   "source": [
    "df[df['Three'] < 0]"
   ]
  },
  {
   "cell_type": "code",
   "execution_count": 39,
   "id": "f129d068",
   "metadata": {},
   "outputs": [
    {
     "data": {
      "text/html": [
       "<div>\n",
       "<style scoped>\n",
       "    .dataframe tbody tr th:only-of-type {\n",
       "        vertical-align: middle;\n",
       "    }\n",
       "\n",
       "    .dataframe tbody tr th {\n",
       "        vertical-align: top;\n",
       "    }\n",
       "\n",
       "    .dataframe thead th {\n",
       "        text-align: right;\n",
       "    }\n",
       "</style>\n",
       "<table border=\"1\" class=\"dataframe\">\n",
       "  <thead>\n",
       "    <tr style=\"text-align: right;\">\n",
       "      <th></th>\n",
       "      <th>One</th>\n",
       "      <th>Two</th>\n",
       "      <th>Three</th>\n",
       "      <th>Four</th>\n",
       "    </tr>\n",
       "  </thead>\n",
       "  <tbody>\n",
       "    <tr>\n",
       "      <th>A</th>\n",
       "      <td>-1.560352</td>\n",
       "      <td>-0.030978</td>\n",
       "      <td>-0.620928</td>\n",
       "      <td>-1.464580</td>\n",
       "    </tr>\n",
       "    <tr>\n",
       "      <th>B</th>\n",
       "      <td>1.411946</td>\n",
       "      <td>-0.476732</td>\n",
       "      <td>-0.780469</td>\n",
       "      <td>1.070268</td>\n",
       "    </tr>\n",
       "    <tr>\n",
       "      <th>C</th>\n",
       "      <td>-1.282293</td>\n",
       "      <td>-1.327479</td>\n",
       "      <td>0.126338</td>\n",
       "      <td>0.862194</td>\n",
       "    </tr>\n",
       "    <tr>\n",
       "      <th>D</th>\n",
       "      <td>0.696737</td>\n",
       "      <td>-0.334565</td>\n",
       "      <td>-0.997526</td>\n",
       "      <td>1.598908</td>\n",
       "    </tr>\n",
       "    <tr>\n",
       "      <th>E</th>\n",
       "      <td>3.314075</td>\n",
       "      <td>0.987770</td>\n",
       "      <td>0.123866</td>\n",
       "      <td>0.742785</td>\n",
       "    </tr>\n",
       "  </tbody>\n",
       "</table>\n",
       "</div>"
      ],
      "text/plain": [
       "        One       Two     Three      Four\n",
       "A -1.560352 -0.030978 -0.620928 -1.464580\n",
       "B  1.411946 -0.476732 -0.780469  1.070268\n",
       "C -1.282293 -1.327479  0.126338  0.862194\n",
       "D  0.696737 -0.334565 -0.997526  1.598908\n",
       "E  3.314075  0.987770  0.123866  0.742785"
      ]
     },
     "execution_count": 39,
     "metadata": {},
     "output_type": "execute_result"
    }
   ],
   "source": [
    "df"
   ]
  },
  {
   "cell_type": "code",
   "execution_count": null,
   "id": "3792ed6d",
   "metadata": {},
   "outputs": [],
   "source": [
    "# Show the values of column 'Two' when the values of column 'Four' is less than 0\n",
    "df['Two'][df['Four'] < 0]"
   ]
  },
  {
   "cell_type": "code",
   "execution_count": 41,
   "id": "4b756ea2",
   "metadata": {},
   "outputs": [
    {
     "data": {
      "text/plain": [
       "A   -0.030978\n",
       "Name: Two, dtype: float64"
      ]
     },
     "execution_count": 41,
     "metadata": {},
     "output_type": "execute_result"
    }
   ],
   "source": [
    "df['Two'][df['Four'] < 0]"
   ]
  },
  {
   "cell_type": "code",
   "execution_count": 49,
   "id": "49a0363b",
   "metadata": {},
   "outputs": [
    {
     "data": {
      "text/html": [
       "<div>\n",
       "<style scoped>\n",
       "    .dataframe tbody tr th:only-of-type {\n",
       "        vertical-align: middle;\n",
       "    }\n",
       "\n",
       "    .dataframe tbody tr th {\n",
       "        vertical-align: top;\n",
       "    }\n",
       "\n",
       "    .dataframe thead th {\n",
       "        text-align: right;\n",
       "    }\n",
       "</style>\n",
       "<table border=\"1\" class=\"dataframe\">\n",
       "  <thead>\n",
       "    <tr style=\"text-align: right;\">\n",
       "      <th></th>\n",
       "      <th>Two</th>\n",
       "    </tr>\n",
       "  </thead>\n",
       "  <tbody>\n",
       "    <tr>\n",
       "      <th>A</th>\n",
       "      <td>-0.030978</td>\n",
       "    </tr>\n",
       "  </tbody>\n",
       "</table>\n",
       "</div>"
      ],
      "text/plain": [
       "        Two\n",
       "A -0.030978"
      ]
     },
     "execution_count": 49,
     "metadata": {},
     "output_type": "execute_result"
    }
   ],
   "source": [
    "df[df['Four'] < 0][['Two']]"
   ]
  },
  {
   "cell_type": "code",
   "execution_count": 46,
   "id": "7f8f8ba8",
   "metadata": {},
   "outputs": [
    {
     "data": {
      "text/html": [
       "<div>\n",
       "<style scoped>\n",
       "    .dataframe tbody tr th:only-of-type {\n",
       "        vertical-align: middle;\n",
       "    }\n",
       "\n",
       "    .dataframe tbody tr th {\n",
       "        vertical-align: top;\n",
       "    }\n",
       "\n",
       "    .dataframe thead th {\n",
       "        text-align: right;\n",
       "    }\n",
       "</style>\n",
       "<table border=\"1\" class=\"dataframe\">\n",
       "  <thead>\n",
       "    <tr style=\"text-align: right;\">\n",
       "      <th></th>\n",
       "      <th>Two</th>\n",
       "      <th>One</th>\n",
       "    </tr>\n",
       "  </thead>\n",
       "  <tbody>\n",
       "    <tr>\n",
       "      <th>A</th>\n",
       "      <td>-0.030978</td>\n",
       "      <td>-1.560352</td>\n",
       "    </tr>\n",
       "  </tbody>\n",
       "</table>\n",
       "</div>"
      ],
      "text/plain": [
       "        Two       One\n",
       "A -0.030978 -1.560352"
      ]
     },
     "execution_count": 46,
     "metadata": {},
     "output_type": "execute_result"
    }
   ],
   "source": [
    "# Show the values of column 'Two' and 'Three' when the values of column 'Four' is less than 0\n",
    "df[['Two', 'One']][df['Four'] < 0]"
   ]
  },
  {
   "cell_type": "code",
   "execution_count": 51,
   "id": "169d77ff",
   "metadata": {},
   "outputs": [
    {
     "data": {
      "text/html": [
       "<div>\n",
       "<style scoped>\n",
       "    .dataframe tbody tr th:only-of-type {\n",
       "        vertical-align: middle;\n",
       "    }\n",
       "\n",
       "    .dataframe tbody tr th {\n",
       "        vertical-align: top;\n",
       "    }\n",
       "\n",
       "    .dataframe thead th {\n",
       "        text-align: right;\n",
       "    }\n",
       "</style>\n",
       "<table border=\"1\" class=\"dataframe\">\n",
       "  <thead>\n",
       "    <tr style=\"text-align: right;\">\n",
       "      <th></th>\n",
       "      <th>One</th>\n",
       "      <th>Two</th>\n",
       "      <th>Three</th>\n",
       "      <th>Four</th>\n",
       "    </tr>\n",
       "  </thead>\n",
       "  <tbody>\n",
       "    <tr>\n",
       "      <th>A</th>\n",
       "      <td>-1.560352</td>\n",
       "      <td>-0.030978</td>\n",
       "      <td>-0.620928</td>\n",
       "      <td>-1.464580</td>\n",
       "    </tr>\n",
       "    <tr>\n",
       "      <th>B</th>\n",
       "      <td>1.411946</td>\n",
       "      <td>-0.476732</td>\n",
       "      <td>-0.780469</td>\n",
       "      <td>1.070268</td>\n",
       "    </tr>\n",
       "    <tr>\n",
       "      <th>C</th>\n",
       "      <td>-1.282293</td>\n",
       "      <td>-1.327479</td>\n",
       "      <td>0.126338</td>\n",
       "      <td>0.862194</td>\n",
       "    </tr>\n",
       "    <tr>\n",
       "      <th>D</th>\n",
       "      <td>0.696737</td>\n",
       "      <td>-0.334565</td>\n",
       "      <td>-0.997526</td>\n",
       "      <td>1.598908</td>\n",
       "    </tr>\n",
       "    <tr>\n",
       "      <th>E</th>\n",
       "      <td>3.314075</td>\n",
       "      <td>0.987770</td>\n",
       "      <td>0.123866</td>\n",
       "      <td>0.742785</td>\n",
       "    </tr>\n",
       "  </tbody>\n",
       "</table>\n",
       "</div>"
      ],
      "text/plain": [
       "        One       Two     Three      Four\n",
       "A -1.560352 -0.030978 -0.620928 -1.464580\n",
       "B  1.411946 -0.476732 -0.780469  1.070268\n",
       "C -1.282293 -1.327479  0.126338  0.862194\n",
       "D  0.696737 -0.334565 -0.997526  1.598908\n",
       "E  3.314075  0.987770  0.123866  0.742785"
      ]
     },
     "execution_count": 51,
     "metadata": {},
     "output_type": "execute_result"
    }
   ],
   "source": [
    "np.random.seed(50)\n",
    "df = pd.DataFrame(data = np.random.randn(5,4), index = 'A B C D E'.split(), columns = ['One', 'Two', 'Three', 'Four'])\n",
    "df"
   ]
  },
  {
   "cell_type": "code",
   "execution_count": 55,
   "id": "c26363ff",
   "metadata": {},
   "outputs": [
    {
     "data": {
      "text/html": [
       "<div>\n",
       "<style scoped>\n",
       "    .dataframe tbody tr th:only-of-type {\n",
       "        vertical-align: middle;\n",
       "    }\n",
       "\n",
       "    .dataframe tbody tr th {\n",
       "        vertical-align: top;\n",
       "    }\n",
       "\n",
       "    .dataframe thead th {\n",
       "        text-align: right;\n",
       "    }\n",
       "</style>\n",
       "<table border=\"1\" class=\"dataframe\">\n",
       "  <thead>\n",
       "    <tr style=\"text-align: right;\">\n",
       "      <th></th>\n",
       "      <th>One</th>\n",
       "      <th>Four</th>\n",
       "    </tr>\n",
       "  </thead>\n",
       "  <tbody>\n",
       "  </tbody>\n",
       "</table>\n",
       "</div>"
      ],
      "text/plain": [
       "Empty DataFrame\n",
       "Columns: [One, Four]\n",
       "Index: []"
      ]
     },
     "execution_count": 55,
     "metadata": {},
     "output_type": "execute_result"
    }
   ],
   "source": [
    "# Show the values of 'One' and 'Four' when 'Two' is greater than 0 and 'Three' is less than 0\n",
    "df[(df['Two']>0) & (df['Three']<0)][['One','Four']]"
   ]
  },
  {
   "cell_type": "code",
   "execution_count": 59,
   "id": "866e1f38",
   "metadata": {},
   "outputs": [
    {
     "data": {
      "text/html": [
       "<div>\n",
       "<style scoped>\n",
       "    .dataframe tbody tr th:only-of-type {\n",
       "        vertical-align: middle;\n",
       "    }\n",
       "\n",
       "    .dataframe tbody tr th {\n",
       "        vertical-align: top;\n",
       "    }\n",
       "\n",
       "    .dataframe thead th {\n",
       "        text-align: right;\n",
       "    }\n",
       "</style>\n",
       "<table border=\"1\" class=\"dataframe\">\n",
       "  <thead>\n",
       "    <tr style=\"text-align: right;\">\n",
       "      <th></th>\n",
       "      <th>One</th>\n",
       "      <th>Four</th>\n",
       "    </tr>\n",
       "  </thead>\n",
       "  <tbody>\n",
       "    <tr>\n",
       "      <th>C</th>\n",
       "      <td>-1.282293</td>\n",
       "      <td>0.862194</td>\n",
       "    </tr>\n",
       "  </tbody>\n",
       "</table>\n",
       "</div>"
      ],
      "text/plain": [
       "        One      Four\n",
       "C -1.282293  0.862194"
      ]
     },
     "execution_count": 59,
     "metadata": {},
     "output_type": "execute_result"
    }
   ],
   "source": [
    "df[['One', 'Four']][(df['Two'] < 0) & (df['Three'] > 0)]"
   ]
  },
  {
   "cell_type": "code",
   "execution_count": null,
   "id": "208ed80e",
   "metadata": {},
   "outputs": [],
   "source": []
  },
  {
   "cell_type": "markdown",
   "id": "b72d357d",
   "metadata": {},
   "source": [
    "### Apply a function"
   ]
  },
  {
   "cell_type": "code",
   "execution_count": 60,
   "id": "f625ca2d",
   "metadata": {},
   "outputs": [
    {
     "data": {
      "text/html": [
       "<div>\n",
       "<style scoped>\n",
       "    .dataframe tbody tr th:only-of-type {\n",
       "        vertical-align: middle;\n",
       "    }\n",
       "\n",
       "    .dataframe tbody tr th {\n",
       "        vertical-align: top;\n",
       "    }\n",
       "\n",
       "    .dataframe thead th {\n",
       "        text-align: right;\n",
       "    }\n",
       "</style>\n",
       "<table border=\"1\" class=\"dataframe\">\n",
       "  <thead>\n",
       "    <tr style=\"text-align: right;\">\n",
       "      <th></th>\n",
       "      <th>Name</th>\n",
       "      <th>ID</th>\n",
       "      <th>Age</th>\n",
       "      <th>GPA</th>\n",
       "      <th>Loan</th>\n",
       "    </tr>\n",
       "  </thead>\n",
       "  <tbody>\n",
       "    <tr>\n",
       "      <th>0</th>\n",
       "      <td>Nadia, I.</td>\n",
       "      <td>1233</td>\n",
       "      <td>21</td>\n",
       "      <td>3.88</td>\n",
       "      <td>No</td>\n",
       "    </tr>\n",
       "    <tr>\n",
       "      <th>1</th>\n",
       "      <td>Hanna, J.</td>\n",
       "      <td>1234</td>\n",
       "      <td>23</td>\n",
       "      <td>3.64</td>\n",
       "      <td>Yes</td>\n",
       "    </tr>\n",
       "    <tr>\n",
       "      <th>2</th>\n",
       "      <td>Alissa, K.</td>\n",
       "      <td>1235</td>\n",
       "      <td>23</td>\n",
       "      <td>3.97</td>\n",
       "      <td>Yes</td>\n",
       "    </tr>\n",
       "    <tr>\n",
       "      <th>3</th>\n",
       "      <td>Lisa, A.</td>\n",
       "      <td>1236</td>\n",
       "      <td>25</td>\n",
       "      <td>3.45</td>\n",
       "      <td>No</td>\n",
       "    </tr>\n",
       "    <tr>\n",
       "      <th>4</th>\n",
       "      <td>Aisha, B</td>\n",
       "      <td>1237</td>\n",
       "      <td>24</td>\n",
       "      <td>3.65</td>\n",
       "      <td>No</td>\n",
       "    </tr>\n",
       "  </tbody>\n",
       "</table>\n",
       "</div>"
      ],
      "text/plain": [
       "         Name    ID  Age   GPA Loan\n",
       "0   Nadia, I.  1233   21  3.88   No\n",
       "1   Hanna, J.  1234   23  3.64  Yes\n",
       "2  Alissa, K.  1235   23  3.97  Yes\n",
       "3    Lisa, A.  1236   25  3.45   No\n",
       "4    Aisha, B  1237   24  3.65   No"
      ]
     },
     "execution_count": 60,
     "metadata": {},
     "output_type": "execute_result"
    }
   ],
   "source": [
    "students = {\n",
    "    'Name': ['Nadia, I.', 'Hanna, J.', 'Alissa, K.', 'Lisa, A.', 'Aisha, B'],\n",
    "    'ID': ['1233','1234','1235','1236','1237'],\n",
    "    'Age': [21,23,23,25,24],\n",
    "    'GPA': [3.88, 3.64, 3.97, 3.45, '3.65'],\n",
    "    'Loan': ['No', 'Yes', 'Yes', 'No', 'No'],\n",
    "}\n",
    "\n",
    "df = pd.DataFrame(students)\n",
    "df"
   ]
  },
  {
   "cell_type": "code",
   "execution_count": 62,
   "id": "394009f2",
   "metadata": {},
   "outputs": [
    {
     "data": {
      "text/html": [
       "<div>\n",
       "<style scoped>\n",
       "    .dataframe tbody tr th:only-of-type {\n",
       "        vertical-align: middle;\n",
       "    }\n",
       "\n",
       "    .dataframe tbody tr th {\n",
       "        vertical-align: top;\n",
       "    }\n",
       "\n",
       "    .dataframe thead th {\n",
       "        text-align: right;\n",
       "    }\n",
       "</style>\n",
       "<table border=\"1\" class=\"dataframe\">\n",
       "  <thead>\n",
       "    <tr style=\"text-align: right;\">\n",
       "      <th></th>\n",
       "      <th>Name</th>\n",
       "      <th>ID</th>\n",
       "      <th>Age</th>\n",
       "      <th>GPA</th>\n",
       "      <th>Loan</th>\n",
       "    </tr>\n",
       "  </thead>\n",
       "  <tbody>\n",
       "    <tr>\n",
       "      <th>0</th>\n",
       "      <td>Nadia, I.</td>\n",
       "      <td>1233</td>\n",
       "      <td>21</td>\n",
       "      <td>3.88</td>\n",
       "      <td>0</td>\n",
       "    </tr>\n",
       "    <tr>\n",
       "      <th>1</th>\n",
       "      <td>Hanna, J.</td>\n",
       "      <td>1234</td>\n",
       "      <td>23</td>\n",
       "      <td>3.64</td>\n",
       "      <td>1</td>\n",
       "    </tr>\n",
       "    <tr>\n",
       "      <th>2</th>\n",
       "      <td>Alissa, K.</td>\n",
       "      <td>1235</td>\n",
       "      <td>23</td>\n",
       "      <td>3.97</td>\n",
       "      <td>1</td>\n",
       "    </tr>\n",
       "    <tr>\n",
       "      <th>3</th>\n",
       "      <td>Lisa, A.</td>\n",
       "      <td>1236</td>\n",
       "      <td>25</td>\n",
       "      <td>3.45</td>\n",
       "      <td>0</td>\n",
       "    </tr>\n",
       "    <tr>\n",
       "      <th>4</th>\n",
       "      <td>Aisha, B</td>\n",
       "      <td>1237</td>\n",
       "      <td>24</td>\n",
       "      <td>3.65</td>\n",
       "      <td>0</td>\n",
       "    </tr>\n",
       "  </tbody>\n",
       "</table>\n",
       "</div>"
      ],
      "text/plain": [
       "         Name    ID  Age   GPA  Loan\n",
       "0   Nadia, I.  1233   21  3.88     0\n",
       "1   Hanna, J.  1234   23  3.64     1\n",
       "2  Alissa, K.  1235   23  3.97     1\n",
       "3    Lisa, A.  1236   25  3.45     0\n",
       "4    Aisha, B  1237   24  3.65     0"
      ]
     },
     "execution_count": 62,
     "metadata": {},
     "output_type": "execute_result"
    }
   ],
   "source": [
    "# transform 'No' to 0 and 'Yes' to 1 of the 'Loan' attribute\n",
    "df['Loan'] = df['Loan'].map({'No':0, 'Yes':1})\n",
    "df"
   ]
  },
  {
   "cell_type": "code",
   "execution_count": 66,
   "id": "730fb7e5",
   "metadata": {},
   "outputs": [
    {
     "data": {
      "text/plain": [
       "'Nadia'"
      ]
     },
     "execution_count": 66,
     "metadata": {},
     "output_type": "execute_result"
    }
   ],
   "source": [
    "'Nadia, I.'.split(',')[0]"
   ]
  },
  {
   "cell_type": "code",
   "execution_count": 69,
   "id": "5e0899fe",
   "metadata": {},
   "outputs": [
    {
     "data": {
      "text/html": [
       "<div>\n",
       "<style scoped>\n",
       "    .dataframe tbody tr th:only-of-type {\n",
       "        vertical-align: middle;\n",
       "    }\n",
       "\n",
       "    .dataframe tbody tr th {\n",
       "        vertical-align: top;\n",
       "    }\n",
       "\n",
       "    .dataframe thead th {\n",
       "        text-align: right;\n",
       "    }\n",
       "</style>\n",
       "<table border=\"1\" class=\"dataframe\">\n",
       "  <thead>\n",
       "    <tr style=\"text-align: right;\">\n",
       "      <th></th>\n",
       "      <th>Name</th>\n",
       "      <th>ID</th>\n",
       "      <th>Age</th>\n",
       "      <th>GPA</th>\n",
       "      <th>Loan</th>\n",
       "      <th>First Name</th>\n",
       "    </tr>\n",
       "  </thead>\n",
       "  <tbody>\n",
       "    <tr>\n",
       "      <th>0</th>\n",
       "      <td>Nadia, I.</td>\n",
       "      <td>1233</td>\n",
       "      <td>21</td>\n",
       "      <td>3.88</td>\n",
       "      <td>0</td>\n",
       "      <td>Nadia</td>\n",
       "    </tr>\n",
       "    <tr>\n",
       "      <th>1</th>\n",
       "      <td>Hanna, J.</td>\n",
       "      <td>1234</td>\n",
       "      <td>23</td>\n",
       "      <td>3.64</td>\n",
       "      <td>1</td>\n",
       "      <td>Hanna</td>\n",
       "    </tr>\n",
       "    <tr>\n",
       "      <th>2</th>\n",
       "      <td>Alissa, K.</td>\n",
       "      <td>1235</td>\n",
       "      <td>23</td>\n",
       "      <td>3.97</td>\n",
       "      <td>1</td>\n",
       "      <td>Alissa</td>\n",
       "    </tr>\n",
       "    <tr>\n",
       "      <th>3</th>\n",
       "      <td>Lisa, A.</td>\n",
       "      <td>1236</td>\n",
       "      <td>25</td>\n",
       "      <td>3.45</td>\n",
       "      <td>0</td>\n",
       "      <td>Lisa</td>\n",
       "    </tr>\n",
       "    <tr>\n",
       "      <th>4</th>\n",
       "      <td>Aisha, B</td>\n",
       "      <td>1237</td>\n",
       "      <td>24</td>\n",
       "      <td>3.65</td>\n",
       "      <td>0</td>\n",
       "      <td>Aisha</td>\n",
       "    </tr>\n",
       "  </tbody>\n",
       "</table>\n",
       "</div>"
      ],
      "text/plain": [
       "         Name    ID  Age   GPA  Loan First Name\n",
       "0   Nadia, I.  1233   21  3.88     0      Nadia\n",
       "1   Hanna, J.  1234   23  3.64     1      Hanna\n",
       "2  Alissa, K.  1235   23  3.97     1     Alissa\n",
       "3    Lisa, A.  1236   25  3.45     0       Lisa\n",
       "4    Aisha, B  1237   24  3.65     0      Aisha"
      ]
     },
     "execution_count": 69,
     "metadata": {},
     "output_type": "execute_result"
    }
   ],
   "source": [
    "def getFirstName(name):\n",
    "    return name.split(',')[0]\n",
    "\n",
    "df['First Name'] = df['Name'].apply(getFirstName)\n",
    "df"
   ]
  },
  {
   "cell_type": "code",
   "execution_count": 73,
   "id": "dbf187da",
   "metadata": {},
   "outputs": [
    {
     "data": {
      "text/html": [
       "<div>\n",
       "<style scoped>\n",
       "    .dataframe tbody tr th:only-of-type {\n",
       "        vertical-align: middle;\n",
       "    }\n",
       "\n",
       "    .dataframe tbody tr th {\n",
       "        vertical-align: top;\n",
       "    }\n",
       "\n",
       "    .dataframe thead th {\n",
       "        text-align: right;\n",
       "    }\n",
       "</style>\n",
       "<table border=\"1\" class=\"dataframe\">\n",
       "  <thead>\n",
       "    <tr style=\"text-align: right;\">\n",
       "      <th></th>\n",
       "      <th>Name</th>\n",
       "      <th>ID</th>\n",
       "      <th>Age</th>\n",
       "      <th>GPA</th>\n",
       "      <th>Loan</th>\n",
       "      <th>First Name</th>\n",
       "      <th>Interview</th>\n",
       "    </tr>\n",
       "  </thead>\n",
       "  <tbody>\n",
       "    <tr>\n",
       "      <th>0</th>\n",
       "      <td>Nadia, I.</td>\n",
       "      <td>1233</td>\n",
       "      <td>21</td>\n",
       "      <td>3.88</td>\n",
       "      <td>0</td>\n",
       "      <td>Nadia</td>\n",
       "      <td>Yes</td>\n",
       "    </tr>\n",
       "    <tr>\n",
       "      <th>1</th>\n",
       "      <td>Hanna, J.</td>\n",
       "      <td>1234</td>\n",
       "      <td>23</td>\n",
       "      <td>3.64</td>\n",
       "      <td>1</td>\n",
       "      <td>Hanna</td>\n",
       "      <td>Yes</td>\n",
       "    </tr>\n",
       "    <tr>\n",
       "      <th>2</th>\n",
       "      <td>Alissa, K.</td>\n",
       "      <td>1235</td>\n",
       "      <td>23</td>\n",
       "      <td>3.97</td>\n",
       "      <td>1</td>\n",
       "      <td>Alissa</td>\n",
       "      <td>Yes</td>\n",
       "    </tr>\n",
       "    <tr>\n",
       "      <th>3</th>\n",
       "      <td>Lisa, A.</td>\n",
       "      <td>1236</td>\n",
       "      <td>25</td>\n",
       "      <td>3.45</td>\n",
       "      <td>0</td>\n",
       "      <td>Lisa</td>\n",
       "      <td>No</td>\n",
       "    </tr>\n",
       "    <tr>\n",
       "      <th>4</th>\n",
       "      <td>Aisha, B</td>\n",
       "      <td>1237</td>\n",
       "      <td>24</td>\n",
       "      <td>3.65</td>\n",
       "      <td>0</td>\n",
       "      <td>Aisha</td>\n",
       "      <td>Yes</td>\n",
       "    </tr>\n",
       "  </tbody>\n",
       "</table>\n",
       "</div>"
      ],
      "text/plain": [
       "         Name    ID  Age   GPA  Loan First Name Interview\n",
       "0   Nadia, I.  1233   21  3.88     0      Nadia       Yes\n",
       "1   Hanna, J.  1234   23  3.64     1      Hanna       Yes\n",
       "2  Alissa, K.  1235   23  3.97     1     Alissa       Yes\n",
       "3    Lisa, A.  1236   25  3.45     0       Lisa        No\n",
       "4    Aisha, B  1237   24  3.65     0      Aisha       Yes"
      ]
     },
     "execution_count": 73,
     "metadata": {},
     "output_type": "execute_result"
    }
   ],
   "source": [
    "# create another column in df named 'Interview'. 'Yes' if GPA >= 3.5 otherwise 'No'.\n",
    "df['Interview'] = df['GPA'].apply(lambda x: 'No' if float(x) < 3.5 else 'Yes' )\n",
    "df"
   ]
  },
  {
   "cell_type": "code",
   "execution_count": null,
   "id": "07edb3e3",
   "metadata": {},
   "outputs": [],
   "source": []
  },
  {
   "cell_type": "code",
   "execution_count": null,
   "id": "a187d3bb",
   "metadata": {},
   "outputs": [],
   "source": []
  },
  {
   "cell_type": "code",
   "execution_count": null,
   "id": "db4d7660",
   "metadata": {},
   "outputs": [],
   "source": []
  },
  {
   "cell_type": "code",
   "execution_count": null,
   "id": "c02e07db",
   "metadata": {},
   "outputs": [],
   "source": []
  },
  {
   "cell_type": "code",
   "execution_count": null,
   "id": "c32acb27",
   "metadata": {},
   "outputs": [],
   "source": []
  },
  {
   "cell_type": "code",
   "execution_count": null,
   "id": "42256d7e",
   "metadata": {},
   "outputs": [],
   "source": []
  },
  {
   "cell_type": "code",
   "execution_count": null,
   "id": "2c3dac44",
   "metadata": {},
   "outputs": [],
   "source": []
  },
  {
   "cell_type": "code",
   "execution_count": null,
   "id": "14ecc941",
   "metadata": {},
   "outputs": [],
   "source": []
  },
  {
   "cell_type": "code",
   "execution_count": null,
   "id": "1f9e32dd",
   "metadata": {},
   "outputs": [],
   "source": []
  },
  {
   "cell_type": "code",
   "execution_count": null,
   "id": "f600fd83",
   "metadata": {},
   "outputs": [],
   "source": []
  },
  {
   "cell_type": "code",
   "execution_count": null,
   "id": "42627d1b",
   "metadata": {},
   "outputs": [],
   "source": []
  },
  {
   "cell_type": "code",
   "execution_count": null,
   "id": "17297b31",
   "metadata": {},
   "outputs": [],
   "source": []
  },
  {
   "cell_type": "code",
   "execution_count": null,
   "id": "8fdfe18f",
   "metadata": {},
   "outputs": [],
   "source": []
  },
  {
   "cell_type": "code",
   "execution_count": null,
   "id": "dd54502a",
   "metadata": {},
   "outputs": [],
   "source": []
  },
  {
   "cell_type": "code",
   "execution_count": null,
   "id": "4d020516",
   "metadata": {},
   "outputs": [],
   "source": []
  },
  {
   "cell_type": "code",
   "execution_count": null,
   "id": "4e03816f",
   "metadata": {},
   "outputs": [],
   "source": []
  },
  {
   "cell_type": "code",
   "execution_count": null,
   "id": "92284a20",
   "metadata": {},
   "outputs": [],
   "source": []
  },
  {
   "cell_type": "code",
   "execution_count": null,
   "id": "2b4fae91",
   "metadata": {},
   "outputs": [],
   "source": []
  },
  {
   "cell_type": "code",
   "execution_count": null,
   "id": "fe6cfd3c",
   "metadata": {},
   "outputs": [],
   "source": []
  },
  {
   "cell_type": "code",
   "execution_count": null,
   "id": "510283f1",
   "metadata": {},
   "outputs": [],
   "source": []
  },
  {
   "cell_type": "code",
   "execution_count": null,
   "id": "13ce7e37",
   "metadata": {},
   "outputs": [],
   "source": []
  },
  {
   "cell_type": "code",
   "execution_count": null,
   "id": "2b53df85",
   "metadata": {},
   "outputs": [],
   "source": []
  }
 ],
 "metadata": {
  "kernelspec": {
   "display_name": "Python 3 (ipykernel)",
   "language": "python",
   "name": "python3"
  },
  "language_info": {
   "codemirror_mode": {
    "name": "ipython",
    "version": 3
   },
   "file_extension": ".py",
   "mimetype": "text/x-python",
   "name": "python",
   "nbconvert_exporter": "python",
   "pygments_lexer": "ipython3",
   "version": "3.9.13"
  }
 },
 "nbformat": 4,
 "nbformat_minor": 5
}
