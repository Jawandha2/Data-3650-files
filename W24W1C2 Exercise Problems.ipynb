{
 "cells": [
  {
   "cell_type": "markdown",
   "id": "49b9daaa",
   "metadata": {},
   "source": [
    "# <font color = 'darkred'> Exercise Problems\n",
    "- List\n",
    "- Conditional statements\n",
    "- Repetitive statements"
   ]
  },
  {
   "cell_type": "code",
   "execution_count": null,
   "id": "005298ca",
   "metadata": {},
   "outputs": [],
   "source": [
    "# (1) Create a list using these elements: Red, Green, Blue, Orange. Display Blue in output\n"
   ]
  },
  {
   "cell_type": "code",
   "execution_count": null,
   "id": "e17e1821",
   "metadata": {},
   "outputs": [],
   "source": []
  },
  {
   "cell_type": "code",
   "execution_count": null,
   "id": "d84cd312",
   "metadata": {},
   "outputs": [],
   "source": [
    "# (2) Access 4 from this list [1,2,[3,4]].\n"
   ]
  },
  {
   "cell_type": "code",
   "execution_count": null,
   "id": "76df2279",
   "metadata": {},
   "outputs": [],
   "source": []
  },
  {
   "cell_type": "code",
   "execution_count": null,
   "id": "1e68dc90",
   "metadata": {},
   "outputs": [],
   "source": [
    "# (3) Acess the values between 5 and 8 from the list [1,3,4,5,7,8,9].\n"
   ]
  },
  {
   "cell_type": "code",
   "execution_count": null,
   "id": "2adaea5f",
   "metadata": {},
   "outputs": [],
   "source": []
  },
  {
   "cell_type": "code",
   "execution_count": null,
   "id": "4e1f6688",
   "metadata": {},
   "outputs": [],
   "source": [
    "# (4) Display the elements of the list [1,3,4,5,7,8,9] in reverse order using the concept of slicing.\n"
   ]
  },
  {
   "cell_type": "code",
   "execution_count": null,
   "id": "57fb9dcc",
   "metadata": {},
   "outputs": [],
   "source": []
  },
  {
   "cell_type": "code",
   "execution_count": null,
   "id": "c6254591",
   "metadata": {},
   "outputs": [],
   "source": [
    "# (5) Create a list of 10 integers. Create three additional lists: group1 will take the first 3 numbers, group2 will take\n",
    "# the next three numbers and group3 will take the rest of the numbers.\n"
   ]
  },
  {
   "cell_type": "code",
   "execution_count": null,
   "id": "bdf225b3",
   "metadata": {},
   "outputs": [],
   "source": []
  },
  {
   "cell_type": "code",
   "execution_count": null,
   "id": "d00ea6e8",
   "metadata": {},
   "outputs": [],
   "source": [
    "# (6) Create a list of n integers. The value of n is given by the user. \n",
    "# If n is odd, show the middle element. Otherwise, show the average of the middle two elements of the list.\n"
   ]
  },
  {
   "cell_type": "code",
   "execution_count": null,
   "id": "cb2d6a80",
   "metadata": {},
   "outputs": [],
   "source": []
  },
  {
   "cell_type": "code",
   "execution_count": null,
   "id": "1c240d7d",
   "metadata": {},
   "outputs": [],
   "source": [
    "# (7) Input a year from user and determine whether the year is leap year or not.\n"
   ]
  },
  {
   "cell_type": "code",
   "execution_count": null,
   "id": "91bd0506",
   "metadata": {},
   "outputs": [],
   "source": []
  },
  {
   "cell_type": "code",
   "execution_count": null,
   "id": "aeff4cda",
   "metadata": {},
   "outputs": [],
   "source": [
    "# (8) Take an hour as input and prints a greeting based on the time of day:\n",
    "# Print \"Good Morning\" for 5 AM to 11:59 AM. Print \"Good Afternoon\" fro 12 PM to 4:59 PM. \n",
    "# Otherwise, print 'Good Evening'.\n"
   ]
  },
  {
   "cell_type": "code",
   "execution_count": null,
   "id": "7d096fbc",
   "metadata": {},
   "outputs": [],
   "source": []
  },
  {
   "cell_type": "code",
   "execution_count": null,
   "id": "2f368e2c",
   "metadata": {},
   "outputs": [],
   "source": [
    "# (9) Create a list of 20 randomly generated integers. \n",
    "# Create a new list containing only the even numbers from the first list.\n"
   ]
  },
  {
   "cell_type": "code",
   "execution_count": null,
   "id": "64755004",
   "metadata": {},
   "outputs": [],
   "source": []
  }
 ],
 "metadata": {
  "kernelspec": {
   "display_name": "Python 3 (ipykernel)",
   "language": "python",
   "name": "python3"
  },
  "language_info": {
   "codemirror_mode": {
    "name": "ipython",
    "version": 3
   },
   "file_extension": ".py",
   "mimetype": "text/x-python",
   "name": "python",
   "nbconvert_exporter": "python",
   "pygments_lexer": "ipython3",
   "version": "3.9.13"
  }
 },
 "nbformat": 4,
 "nbformat_minor": 5
}
