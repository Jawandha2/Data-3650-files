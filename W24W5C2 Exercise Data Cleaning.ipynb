{
 "cells": [
  {
   "cell_type": "markdown",
   "id": "4b1521c9",
   "metadata": {},
   "source": [
    "## <font color='maroon'> Exercise"
   ]
  },
  {
   "cell_type": "code",
   "execution_count": null,
   "id": "1e460e54",
   "metadata": {},
   "outputs": [],
   "source": [
    "# load Titanic dataset\n"
   ]
  },
  {
   "cell_type": "code",
   "execution_count": null,
   "id": "64db5c71",
   "metadata": {},
   "outputs": [],
   "source": [
    "# Number of missing values in the Cabin column?\n"
   ]
  },
  {
   "cell_type": "code",
   "execution_count": null,
   "id": "a73ec118",
   "metadata": {},
   "outputs": [],
   "source": [
    "# How many non emply values in 'Cabin' column?\n"
   ]
  },
  {
   "cell_type": "code",
   "execution_count": null,
   "id": "de77a0bf",
   "metadata": {},
   "outputs": [],
   "source": [
    "# Identify the duplicate ticktets. How many duplicates?\n"
   ]
  },
  {
   "cell_type": "code",
   "execution_count": null,
   "id": "8bbdef74",
   "metadata": {},
   "outputs": [],
   "source": [
    "# Identify the top 10 duplicatd tickets\n"
   ]
  },
  {
   "cell_type": "code",
   "execution_count": null,
   "id": "1b38fb70",
   "metadata": {},
   "outputs": [],
   "source": [
    "# Number of missing values in the Age column?\n"
   ]
  },
  {
   "cell_type": "code",
   "execution_count": null,
   "id": "0b6f2a1f",
   "metadata": {},
   "outputs": [],
   "source": [
    "# Show the records for which 'Age' is missing\n"
   ]
  },
  {
   "cell_type": "code",
   "execution_count": null,
   "id": "1b70ccc0",
   "metadata": {},
   "outputs": [],
   "source": [
    "# replace all null values of Age by median\n"
   ]
  },
  {
   "cell_type": "code",
   "execution_count": null,
   "id": "041c7d3c",
   "metadata": {},
   "outputs": [],
   "source": [
    "# Transform 1, 2 and 3 to First Class, Business Class and Economic Class respectively as the passenger class\n"
   ]
  },
  {
   "cell_type": "code",
   "execution_count": null,
   "id": "e0495d44",
   "metadata": {},
   "outputs": [],
   "source": [
    "# Change the column name 'Sex' to 'Gender'\n"
   ]
  },
  {
   "cell_type": "code",
   "execution_count": null,
   "id": "d788673a",
   "metadata": {},
   "outputs": [],
   "source": [
    "# Transform the male and female as Male and Female in Gender column\n"
   ]
  }
 ],
 "metadata": {
  "kernelspec": {
   "display_name": "Python 3 (ipykernel)",
   "language": "python",
   "name": "python3"
  },
  "language_info": {
   "codemirror_mode": {
    "name": "ipython",
    "version": 3
   },
   "file_extension": ".py",
   "mimetype": "text/x-python",
   "name": "python",
   "nbconvert_exporter": "python",
   "pygments_lexer": "ipython3",
   "version": "3.9.13"
  }
 },
 "nbformat": 4,
 "nbformat_minor": 5
}
