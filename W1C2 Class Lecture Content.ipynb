{
 "cells": [
  {
   "cell_type": "markdown",
   "id": "c076298f",
   "metadata": {},
   "source": [
    "# Week 1 Class 2: Python Basic\n",
    "- List\n",
    "- Conditional Statements\n",
    "- Repetitive statements (i.e., for loop)"
   ]
  },
  {
   "cell_type": "markdown",
   "id": "a3a73bf8",
   "metadata": {},
   "source": [
    "### List\n",
    "- a list can contain any data types\n",
    "- a list can be nested"
   ]
  },
  {
   "cell_type": "code",
   "execution_count": 1,
   "id": "c160660f",
   "metadata": {},
   "outputs": [
    {
     "data": {
      "text/plain": [
       "[1, 2, 4]"
      ]
     },
     "execution_count": 1,
     "metadata": {},
     "output_type": "execute_result"
    }
   ],
   "source": [
    "[1,2,4]"
   ]
  },
  {
   "cell_type": "code",
   "execution_count": 3,
   "id": "d4f2ad39",
   "metadata": {},
   "outputs": [
    {
     "data": {
      "text/plain": [
       "['a', 'b', 6]"
      ]
     },
     "execution_count": 3,
     "metadata": {},
     "output_type": "execute_result"
    }
   ],
   "source": [
    "aList = ['a', 'b', 6]\n",
    "aList"
   ]
  },
  {
   "cell_type": "code",
   "execution_count": 4,
   "id": "91a02528",
   "metadata": {},
   "outputs": [
    {
     "data": {
      "text/plain": [
       "'a'"
      ]
     },
     "execution_count": 4,
     "metadata": {},
     "output_type": "execute_result"
    }
   ],
   "source": [
    "# acess list element\n",
    "aList[0]"
   ]
  },
  {
   "cell_type": "code",
   "execution_count": 5,
   "id": "9dc54bde",
   "metadata": {},
   "outputs": [
    {
     "data": {
      "text/plain": [
       "6"
      ]
     },
     "execution_count": 5,
     "metadata": {},
     "output_type": "execute_result"
    }
   ],
   "source": [
    "aList[2]"
   ]
  },
  {
   "cell_type": "code",
   "execution_count": 6,
   "id": "fd729a22",
   "metadata": {},
   "outputs": [],
   "source": [
    "aList[2] = 'c'"
   ]
  },
  {
   "cell_type": "code",
   "execution_count": 7,
   "id": "ef65e1fb",
   "metadata": {},
   "outputs": [
    {
     "name": "stdout",
     "output_type": "stream",
     "text": [
      "['a', 'b', 'c']\n"
     ]
    }
   ],
   "source": [
    "print(aList)"
   ]
  },
  {
   "cell_type": "code",
   "execution_count": 8,
   "id": "1807aacb",
   "metadata": {},
   "outputs": [
    {
     "name": "stdout",
     "output_type": "stream",
     "text": [
      "['a', 'b', 'c', 'd']\n"
     ]
    }
   ],
   "source": [
    "# add an element at the end of a list\n",
    "aList.append('d')\n",
    "print(aList)"
   ]
  },
  {
   "cell_type": "code",
   "execution_count": 12,
   "id": "89c86c26",
   "metadata": {},
   "outputs": [
    {
     "data": {
      "text/plain": [
       "['a', 'b']"
      ]
     },
     "execution_count": 12,
     "metadata": {},
     "output_type": "execute_result"
    }
   ],
   "source": [
    "# slicing:\n",
    "# basic systax: [startIndex : endIndex] # keep in mind --> endIndex is not inclusive\n",
    "aList[0:2]"
   ]
  },
  {
   "cell_type": "code",
   "execution_count": 13,
   "id": "73ebf592",
   "metadata": {},
   "outputs": [
    {
     "data": {
      "text/plain": [
       "['b', 'c']"
      ]
     },
     "execution_count": 13,
     "metadata": {},
     "output_type": "execute_result"
    }
   ],
   "source": [
    "# access b and c\n",
    "aList[1:3]"
   ]
  },
  {
   "cell_type": "markdown",
   "id": "cb1a79be",
   "metadata": {},
   "source": [
    "### Conditional Statement\n",
    "- if, elif, else"
   ]
  },
  {
   "cell_type": "code",
   "execution_count": 19,
   "id": "dd53b818",
   "metadata": {},
   "outputs": [
    {
     "name": "stdout",
     "output_type": "stream",
     "text": [
      "Enter an integer: 6\n",
      "Even\n"
     ]
    }
   ],
   "source": [
    "# read a value from user and determine whether the value is even or odd\n",
    "value = int(input('Enter an integer: '))\n",
    "if value % 2 == 0:\n",
    "    print('Even')\n",
    "else:\n",
    "    print('Odd')"
   ]
  },
  {
   "cell_type": "code",
   "execution_count": 22,
   "id": "b62c1bb0",
   "metadata": {},
   "outputs": [
    {
     "name": "stdout",
     "output_type": "stream",
     "text": [
      "A is less than B\n"
     ]
    }
   ],
   "source": [
    "# whether the value of a is equal to, greather than or less than b\n",
    "a = 7\n",
    "b = 9\n",
    "if a > b:\n",
    "    print('A is greater than B')\n",
    "elif a < b:\n",
    "    print('A is less than B')\n",
    "else:\n",
    "    print('A is equal to B')"
   ]
  },
  {
   "cell_type": "markdown",
   "id": "36dd21e1",
   "metadata": {},
   "source": [
    "### Repetitive Statement (Iterative statement or loop)"
   ]
  },
  {
   "cell_type": "code",
   "execution_count": 23,
   "id": "57af083e",
   "metadata": {},
   "outputs": [
    {
     "name": "stdout",
     "output_type": "stream",
     "text": [
      "30\n"
     ]
    }
   ],
   "source": [
    "# find the summation of the elements of a list\n",
    "aList = [4,5,6,7,8]\n",
    "sumOfList = 0\n",
    "for item in aList:\n",
    "    sumOfList = item + sumOfList\n",
    "print(sumOfList)"
   ]
  },
  {
   "cell_type": "code",
   "execution_count": 27,
   "id": "9f35df98",
   "metadata": {},
   "outputs": [
    {
     "data": {
      "text/plain": [
       "[2, 3, 4, 5, 6, 7, 8, 9]"
      ]
     },
     "execution_count": 27,
     "metadata": {},
     "output_type": "execute_result"
    }
   ],
   "source": [
    "list(range(2,10))"
   ]
  },
  {
   "cell_type": "code",
   "execution_count": 29,
   "id": "fc0ab408",
   "metadata": {},
   "outputs": [
    {
     "name": "stdout",
     "output_type": "stream",
     "text": [
      "Something \n",
      "Another thing\n",
      "Something \n",
      "Another thing\n",
      "Something \n",
      "Another thing\n",
      "Something \n",
      "Another thing\n",
      "Something \n",
      "Another thing\n",
      "Something \n",
      "Another thing\n",
      "Something \n",
      "Another thing\n",
      "Something \n",
      "Another thing\n",
      "Something \n",
      "Another thing\n",
      "Something \n",
      "Another thing\n"
     ]
    }
   ],
   "source": [
    "for i in range(10):\n",
    "    print('Something ')\n",
    "    print('Another thing')"
   ]
  },
  {
   "cell_type": "code",
   "execution_count": 30,
   "id": "e140019e",
   "metadata": {},
   "outputs": [
    {
     "name": "stdout",
     "output_type": "stream",
     "text": [
      "5050\n"
     ]
    }
   ],
   "source": [
    "sumOfList = 0\n",
    "for item in range(101):\n",
    "    sumOfList = sumOfList + item\n",
    "print(sumOfList)"
   ]
  },
  {
   "cell_type": "code",
   "execution_count": null,
   "id": "dba8cb06",
   "metadata": {},
   "outputs": [],
   "source": []
  },
  {
   "cell_type": "code",
   "execution_count": null,
   "id": "291b0221",
   "metadata": {},
   "outputs": [],
   "source": []
  },
  {
   "cell_type": "code",
   "execution_count": null,
   "id": "a05e6ca3",
   "metadata": {},
   "outputs": [],
   "source": []
  },
  {
   "cell_type": "code",
   "execution_count": null,
   "id": "6e22f90e",
   "metadata": {},
   "outputs": [],
   "source": []
  },
  {
   "cell_type": "code",
   "execution_count": null,
   "id": "99ed705b",
   "metadata": {},
   "outputs": [],
   "source": []
  },
  {
   "cell_type": "code",
   "execution_count": null,
   "id": "2f2c23f1",
   "metadata": {},
   "outputs": [],
   "source": []
  }
 ],
 "metadata": {
  "kernelspec": {
   "display_name": "Python 3 (ipykernel)",
   "language": "python",
   "name": "python3"
  },
  "language_info": {
   "codemirror_mode": {
    "name": "ipython",
    "version": 3
   },
   "file_extension": ".py",
   "mimetype": "text/x-python",
   "name": "python",
   "nbconvert_exporter": "python",
   "pygments_lexer": "ipython3",
   "version": "3.9.13"
  }
 },
 "nbformat": 4,
 "nbformat_minor": 5
}
