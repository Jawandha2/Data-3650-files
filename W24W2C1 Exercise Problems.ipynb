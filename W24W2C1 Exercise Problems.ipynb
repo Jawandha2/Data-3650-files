{
 "cells": [
  {
   "cell_type": "markdown",
   "id": "465358b3",
   "metadata": {},
   "source": [
    "# <font color='red'> Exercise Problems"
   ]
  },
  {
   "cell_type": "code",
   "execution_count": null,
   "id": "e766677d",
   "metadata": {},
   "outputs": [],
   "source": [
    "# (1) Create a list of integer numbers from 10 to 25. Display 19,20,21 from the list."
   ]
  },
  {
   "cell_type": "code",
   "execution_count": null,
   "id": "910ddbb6",
   "metadata": {},
   "outputs": [],
   "source": []
  },
  {
   "cell_type": "code",
   "execution_count": null,
   "id": "515abfaa",
   "metadata": {},
   "outputs": [],
   "source": [
    "# (2) Create a list of integer numbers from 10 to 25. Display all even numbers from the list. Use slicing."
   ]
  },
  {
   "cell_type": "code",
   "execution_count": null,
   "id": "f33316f4",
   "metadata": {},
   "outputs": [],
   "source": []
  },
  {
   "cell_type": "code",
   "execution_count": null,
   "id": "9e1487f9",
   "metadata": {},
   "outputs": [],
   "source": [
    "# (3) Extract 4, 5 from the list: [[1, 2, 3], [4, 5, 6], [7, 8, 9]]\n"
   ]
  },
  {
   "cell_type": "code",
   "execution_count": null,
   "id": "5ec4de86",
   "metadata": {},
   "outputs": [],
   "source": []
  },
  {
   "cell_type": "code",
   "execution_count": null,
   "id": "d7eb8173",
   "metadata": {},
   "outputs": [],
   "source": [
    "# (4) Using the concept of slicing, display [50, 30, 10] from [10, 20, 30, 40, 50].\n"
   ]
  },
  {
   "cell_type": "code",
   "execution_count": null,
   "id": "9cfb004b",
   "metadata": {},
   "outputs": [],
   "source": []
  },
  {
   "cell_type": "code",
   "execution_count": null,
   "id": "9d0e641d",
   "metadata": {},
   "outputs": [],
   "source": [
    "# (5) Create the list [1, 4, 9, 16, 25] using list comprehension.\n"
   ]
  },
  {
   "cell_type": "code",
   "execution_count": null,
   "id": "10ab8a62",
   "metadata": {},
   "outputs": [],
   "source": []
  },
  {
   "cell_type": "code",
   "execution_count": null,
   "id": "546da6d6",
   "metadata": {},
   "outputs": [],
   "source": [
    "# (6) Create all the even numbers between 2 to 20 using list comprehension\n"
   ]
  },
  {
   "cell_type": "code",
   "execution_count": null,
   "id": "82e950d4",
   "metadata": {},
   "outputs": [],
   "source": []
  },
  {
   "cell_type": "code",
   "execution_count": null,
   "id": "4e2ca96f",
   "metadata": {},
   "outputs": [],
   "source": [
    "# (7) Use list comprehension to trsnform all the words of the following list to their uppercase.\n"
   ]
  },
  {
   "cell_type": "code",
   "execution_count": null,
   "id": "799cea8e",
   "metadata": {},
   "outputs": [],
   "source": []
  },
  {
   "cell_type": "code",
   "execution_count": null,
   "id": "723cefde",
   "metadata": {},
   "outputs": [],
   "source": [
    "# (8) Create a dictionary where the values of Name, Age and Program are Alissa, 25 and Data Analytics respectively.\n"
   ]
  },
  {
   "cell_type": "code",
   "execution_count": null,
   "id": "de1c2b2e",
   "metadata": {},
   "outputs": [],
   "source": []
  },
  {
   "cell_type": "code",
   "execution_count": null,
   "id": "35453bfa",
   "metadata": {},
   "outputs": [],
   "source": [
    "# (9) Create a dictionary for 4 students (Alissa, Samina, Diana, Maria) as keys and \n",
    "# their grades (choose any 4 grades) as values.\n",
    "# display the grades of Samina and Maria from the dictionary.\n"
   ]
  },
  {
   "cell_type": "code",
   "execution_count": null,
   "id": "8efebc26",
   "metadata": {},
   "outputs": [],
   "source": []
  }
 ],
 "metadata": {
  "kernelspec": {
   "display_name": "Python 3 (ipykernel)",
   "language": "python",
   "name": "python3"
  },
  "language_info": {
   "codemirror_mode": {
    "name": "ipython",
    "version": 3
   },
   "file_extension": ".py",
   "mimetype": "text/x-python",
   "name": "python",
   "nbconvert_exporter": "python",
   "pygments_lexer": "ipython3",
   "version": "3.9.13"
  }
 },
 "nbformat": 4,
 "nbformat_minor": 5
}
