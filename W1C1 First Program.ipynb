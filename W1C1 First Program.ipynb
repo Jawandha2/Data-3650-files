{
 "cells": [
  {
   "cell_type": "markdown",
   "id": "eb16fbbc",
   "metadata": {},
   "source": [
    "# <font color ='green'> IPython </font>\n",
    "## This is a subsection\n",
    "IPython is a powerful interactive Python interpreter. IPython provides:\n",
    "- an advanced interactive python shell\n",
    "- a web-based notebook with the same core features\n",
    "- Easy to use\n",
    "- Support for data visualization"
   ]
  },
  {
   "cell_type": "code",
   "execution_count": 1,
   "id": "759d01c6",
   "metadata": {},
   "outputs": [
    {
     "data": {
      "text/plain": [
       "5"
      ]
     },
     "execution_count": 1,
     "metadata": {},
     "output_type": "execute_result"
    }
   ],
   "source": [
    "2 + 3"
   ]
  },
  {
   "cell_type": "code",
   "execution_count": 3,
   "id": "d1ff64ae",
   "metadata": {},
   "outputs": [
    {
     "data": {
      "text/plain": [
       "3"
      ]
     },
     "execution_count": 3,
     "metadata": {},
     "output_type": "execute_result"
    }
   ],
   "source": [
    "9 - 6"
   ]
  },
  {
   "cell_type": "markdown",
   "id": "1d3da151",
   "metadata": {},
   "source": [
    "### Print function"
   ]
  },
  {
   "cell_type": "code",
   "execution_count": 4,
   "id": "b050b834",
   "metadata": {},
   "outputs": [
    {
     "data": {
      "text/plain": [
       "'Welcome to DATA3650'"
      ]
     },
     "execution_count": 4,
     "metadata": {},
     "output_type": "execute_result"
    }
   ],
   "source": [
    "'Welcome to DATA3650'"
   ]
  },
  {
   "cell_type": "code",
   "execution_count": 5,
   "id": "5b958a2e",
   "metadata": {},
   "outputs": [
    {
     "name": "stdout",
     "output_type": "stream",
     "text": [
      "Welcome to DATA3650\n"
     ]
    }
   ],
   "source": [
    "print('Welcome to DATA3650')"
   ]
  },
  {
   "cell_type": "code",
   "execution_count": 6,
   "id": "8108f8bd",
   "metadata": {},
   "outputs": [
    {
     "name": "stdout",
     "output_type": "stream",
     "text": [
      "Welcome \n",
      " to \n",
      " DATA3650\n"
     ]
    }
   ],
   "source": [
    "print('Welcome \\n to \\n DATA3650')"
   ]
  },
  {
   "cell_type": "markdown",
   "id": "a21bf5b0",
   "metadata": {},
   "source": [
    "### Comments"
   ]
  },
  {
   "cell_type": "code",
   "execution_count": 7,
   "id": "54b0aa7f",
   "metadata": {},
   "outputs": [
    {
     "name": "stdout",
     "output_type": "stream",
     "text": [
      "The comment is not a part of the code\n"
     ]
    }
   ],
   "source": [
    "# This is a single line comment\n",
    "print('The comment is not a part of the code')"
   ]
  },
  {
   "cell_type": "code",
   "execution_count": 8,
   "id": "db33b15c",
   "metadata": {},
   "outputs": [],
   "source": [
    "# this is one line\n",
    "# this is another line of comment"
   ]
  },
  {
   "cell_type": "code",
   "execution_count": 9,
   "id": "ceccd3a7",
   "metadata": {},
   "outputs": [
    {
     "data": {
      "text/plain": [
       "'\\nthis is a comment\\nthis is also a comment in a \\nmultiple line\\n'"
      ]
     },
     "execution_count": 9,
     "metadata": {},
     "output_type": "execute_result"
    }
   ],
   "source": [
    "'''\n",
    "this is a comment\n",
    "this is also a comment in a \n",
    "multiple line\n",
    "'''"
   ]
  },
  {
   "cell_type": "markdown",
   "id": "1c11add7",
   "metadata": {},
   "source": [
    "### Variables"
   ]
  },
  {
   "cell_type": "code",
   "execution_count": 10,
   "id": "b5a7fd19",
   "metadata": {},
   "outputs": [
    {
     "ename": "TypeError",
     "evalue": "unsupported operand type(s) for +: 'int' and 'str'",
     "output_type": "error",
     "traceback": [
      "\u001b[1;31m---------------------------------------------------------------------------\u001b[0m",
      "\u001b[1;31mTypeError\u001b[0m                                 Traceback (most recent call last)",
      "\u001b[1;32m~\\AppData\\Local\\Temp\\ipykernel_11484\\1259580053.py\u001b[0m in \u001b[0;36m<module>\u001b[1;34m\u001b[0m\n\u001b[0;32m      5\u001b[0m \u001b[0mnum4\u001b[0m \u001b[1;33m=\u001b[0m \u001b[1;36m2.5\u001b[0m\u001b[1;33m\u001b[0m\u001b[1;33m\u001b[0m\u001b[0m\n\u001b[0;32m      6\u001b[0m \u001b[0mnum5\u001b[0m \u001b[1;33m=\u001b[0m \u001b[1;36m1.999\u001b[0m\u001b[1;33m\u001b[0m\u001b[1;33m\u001b[0m\u001b[0m\n\u001b[1;32m----> 7\u001b[1;33m \u001b[0mresult\u001b[0m \u001b[1;33m=\u001b[0m \u001b[0mnum1\u001b[0m \u001b[1;33m+\u001b[0m \u001b[0mnum3\u001b[0m\u001b[1;33m\u001b[0m\u001b[1;33m\u001b[0m\u001b[0m\n\u001b[0m\u001b[0;32m      8\u001b[0m \u001b[0mresult\u001b[0m\u001b[1;33m\u001b[0m\u001b[1;33m\u001b[0m\u001b[0m\n",
      "\u001b[1;31mTypeError\u001b[0m: unsupported operand type(s) for +: 'int' and 'str'"
     ]
    }
   ],
   "source": [
    "# What will be the output?\n",
    "num1 = 5\n",
    "num2 = 3\n",
    "num3 = '5'\n",
    "num4 = 2.5\n",
    "num5 = 1.999\n",
    "result = num1 + num3\n",
    "result"
   ]
  },
  {
   "cell_type": "code",
   "execution_count": 13,
   "id": "fa0dd942",
   "metadata": {},
   "outputs": [
    {
     "data": {
      "text/plain": [
       "10"
      ]
     },
     "execution_count": 13,
     "metadata": {},
     "output_type": "execute_result"
    }
   ],
   "source": [
    "result = num1 + int(num3)\n",
    "result"
   ]
  },
  {
   "cell_type": "markdown",
   "id": "b30cad6f",
   "metadata": {},
   "source": [
    "### Arithmetic Operators"
   ]
  },
  {
   "cell_type": "code",
   "execution_count": 14,
   "id": "66cc8198",
   "metadata": {},
   "outputs": [
    {
     "data": {
      "text/plain": [
       "5"
      ]
     },
     "execution_count": 14,
     "metadata": {},
     "output_type": "execute_result"
    }
   ],
   "source": [
    "2 + 3"
   ]
  },
  {
   "cell_type": "code",
   "execution_count": 15,
   "id": "fca6f096",
   "metadata": {},
   "outputs": [
    {
     "data": {
      "text/plain": [
       "3"
      ]
     },
     "execution_count": 15,
     "metadata": {},
     "output_type": "execute_result"
    }
   ],
   "source": [
    "9 - 6"
   ]
  },
  {
   "cell_type": "code",
   "execution_count": 16,
   "id": "00a4f383",
   "metadata": {},
   "outputs": [
    {
     "data": {
      "text/plain": [
       "6"
      ]
     },
     "execution_count": 16,
     "metadata": {},
     "output_type": "execute_result"
    }
   ],
   "source": [
    "2 * 3"
   ]
  },
  {
   "cell_type": "code",
   "execution_count": 17,
   "id": "9b67e960",
   "metadata": {},
   "outputs": [
    {
     "data": {
      "text/plain": [
       "2.6666666666666665"
      ]
     },
     "execution_count": 17,
     "metadata": {},
     "output_type": "execute_result"
    }
   ],
   "source": [
    "# division\n",
    "8 / 3"
   ]
  },
  {
   "cell_type": "code",
   "execution_count": 18,
   "id": "106c98e9",
   "metadata": {},
   "outputs": [
    {
     "data": {
      "text/plain": [
       "2"
      ]
     },
     "execution_count": 18,
     "metadata": {},
     "output_type": "execute_result"
    }
   ],
   "source": [
    "# floor division\n",
    "8 // 3"
   ]
  },
  {
   "cell_type": "code",
   "execution_count": 19,
   "id": "03d2794f",
   "metadata": {},
   "outputs": [
    {
     "data": {
      "text/plain": [
       "2"
      ]
     },
     "execution_count": 19,
     "metadata": {},
     "output_type": "execute_result"
    }
   ],
   "source": [
    "# Modulus division\n",
    "8 % 3"
   ]
  },
  {
   "cell_type": "markdown",
   "id": "bc950ef5",
   "metadata": {},
   "source": [
    "### Relational and Assignment Operators"
   ]
  },
  {
   "cell_type": "code",
   "execution_count": null,
   "id": "b4db9774",
   "metadata": {},
   "outputs": [],
   "source": [
    "# Relational operators: > < <= >= == !=\n",
    "# Assignment operator: ="
   ]
  },
  {
   "cell_type": "markdown",
   "id": "b929e42b",
   "metadata": {},
   "source": [
    "### Strings\n",
    "- a sequence of characters\n",
    "- it can be declared using either a single quote or double quote"
   ]
  },
  {
   "cell_type": "code",
   "execution_count": 20,
   "id": "40fed639",
   "metadata": {},
   "outputs": [
    {
     "name": "stdout",
     "output_type": "stream",
     "text": [
      "this is a single quote string\n"
     ]
    }
   ],
   "source": [
    "myString = 'this is a single quote string'\n",
    "print(myString)"
   ]
  },
  {
   "cell_type": "code",
   "execution_count": 22,
   "id": "c2b5ba62",
   "metadata": {},
   "outputs": [
    {
     "name": "stdout",
     "output_type": "stream",
     "text": [
      "this is a double quote string\n"
     ]
    }
   ],
   "source": [
    "myString = \"this is a double quote string\"\n",
    "print(myString)"
   ]
  },
  {
   "cell_type": "code",
   "execution_count": null,
   "id": "64da5ede",
   "metadata": {},
   "outputs": [],
   "source": []
  },
  {
   "cell_type": "markdown",
   "id": "fc01e9ff",
   "metadata": {},
   "source": [
    "### Exercise problems"
   ]
  },
  {
   "cell_type": "code",
   "execution_count": 23,
   "id": "bf43f793",
   "metadata": {},
   "outputs": [],
   "source": [
    "# (1) Declare two variables: age and name. Print 'Name' is 'age' years old.\n"
   ]
  },
  {
   "cell_type": "code",
   "execution_count": 24,
   "id": "9f5dfdbd",
   "metadata": {},
   "outputs": [],
   "source": [
    "# (2) Take the age and name as user input. Print 'Name' is 'age' years old.\n"
   ]
  },
  {
   "cell_type": "code",
   "execution_count": 25,
   "id": "029e0851",
   "metadata": {},
   "outputs": [],
   "source": [
    "# (3) Take three real numbers as input from the user and calculate their average\n"
   ]
  },
  {
   "cell_type": "code",
   "execution_count": 26,
   "id": "55629219",
   "metadata": {},
   "outputs": [],
   "source": [
    "# (4) A certain number of items need to be packed into boxes. Take the total number of items and the number of items that \n",
    "# can fit into each box as input. How many boxes will be needed and how many items will be left?\n"
   ]
  },
  {
   "cell_type": "code",
   "execution_count": 27,
   "id": "81af8c50",
   "metadata": {},
   "outputs": [],
   "source": [
    "# (5) Declare two strings variables. Join the two strings and insert a black space between them.\n"
   ]
  },
  {
   "cell_type": "code",
   "execution_count": 28,
   "id": "12aeab33",
   "metadata": {},
   "outputs": [],
   "source": [
    "# (6) Declare a string and find its length\n"
   ]
  },
  {
   "cell_type": "code",
   "execution_count": 29,
   "id": "40626f38",
   "metadata": {},
   "outputs": [],
   "source": [
    "# (7) Declare a string and display the first and last characters\n"
   ]
  },
  {
   "cell_type": "code",
   "execution_count": 30,
   "id": "178bbce7",
   "metadata": {},
   "outputs": [],
   "source": [
    "# (8) Declare 'DATA3650' as a string and extracts the substring 'TA' from it.\n"
   ]
  },
  {
   "cell_type": "code",
   "execution_count": 31,
   "id": "6a8964df",
   "metadata": {},
   "outputs": [],
   "source": [
    "# (9) Declare 'Python Basic' as a string. Convert the string to its upper case.\n"
   ]
  },
  {
   "cell_type": "code",
   "execution_count": null,
   "id": "f719c736",
   "metadata": {},
   "outputs": [],
   "source": [
    "# (10) Declare 'Python Basic in DATA3650' as a string. Extracts each words and show the word count.\n"
   ]
  }
 ],
 "metadata": {
  "kernelspec": {
   "display_name": "Python 3 (ipykernel)",
   "language": "python",
   "name": "python3"
  },
  "language_info": {
   "codemirror_mode": {
    "name": "ipython",
    "version": 3
   },
   "file_extension": ".py",
   "mimetype": "text/x-python",
   "name": "python",
   "nbconvert_exporter": "python",
   "pygments_lexer": "ipython3",
   "version": "3.9.13"
  }
 },
 "nbformat": 4,
 "nbformat_minor": 5
}
