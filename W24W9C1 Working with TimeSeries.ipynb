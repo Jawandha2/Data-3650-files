{
 "cells": [
  {
   "cell_type": "code",
   "execution_count": 1,
   "id": "9e13dc79",
   "metadata": {},
   "outputs": [],
   "source": [
    "# import librareis\n",
    "import numpy as np\n",
    "import pandas as pd\n",
    "import matplotlib.pyplot as plt\n",
    "%matplotlib inline"
   ]
  },
  {
   "cell_type": "code",
   "execution_count": 2,
   "id": "73d11f85",
   "metadata": {},
   "outputs": [],
   "source": [
    "# importing date and time library\n",
    "from datetime import datetime"
   ]
  },
  {
   "cell_type": "code",
   "execution_count": 4,
   "id": "9dbf6d19",
   "metadata": {},
   "outputs": [
    {
     "data": {
      "text/plain": [
       "datetime.datetime(2024, 3, 12, 13, 7, 28, 225112)"
      ]
     },
     "execution_count": 4,
     "metadata": {},
     "output_type": "execute_result"
    }
   ],
   "source": [
    "now = datetime.now()\n",
    "now"
   ]
  },
  {
   "cell_type": "code",
   "execution_count": 5,
   "id": "b8f2e957",
   "metadata": {},
   "outputs": [
    {
     "data": {
      "text/plain": [
       "datetime.datetime"
      ]
     },
     "execution_count": 5,
     "metadata": {},
     "output_type": "execute_result"
    }
   ],
   "source": [
    "type(now)"
   ]
  },
  {
   "cell_type": "code",
   "execution_count": 6,
   "id": "19304edc",
   "metadata": {},
   "outputs": [
    {
     "data": {
      "text/plain": [
       "2024"
      ]
     },
     "execution_count": 6,
     "metadata": {},
     "output_type": "execute_result"
    }
   ],
   "source": [
    "now.year"
   ]
  },
  {
   "cell_type": "code",
   "execution_count": 7,
   "id": "0d1cf407",
   "metadata": {},
   "outputs": [
    {
     "data": {
      "text/plain": [
       "12"
      ]
     },
     "execution_count": 7,
     "metadata": {},
     "output_type": "execute_result"
    }
   ],
   "source": [
    "now.day"
   ]
  },
  {
   "cell_type": "code",
   "execution_count": 8,
   "id": "3df73626",
   "metadata": {},
   "outputs": [
    {
     "data": {
      "text/plain": [
       "3"
      ]
     },
     "execution_count": 8,
     "metadata": {},
     "output_type": "execute_result"
    }
   ],
   "source": [
    "now.month"
   ]
  },
  {
   "cell_type": "code",
   "execution_count": 15,
   "id": "995cb675",
   "metadata": {},
   "outputs": [
    {
     "name": "stdout",
     "output_type": "stream",
     "text": [
      "2795 days, 15:30:00\n"
     ]
    }
   ],
   "source": [
    "# difference between two datetime objects\n",
    "delta = datetime(2022, 1, 7) - datetime(2014, 5, 13, 8, 30)\n",
    "print(delta)"
   ]
  },
  {
   "cell_type": "code",
   "execution_count": 16,
   "id": "f56a6da2",
   "metadata": {},
   "outputs": [
    {
     "data": {
      "text/plain": [
       "datetime.timedelta"
      ]
     },
     "execution_count": 16,
     "metadata": {},
     "output_type": "execute_result"
    }
   ],
   "source": [
    "type(delta)"
   ]
  },
  {
   "cell_type": "code",
   "execution_count": 20,
   "id": "673de87f",
   "metadata": {},
   "outputs": [
    {
     "data": {
      "text/plain": [
       "55800"
      ]
     },
     "execution_count": 20,
     "metadata": {},
     "output_type": "execute_result"
    }
   ],
   "source": [
    "delta.seconds"
   ]
  },
  {
   "cell_type": "code",
   "execution_count": 21,
   "id": "d71cc45c",
   "metadata": {},
   "outputs": [],
   "source": [
    "from datetime import timedelta"
   ]
  },
  {
   "cell_type": "code",
   "execution_count": 22,
   "id": "03ef80ba",
   "metadata": {},
   "outputs": [
    {
     "name": "stdout",
     "output_type": "stream",
     "text": [
      "2023-01-19 00:00:00\n"
     ]
    }
   ],
   "source": [
    "start = datetime(2023, 1, 7)\n",
    "print(start + timedelta(12))"
   ]
  },
  {
   "cell_type": "code",
   "execution_count": 24,
   "id": "262ba643",
   "metadata": {},
   "outputs": [
    {
     "data": {
      "text/plain": [
       "'2022-01-03'"
      ]
     },
     "execution_count": 24,
     "metadata": {},
     "output_type": "execute_result"
    }
   ],
   "source": [
    "stamp = datetime(2022, 1, 3)\n",
    "str(stamp)\n",
    "stamp.strftime('%Y-%m-%d')"
   ]
  },
  {
   "cell_type": "code",
   "execution_count": 25,
   "id": "c4a75abf",
   "metadata": {},
   "outputs": [
    {
     "data": {
      "text/plain": [
       "'2022-01-03'"
      ]
     },
     "execution_count": 25,
     "metadata": {},
     "output_type": "execute_result"
    }
   ],
   "source": [
    "stamp.strftime('%F')"
   ]
  },
  {
   "cell_type": "code",
   "execution_count": 26,
   "id": "43a1b0ab",
   "metadata": {},
   "outputs": [
    {
     "data": {
      "text/plain": [
       "datetime.datetime(2022, 1, 5, 0, 0)"
      ]
     },
     "execution_count": 26,
     "metadata": {},
     "output_type": "execute_result"
    }
   ],
   "source": [
    "value = '2022-01-05'\n",
    "datetime.strptime(value, '%Y-%m-%d')"
   ]
  },
  {
   "cell_type": "code",
   "execution_count": 28,
   "id": "860b9606",
   "metadata": {},
   "outputs": [
    {
     "data": {
      "text/plain": [
       "[datetime.datetime(2022, 7, 6, 0, 0), datetime.datetime(2022, 8, 8, 0, 0)]"
      ]
     },
     "execution_count": 28,
     "metadata": {},
     "output_type": "execute_result"
    }
   ],
   "source": [
    "values = ['7/6/2022', '8/8/2022']\n",
    "[datetime.strptime(x, '%m/%d/%Y') for x in values]"
   ]
  },
  {
   "cell_type": "code",
   "execution_count": 29,
   "id": "a15c1716",
   "metadata": {},
   "outputs": [
    {
     "data": {
      "text/plain": [
       "datetime.datetime(2022, 1, 5, 0, 0)"
      ]
     },
     "execution_count": 29,
     "metadata": {},
     "output_type": "execute_result"
    }
   ],
   "source": [
    "from dateutil.parser import parse\n",
    "parse('2022-01-05')"
   ]
  },
  {
   "cell_type": "code",
   "execution_count": 30,
   "id": "8580ec7a",
   "metadata": {},
   "outputs": [
    {
     "data": {
      "text/plain": [
       "datetime.datetime(2024, 3, 12, 13, 26)"
      ]
     },
     "execution_count": 30,
     "metadata": {},
     "output_type": "execute_result"
    }
   ],
   "source": [
    "parse('Mar 12, 2024 1:26 PM')"
   ]
  },
  {
   "cell_type": "code",
   "execution_count": 31,
   "id": "b6461d3c",
   "metadata": {},
   "outputs": [
    {
     "data": {
      "text/plain": [
       "datetime.datetime(2023, 12, 6, 0, 0)"
      ]
     },
     "execution_count": 31,
     "metadata": {},
     "output_type": "execute_result"
    }
   ],
   "source": [
    "parse('6/12/2023', dayfirst = True)"
   ]
  },
  {
   "cell_type": "code",
   "execution_count": null,
   "id": "eeeb2383",
   "metadata": {},
   "outputs": [],
   "source": []
  },
  {
   "cell_type": "markdown",
   "id": "daebbc99",
   "metadata": {},
   "source": [
    "#  Time Series Basics"
   ]
  },
  {
   "cell_type": "code",
   "execution_count": 32,
   "id": "3857887e",
   "metadata": {},
   "outputs": [
    {
     "data": {
      "text/plain": [
       "2022-01-02    1.582498\n",
       "2022-01-05    0.384003\n",
       "2022-01-07   -0.532972\n",
       "2022-01-08    0.364309\n",
       "2022-01-10   -0.111306\n",
       "dtype: float64"
      ]
     },
     "execution_count": 32,
     "metadata": {},
     "output_type": "execute_result"
    }
   ],
   "source": [
    "dates = [datetime(2022, 1, 2), datetime(2022, 1, 5), datetime(2022, 1, 7), datetime(2022, 1, 8), datetime(2022, 1, 10)]\n",
    "ts = pd.Series(np.random.randn(5), index = dates)\n",
    "ts"
   ]
  },
  {
   "cell_type": "code",
   "execution_count": 33,
   "id": "9a94e304",
   "metadata": {},
   "outputs": [
    {
     "data": {
      "text/plain": [
       "DatetimeIndex(['2022-01-02', '2022-01-05', '2022-01-07', '2022-01-08',\n",
       "               '2022-01-10'],\n",
       "              dtype='datetime64[ns]', freq=None)"
      ]
     },
     "execution_count": 33,
     "metadata": {},
     "output_type": "execute_result"
    }
   ],
   "source": [
    "ts.index"
   ]
  },
  {
   "cell_type": "code",
   "execution_count": 34,
   "id": "8079f37e",
   "metadata": {},
   "outputs": [
    {
     "data": {
      "text/plain": [
       "0.3643089682263959"
      ]
     },
     "execution_count": 34,
     "metadata": {},
     "output_type": "execute_result"
    }
   ],
   "source": [
    "ts['01/08/2022']"
   ]
  },
  {
   "cell_type": "code",
   "execution_count": 36,
   "id": "70206546",
   "metadata": {},
   "outputs": [
    {
     "data": {
      "text/plain": [
       "0.3643089682263959"
      ]
     },
     "execution_count": 36,
     "metadata": {},
     "output_type": "execute_result"
    }
   ],
   "source": [
    "ts['20220108']"
   ]
  },
  {
   "cell_type": "code",
   "execution_count": 37,
   "id": "58229d6f",
   "metadata": {},
   "outputs": [
    {
     "data": {
      "text/plain": [
       "0.3643089682263959"
      ]
     },
     "execution_count": 37,
     "metadata": {},
     "output_type": "execute_result"
    }
   ],
   "source": [
    "ts['2022-01-08']"
   ]
  },
  {
   "cell_type": "code",
   "execution_count": null,
   "id": "88594c66",
   "metadata": {},
   "outputs": [],
   "source": []
  },
  {
   "cell_type": "code",
   "execution_count": 41,
   "id": "691a032f",
   "metadata": {},
   "outputs": [
    {
     "data": {
      "text/plain": [
       "2001-01-01   -2.874539\n",
       "2001-01-02    0.371467\n",
       "2001-01-03   -0.525287\n",
       "2001-01-04    0.025723\n",
       "2001-01-05   -2.000785\n",
       "                ...   \n",
       "2003-09-23    0.698743\n",
       "2003-09-24    1.544831\n",
       "2003-09-25    0.055060\n",
       "2003-09-26    0.956749\n",
       "2003-09-27    0.708729\n",
       "Freq: D, Length: 1000, dtype: float64"
      ]
     },
     "execution_count": 41,
     "metadata": {},
     "output_type": "execute_result"
    }
   ],
   "source": [
    "longer_ts = pd.Series(np.random.randn(1000), index = pd.date_range('1/1/2001', periods = 1000))\n",
    "longer_ts"
   ]
  },
  {
   "cell_type": "code",
   "execution_count": 42,
   "id": "2d54c1ec",
   "metadata": {},
   "outputs": [
    {
     "data": {
      "text/plain": [
       "2002-01-01   -0.873726\n",
       "2002-01-02   -0.752401\n",
       "2002-01-03   -1.576193\n",
       "2002-01-04    1.496630\n",
       "2002-01-05    0.158020\n",
       "                ...   \n",
       "2002-12-27    1.696572\n",
       "2002-12-28   -1.042526\n",
       "2002-12-29    0.039180\n",
       "2002-12-30    0.817795\n",
       "2002-12-31   -0.394193\n",
       "Freq: D, Length: 365, dtype: float64"
      ]
     },
     "execution_count": 42,
     "metadata": {},
     "output_type": "execute_result"
    }
   ],
   "source": [
    "longer_ts['2002']"
   ]
  },
  {
   "cell_type": "code",
   "execution_count": 43,
   "id": "a2f61b83",
   "metadata": {},
   "outputs": [
    {
     "data": {
      "text/plain": [
       "2002-03-01    0.566125\n",
       "2002-03-02    0.287026\n",
       "2002-03-03   -0.069260\n",
       "2002-03-04   -1.654081\n",
       "2002-03-05    1.762677\n",
       "2002-03-06    1.352935\n",
       "2002-03-07    0.880926\n",
       "2002-03-08    0.153752\n",
       "2002-03-09   -0.401329\n",
       "2002-03-10    0.796525\n",
       "2002-03-11   -0.379651\n",
       "2002-03-12   -1.077419\n",
       "2002-03-13    1.201736\n",
       "2002-03-14   -1.647445\n",
       "2002-03-15   -1.628363\n",
       "2002-03-16    1.107365\n",
       "2002-03-17    0.758401\n",
       "2002-03-18   -0.958743\n",
       "2002-03-19   -0.728770\n",
       "2002-03-20    0.259842\n",
       "2002-03-21   -1.903327\n",
       "2002-03-22    1.408457\n",
       "2002-03-23   -0.689375\n",
       "2002-03-24   -1.182513\n",
       "2002-03-25   -0.914013\n",
       "2002-03-26    0.235976\n",
       "2002-03-27   -1.336585\n",
       "2002-03-28   -0.752784\n",
       "2002-03-29    0.191338\n",
       "2002-03-30    1.017899\n",
       "2002-03-31    0.277804\n",
       "Freq: D, dtype: float64"
      ]
     },
     "execution_count": 43,
     "metadata": {},
     "output_type": "execute_result"
    }
   ],
   "source": [
    "longer_ts['2002-03']"
   ]
  },
  {
   "cell_type": "code",
   "execution_count": 44,
   "id": "e3e27e4c",
   "metadata": {},
   "outputs": [
    {
     "data": {
      "text/plain": [
       "2002-03-25   -0.914013\n",
       "2002-03-26    0.235976\n",
       "2002-03-27   -1.336585\n",
       "2002-03-28   -0.752784\n",
       "2002-03-29    0.191338\n",
       "                ...   \n",
       "2003-09-23    0.698743\n",
       "2003-09-24    1.544831\n",
       "2003-09-25    0.055060\n",
       "2003-09-26    0.956749\n",
       "2003-09-27    0.708729\n",
       "Freq: D, Length: 552, dtype: float64"
      ]
     },
     "execution_count": 44,
     "metadata": {},
     "output_type": "execute_result"
    }
   ],
   "source": [
    "longer_ts[datetime(2002, 3, 25):]"
   ]
  },
  {
   "cell_type": "code",
   "execution_count": 45,
   "id": "ddaffc29",
   "metadata": {},
   "outputs": [
    {
     "data": {
      "text/plain": [
       "2002-03-25   -0.914013\n",
       "2002-03-26    0.235976\n",
       "2002-03-27   -1.336585\n",
       "2002-03-28   -0.752784\n",
       "2002-03-29    0.191338\n",
       "2002-03-30    1.017899\n",
       "2002-03-31    0.277804\n",
       "Freq: D, dtype: float64"
      ]
     },
     "execution_count": 45,
     "metadata": {},
     "output_type": "execute_result"
    }
   ],
   "source": [
    "longer_ts['2002-03-25':'2002-03-31']"
   ]
  },
  {
   "cell_type": "code",
   "execution_count": 46,
   "id": "f2e14b3b",
   "metadata": {},
   "outputs": [
    {
     "data": {
      "text/html": [
       "<div>\n",
       "<style scoped>\n",
       "    .dataframe tbody tr th:only-of-type {\n",
       "        vertical-align: middle;\n",
       "    }\n",
       "\n",
       "    .dataframe tbody tr th {\n",
       "        vertical-align: top;\n",
       "    }\n",
       "\n",
       "    .dataframe thead th {\n",
       "        text-align: right;\n",
       "    }\n",
       "</style>\n",
       "<table border=\"1\" class=\"dataframe\">\n",
       "  <thead>\n",
       "    <tr style=\"text-align: right;\">\n",
       "      <th></th>\n",
       "      <th>Edm</th>\n",
       "      <th>Cal</th>\n",
       "      <th>Let</th>\n",
       "      <th>Red</th>\n",
       "    </tr>\n",
       "  </thead>\n",
       "  <tbody>\n",
       "    <tr>\n",
       "      <th>2022-01-05</th>\n",
       "      <td>-0.874672</td>\n",
       "      <td>1.141662</td>\n",
       "      <td>-0.498340</td>\n",
       "      <td>0.221562</td>\n",
       "    </tr>\n",
       "    <tr>\n",
       "      <th>2022-01-12</th>\n",
       "      <td>0.061739</td>\n",
       "      <td>0.557645</td>\n",
       "      <td>-0.198779</td>\n",
       "      <td>-0.452190</td>\n",
       "    </tr>\n",
       "    <tr>\n",
       "      <th>2022-01-19</th>\n",
       "      <td>-0.713819</td>\n",
       "      <td>-0.874290</td>\n",
       "      <td>0.186783</td>\n",
       "      <td>1.505961</td>\n",
       "    </tr>\n",
       "    <tr>\n",
       "      <th>2022-01-26</th>\n",
       "      <td>1.837342</td>\n",
       "      <td>-0.272205</td>\n",
       "      <td>0.303776</td>\n",
       "      <td>-0.838472</td>\n",
       "    </tr>\n",
       "    <tr>\n",
       "      <th>2022-02-02</th>\n",
       "      <td>-0.148697</td>\n",
       "      <td>-0.144139</td>\n",
       "      <td>-1.274903</td>\n",
       "      <td>0.014308</td>\n",
       "    </tr>\n",
       "    <tr>\n",
       "      <th>...</th>\n",
       "      <td>...</td>\n",
       "      <td>...</td>\n",
       "      <td>...</td>\n",
       "      <td>...</td>\n",
       "    </tr>\n",
       "    <tr>\n",
       "      <th>2023-11-01</th>\n",
       "      <td>1.471258</td>\n",
       "      <td>0.361028</td>\n",
       "      <td>-0.926678</td>\n",
       "      <td>-0.671532</td>\n",
       "    </tr>\n",
       "    <tr>\n",
       "      <th>2023-11-08</th>\n",
       "      <td>0.411168</td>\n",
       "      <td>1.392528</td>\n",
       "      <td>1.158846</td>\n",
       "      <td>-1.018085</td>\n",
       "    </tr>\n",
       "    <tr>\n",
       "      <th>2023-11-15</th>\n",
       "      <td>0.210034</td>\n",
       "      <td>-0.836264</td>\n",
       "      <td>-0.368612</td>\n",
       "      <td>-0.448259</td>\n",
       "    </tr>\n",
       "    <tr>\n",
       "      <th>2023-11-22</th>\n",
       "      <td>-0.503388</td>\n",
       "      <td>-0.387719</td>\n",
       "      <td>-1.512580</td>\n",
       "      <td>-0.534303</td>\n",
       "    </tr>\n",
       "    <tr>\n",
       "      <th>2023-11-29</th>\n",
       "      <td>-0.064722</td>\n",
       "      <td>1.263204</td>\n",
       "      <td>1.744868</td>\n",
       "      <td>1.689409</td>\n",
       "    </tr>\n",
       "  </tbody>\n",
       "</table>\n",
       "<p>100 rows × 4 columns</p>\n",
       "</div>"
      ],
      "text/plain": [
       "                 Edm       Cal       Let       Red\n",
       "2022-01-05 -0.874672  1.141662 -0.498340  0.221562\n",
       "2022-01-12  0.061739  0.557645 -0.198779 -0.452190\n",
       "2022-01-19 -0.713819 -0.874290  0.186783  1.505961\n",
       "2022-01-26  1.837342 -0.272205  0.303776 -0.838472\n",
       "2022-02-02 -0.148697 -0.144139 -1.274903  0.014308\n",
       "...              ...       ...       ...       ...\n",
       "2023-11-01  1.471258  0.361028 -0.926678 -0.671532\n",
       "2023-11-08  0.411168  1.392528  1.158846 -1.018085\n",
       "2023-11-15  0.210034 -0.836264 -0.368612 -0.448259\n",
       "2023-11-22 -0.503388 -0.387719 -1.512580 -0.534303\n",
       "2023-11-29 -0.064722  1.263204  1.744868  1.689409\n",
       "\n",
       "[100 rows x 4 columns]"
      ]
     },
     "execution_count": 46,
     "metadata": {},
     "output_type": "execute_result"
    }
   ],
   "source": [
    "dates = pd.date_range('1/1/2022', periods = 100, freq = 'W-WED')\n",
    "long_df = pd.DataFrame(np.random.randn(100, 4), index = dates, columns = ['Edm', 'Cal', 'Let', 'Red'])\n",
    "long_df"
   ]
  },
  {
   "cell_type": "code",
   "execution_count": 48,
   "id": "d0f5fa33",
   "metadata": {},
   "outputs": [
    {
     "data": {
      "text/html": [
       "<div>\n",
       "<style scoped>\n",
       "    .dataframe tbody tr th:only-of-type {\n",
       "        vertical-align: middle;\n",
       "    }\n",
       "\n",
       "    .dataframe tbody tr th {\n",
       "        vertical-align: top;\n",
       "    }\n",
       "\n",
       "    .dataframe thead th {\n",
       "        text-align: right;\n",
       "    }\n",
       "</style>\n",
       "<table border=\"1\" class=\"dataframe\">\n",
       "  <thead>\n",
       "    <tr style=\"text-align: right;\">\n",
       "      <th></th>\n",
       "      <th>Edm</th>\n",
       "      <th>Cal</th>\n",
       "      <th>Let</th>\n",
       "      <th>Red</th>\n",
       "    </tr>\n",
       "  </thead>\n",
       "  <tbody>\n",
       "    <tr>\n",
       "      <th>2022-12-07</th>\n",
       "      <td>0.070623</td>\n",
       "      <td>-1.594769</td>\n",
       "      <td>1.364297</td>\n",
       "      <td>-1.697383</td>\n",
       "    </tr>\n",
       "    <tr>\n",
       "      <th>2022-12-14</th>\n",
       "      <td>-0.517266</td>\n",
       "      <td>-0.769534</td>\n",
       "      <td>-1.092142</td>\n",
       "      <td>1.237967</td>\n",
       "    </tr>\n",
       "    <tr>\n",
       "      <th>2022-12-21</th>\n",
       "      <td>1.149542</td>\n",
       "      <td>0.256066</td>\n",
       "      <td>0.911515</td>\n",
       "      <td>-0.460796</td>\n",
       "    </tr>\n",
       "    <tr>\n",
       "      <th>2022-12-28</th>\n",
       "      <td>-0.760941</td>\n",
       "      <td>1.361797</td>\n",
       "      <td>-0.085718</td>\n",
       "      <td>-0.446197</td>\n",
       "    </tr>\n",
       "  </tbody>\n",
       "</table>\n",
       "</div>"
      ],
      "text/plain": [
       "                 Edm       Cal       Let       Red\n",
       "2022-12-07  0.070623 -1.594769  1.364297 -1.697383\n",
       "2022-12-14 -0.517266 -0.769534 -1.092142  1.237967\n",
       "2022-12-21  1.149542  0.256066  0.911515 -0.460796\n",
       "2022-12-28 -0.760941  1.361797 -0.085718 -0.446197"
      ]
     },
     "execution_count": 48,
     "metadata": {},
     "output_type": "execute_result"
    }
   ],
   "source": [
    "long_df.loc['2022-12']"
   ]
  },
  {
   "cell_type": "code",
   "execution_count": 49,
   "id": "630f9a4a",
   "metadata": {},
   "outputs": [
    {
     "data": {
      "text/plain": [
       "DatetimeIndex(['2022-04-01', '2022-04-02', '2022-04-03', '2022-04-04',\n",
       "               '2022-04-05', '2022-04-06', '2022-04-07', '2022-04-08',\n",
       "               '2022-04-09', '2022-04-10', '2022-04-11', '2022-04-12',\n",
       "               '2022-04-13', '2022-04-14', '2022-04-15', '2022-04-16',\n",
       "               '2022-04-17', '2022-04-18', '2022-04-19', '2022-04-20',\n",
       "               '2022-04-21', '2022-04-22', '2022-04-23', '2022-04-24',\n",
       "               '2022-04-25', '2022-04-26', '2022-04-27', '2022-04-28',\n",
       "               '2022-04-29', '2022-04-30', '2022-05-01', '2022-05-02',\n",
       "               '2022-05-03', '2022-05-04', '2022-05-05', '2022-05-06',\n",
       "               '2022-05-07', '2022-05-08', '2022-05-09', '2022-05-10',\n",
       "               '2022-05-11', '2022-05-12', '2022-05-13', '2022-05-14',\n",
       "               '2022-05-15', '2022-05-16', '2022-05-17', '2022-05-18',\n",
       "               '2022-05-19', '2022-05-20', '2022-05-21', '2022-05-22',\n",
       "               '2022-05-23', '2022-05-24', '2022-05-25', '2022-05-26',\n",
       "               '2022-05-27', '2022-05-28', '2022-05-29', '2022-05-30',\n",
       "               '2022-05-31', '2022-06-01'],\n",
       "              dtype='datetime64[ns]', freq='D')"
      ]
     },
     "execution_count": 49,
     "metadata": {},
     "output_type": "execute_result"
    }
   ],
   "source": [
    "index = pd.date_range('2022-04-01', '2022-06-01')\n",
    "index"
   ]
  },
  {
   "cell_type": "code",
   "execution_count": 51,
   "id": "0aa05fee",
   "metadata": {},
   "outputs": [
    {
     "data": {
      "text/plain": [
       "DatetimeIndex(['2022-04-01', '2022-04-02', '2022-04-03', '2022-04-04',\n",
       "               '2022-04-05', '2022-04-06', '2022-04-07', '2022-04-08',\n",
       "               '2022-04-09', '2022-04-10', '2022-04-11', '2022-04-12',\n",
       "               '2022-04-13', '2022-04-14', '2022-04-15', '2022-04-16',\n",
       "               '2022-04-17', '2022-04-18', '2022-04-19', '2022-04-20',\n",
       "               '2022-04-21', '2022-04-22', '2022-04-23', '2022-04-24',\n",
       "               '2022-04-25', '2022-04-26', '2022-04-27', '2022-04-28',\n",
       "               '2022-04-29', '2022-04-30'],\n",
       "              dtype='datetime64[ns]', freq='D')"
      ]
     },
     "execution_count": 51,
     "metadata": {},
     "output_type": "execute_result"
    }
   ],
   "source": [
    "pd.date_range(start = '2022-04-01', periods = 30)"
   ]
  },
  {
   "cell_type": "code",
   "execution_count": 52,
   "id": "36d9f39e",
   "metadata": {},
   "outputs": [
    {
     "data": {
      "text/plain": [
       "DatetimeIndex(['2022-05-03', '2022-05-04', '2022-05-05', '2022-05-06',\n",
       "               '2022-05-07', '2022-05-08', '2022-05-09', '2022-05-10',\n",
       "               '2022-05-11', '2022-05-12', '2022-05-13', '2022-05-14',\n",
       "               '2022-05-15', '2022-05-16', '2022-05-17', '2022-05-18',\n",
       "               '2022-05-19', '2022-05-20', '2022-05-21', '2022-05-22',\n",
       "               '2022-05-23', '2022-05-24', '2022-05-25', '2022-05-26',\n",
       "               '2022-05-27', '2022-05-28', '2022-05-29', '2022-05-30',\n",
       "               '2022-05-31', '2022-06-01'],\n",
       "              dtype='datetime64[ns]', freq='D')"
      ]
     },
     "execution_count": 52,
     "metadata": {},
     "output_type": "execute_result"
    }
   ],
   "source": [
    "pd.date_range(end = '2022-06-01', periods = 30)"
   ]
  },
  {
   "cell_type": "code",
   "execution_count": 54,
   "id": "fdcf6e03",
   "metadata": {},
   "outputs": [
    {
     "data": {
      "text/plain": [
       "DatetimeIndex(['2022-04-29', '2022-05-31', '2022-06-30', '2022-07-29',\n",
       "               '2022-08-31', '2022-09-30', '2022-10-31', '2022-11-30',\n",
       "               '2022-12-30', '2023-01-31', '2023-02-28', '2023-03-31',\n",
       "               '2023-04-28', '2023-05-31'],\n",
       "              dtype='datetime64[ns]', freq='BM')"
      ]
     },
     "execution_count": 54,
     "metadata": {},
     "output_type": "execute_result"
    }
   ],
   "source": [
    "pd.date_range('2022-04-01', '2023-06-01', freq = 'BM')"
   ]
  },
  {
   "cell_type": "code",
   "execution_count": 55,
   "id": "8bed092d",
   "metadata": {},
   "outputs": [
    {
     "data": {
      "text/plain": [
       "2000-01-31    0.061936\n",
       "2000-02-29    1.603645\n",
       "2000-03-31    0.406147\n",
       "2000-04-30    0.587188\n",
       "Freq: M, dtype: float64"
      ]
     },
     "execution_count": 55,
     "metadata": {},
     "output_type": "execute_result"
    }
   ],
   "source": [
    "ts = pd.Series(np.random.randn(4), index = pd.date_range('1/1/2000', periods = 4, freq = 'M'))\n",
    "ts"
   ]
  },
  {
   "cell_type": "code",
   "execution_count": 56,
   "id": "e077f606",
   "metadata": {},
   "outputs": [
    {
     "data": {
      "text/plain": [
       "2000-01-31         NaN\n",
       "2000-02-29         NaN\n",
       "2000-03-31    0.061936\n",
       "2000-04-30    1.603645\n",
       "Freq: M, dtype: float64"
      ]
     },
     "execution_count": 56,
     "metadata": {},
     "output_type": "execute_result"
    }
   ],
   "source": [
    "ts.shift(2)"
   ]
  },
  {
   "cell_type": "code",
   "execution_count": 58,
   "id": "f074a71d",
   "metadata": {},
   "outputs": [
    {
     "data": {
      "text/plain": [
       "2000-01-31    1.603645\n",
       "2000-02-29    0.406147\n",
       "2000-03-31    0.587188\n",
       "2000-04-30         NaN\n",
       "Freq: M, dtype: float64"
      ]
     },
     "execution_count": 58,
     "metadata": {},
     "output_type": "execute_result"
    }
   ],
   "source": [
    "ts.shift(-1)"
   ]
  },
  {
   "cell_type": "code",
   "execution_count": 64,
   "id": "72b73f25",
   "metadata": {},
   "outputs": [
    {
     "data": {
      "text/html": [
       "<div>\n",
       "<style scoped>\n",
       "    .dataframe tbody tr th:only-of-type {\n",
       "        vertical-align: middle;\n",
       "    }\n",
       "\n",
       "    .dataframe tbody tr th {\n",
       "        vertical-align: top;\n",
       "    }\n",
       "\n",
       "    .dataframe thead th {\n",
       "        text-align: right;\n",
       "    }\n",
       "</style>\n",
       "<table border=\"1\" class=\"dataframe\">\n",
       "  <thead>\n",
       "    <tr style=\"text-align: right;\">\n",
       "      <th></th>\n",
       "      <th>Price</th>\n",
       "    </tr>\n",
       "  </thead>\n",
       "  <tbody>\n",
       "    <tr>\n",
       "      <th>2000-01-01</th>\n",
       "      <td>71</td>\n",
       "    </tr>\n",
       "    <tr>\n",
       "      <th>2000-01-02</th>\n",
       "      <td>92</td>\n",
       "    </tr>\n",
       "    <tr>\n",
       "      <th>2000-01-03</th>\n",
       "      <td>98</td>\n",
       "    </tr>\n",
       "    <tr>\n",
       "      <th>2000-01-04</th>\n",
       "      <td>65</td>\n",
       "    </tr>\n",
       "    <tr>\n",
       "      <th>2000-01-05</th>\n",
       "      <td>67</td>\n",
       "    </tr>\n",
       "    <tr>\n",
       "      <th>2000-01-06</th>\n",
       "      <td>25</td>\n",
       "    </tr>\n",
       "    <tr>\n",
       "      <th>2000-01-07</th>\n",
       "      <td>85</td>\n",
       "    </tr>\n",
       "    <tr>\n",
       "      <th>2000-01-08</th>\n",
       "      <td>37</td>\n",
       "    </tr>\n",
       "    <tr>\n",
       "      <th>2000-01-09</th>\n",
       "      <td>30</td>\n",
       "    </tr>\n",
       "    <tr>\n",
       "      <th>2000-01-10</th>\n",
       "      <td>95</td>\n",
       "    </tr>\n",
       "  </tbody>\n",
       "</table>\n",
       "</div>"
      ],
      "text/plain": [
       "            Price\n",
       "2000-01-01     71\n",
       "2000-01-02     92\n",
       "2000-01-03     98\n",
       "2000-01-04     65\n",
       "2000-01-05     67\n",
       "2000-01-06     25\n",
       "2000-01-07     85\n",
       "2000-01-08     37\n",
       "2000-01-09     30\n",
       "2000-01-10     95"
      ]
     },
     "execution_count": 64,
     "metadata": {},
     "output_type": "execute_result"
    }
   ],
   "source": [
    "df = pd.DataFrame(np.random.randint(10, 100, 10), index = pd.date_range('1/1/2000', periods = 10), columns = ['Price'])\n",
    "df"
   ]
  },
  {
   "cell_type": "code",
   "execution_count": null,
   "id": "0845d871",
   "metadata": {},
   "outputs": [],
   "source": []
  },
  {
   "cell_type": "code",
   "execution_count": null,
   "id": "edb17147",
   "metadata": {},
   "outputs": [],
   "source": []
  },
  {
   "cell_type": "code",
   "execution_count": 61,
   "id": "0629b61f",
   "metadata": {},
   "outputs": [
    {
     "data": {
      "text/html": [
       "<div>\n",
       "<style scoped>\n",
       "    .dataframe tbody tr th:only-of-type {\n",
       "        vertical-align: middle;\n",
       "    }\n",
       "\n",
       "    .dataframe tbody tr th {\n",
       "        vertical-align: top;\n",
       "    }\n",
       "\n",
       "    .dataframe thead th {\n",
       "        text-align: right;\n",
       "    }\n",
       "</style>\n",
       "<table border=\"1\" class=\"dataframe\">\n",
       "  <thead>\n",
       "    <tr style=\"text-align: right;\">\n",
       "      <th></th>\n",
       "      <th>Price</th>\n",
       "      <th>Past Price</th>\n",
       "    </tr>\n",
       "  </thead>\n",
       "  <tbody>\n",
       "    <tr>\n",
       "      <th>2000-01-01</th>\n",
       "      <td>43</td>\n",
       "      <td>NaN</td>\n",
       "    </tr>\n",
       "    <tr>\n",
       "      <th>2000-01-02</th>\n",
       "      <td>65</td>\n",
       "      <td>43.0</td>\n",
       "    </tr>\n",
       "    <tr>\n",
       "      <th>2000-01-03</th>\n",
       "      <td>97</td>\n",
       "      <td>65.0</td>\n",
       "    </tr>\n",
       "    <tr>\n",
       "      <th>2000-01-04</th>\n",
       "      <td>59</td>\n",
       "      <td>97.0</td>\n",
       "    </tr>\n",
       "    <tr>\n",
       "      <th>2000-01-05</th>\n",
       "      <td>92</td>\n",
       "      <td>59.0</td>\n",
       "    </tr>\n",
       "    <tr>\n",
       "      <th>2000-01-06</th>\n",
       "      <td>12</td>\n",
       "      <td>92.0</td>\n",
       "    </tr>\n",
       "    <tr>\n",
       "      <th>2000-01-07</th>\n",
       "      <td>19</td>\n",
       "      <td>12.0</td>\n",
       "    </tr>\n",
       "    <tr>\n",
       "      <th>2000-01-08</th>\n",
       "      <td>63</td>\n",
       "      <td>19.0</td>\n",
       "    </tr>\n",
       "    <tr>\n",
       "      <th>2000-01-09</th>\n",
       "      <td>48</td>\n",
       "      <td>63.0</td>\n",
       "    </tr>\n",
       "    <tr>\n",
       "      <th>2000-01-10</th>\n",
       "      <td>65</td>\n",
       "      <td>48.0</td>\n",
       "    </tr>\n",
       "  </tbody>\n",
       "</table>\n",
       "</div>"
      ],
      "text/plain": [
       "            Price  Past Price\n",
       "2000-01-01     43         NaN\n",
       "2000-01-02     65        43.0\n",
       "2000-01-03     97        65.0\n",
       "2000-01-04     59        97.0\n",
       "2000-01-05     92        59.0\n",
       "2000-01-06     12        92.0\n",
       "2000-01-07     19        12.0\n",
       "2000-01-08     63        19.0\n",
       "2000-01-09     48        63.0\n",
       "2000-01-10     65        48.0"
      ]
     },
     "execution_count": 61,
     "metadata": {},
     "output_type": "execute_result"
    }
   ],
   "source": [
    "df['Past Price'] = df['Price'].shift(1)\n",
    "df"
   ]
  },
  {
   "cell_type": "code",
   "execution_count": 62,
   "id": "30e7a540",
   "metadata": {},
   "outputs": [
    {
     "data": {
      "text/html": [
       "<div>\n",
       "<style scoped>\n",
       "    .dataframe tbody tr th:only-of-type {\n",
       "        vertical-align: middle;\n",
       "    }\n",
       "\n",
       "    .dataframe tbody tr th {\n",
       "        vertical-align: top;\n",
       "    }\n",
       "\n",
       "    .dataframe thead th {\n",
       "        text-align: right;\n",
       "    }\n",
       "</style>\n",
       "<table border=\"1\" class=\"dataframe\">\n",
       "  <thead>\n",
       "    <tr style=\"text-align: right;\">\n",
       "      <th></th>\n",
       "      <th>Price</th>\n",
       "      <th>Past Price</th>\n",
       "      <th>Amount of change</th>\n",
       "    </tr>\n",
       "  </thead>\n",
       "  <tbody>\n",
       "    <tr>\n",
       "      <th>2000-01-01</th>\n",
       "      <td>43</td>\n",
       "      <td>NaN</td>\n",
       "      <td>NaN</td>\n",
       "    </tr>\n",
       "    <tr>\n",
       "      <th>2000-01-02</th>\n",
       "      <td>65</td>\n",
       "      <td>43.0</td>\n",
       "      <td>22.0</td>\n",
       "    </tr>\n",
       "    <tr>\n",
       "      <th>2000-01-03</th>\n",
       "      <td>97</td>\n",
       "      <td>65.0</td>\n",
       "      <td>32.0</td>\n",
       "    </tr>\n",
       "    <tr>\n",
       "      <th>2000-01-04</th>\n",
       "      <td>59</td>\n",
       "      <td>97.0</td>\n",
       "      <td>-38.0</td>\n",
       "    </tr>\n",
       "    <tr>\n",
       "      <th>2000-01-05</th>\n",
       "      <td>92</td>\n",
       "      <td>59.0</td>\n",
       "      <td>33.0</td>\n",
       "    </tr>\n",
       "    <tr>\n",
       "      <th>2000-01-06</th>\n",
       "      <td>12</td>\n",
       "      <td>92.0</td>\n",
       "      <td>-80.0</td>\n",
       "    </tr>\n",
       "    <tr>\n",
       "      <th>2000-01-07</th>\n",
       "      <td>19</td>\n",
       "      <td>12.0</td>\n",
       "      <td>7.0</td>\n",
       "    </tr>\n",
       "    <tr>\n",
       "      <th>2000-01-08</th>\n",
       "      <td>63</td>\n",
       "      <td>19.0</td>\n",
       "      <td>44.0</td>\n",
       "    </tr>\n",
       "    <tr>\n",
       "      <th>2000-01-09</th>\n",
       "      <td>48</td>\n",
       "      <td>63.0</td>\n",
       "      <td>-15.0</td>\n",
       "    </tr>\n",
       "    <tr>\n",
       "      <th>2000-01-10</th>\n",
       "      <td>65</td>\n",
       "      <td>48.0</td>\n",
       "      <td>17.0</td>\n",
       "    </tr>\n",
       "  </tbody>\n",
       "</table>\n",
       "</div>"
      ],
      "text/plain": [
       "            Price  Past Price  Amount of change\n",
       "2000-01-01     43         NaN               NaN\n",
       "2000-01-02     65        43.0              22.0\n",
       "2000-01-03     97        65.0              32.0\n",
       "2000-01-04     59        97.0             -38.0\n",
       "2000-01-05     92        59.0              33.0\n",
       "2000-01-06     12        92.0             -80.0\n",
       "2000-01-07     19        12.0               7.0\n",
       "2000-01-08     63        19.0              44.0\n",
       "2000-01-09     48        63.0             -15.0\n",
       "2000-01-10     65        48.0              17.0"
      ]
     },
     "execution_count": 62,
     "metadata": {},
     "output_type": "execute_result"
    }
   ],
   "source": [
    "df['Amount of change'] = df['Price'] - df['Past Price']\n",
    "df"
   ]
  },
  {
   "cell_type": "code",
   "execution_count": 65,
   "id": "73a853a8",
   "metadata": {},
   "outputs": [
    {
     "data": {
      "text/plain": [
       "2000-01-01    0.739489\n",
       "2000-01-02    2.527639\n",
       "2000-01-03    0.191005\n",
       "2000-01-04    0.112557\n",
       "2000-01-05    0.506436\n",
       "                ...   \n",
       "2000-04-05   -0.187412\n",
       "2000-04-06    0.926653\n",
       "2000-04-07    0.600835\n",
       "2000-04-08   -0.656761\n",
       "2000-04-09   -0.307132\n",
       "Freq: D, Length: 100, dtype: float64"
      ]
     },
     "execution_count": 65,
     "metadata": {},
     "output_type": "execute_result"
    }
   ],
   "source": [
    "ts = pd.Series(np.random.randn(100), index = pd.date_range('2000-01-01', periods = 100))\n",
    "ts"
   ]
  },
  {
   "cell_type": "code",
   "execution_count": 66,
   "id": "1e628496",
   "metadata": {},
   "outputs": [
    {
     "data": {
      "text/plain": [
       "2000-01-31    0.005939\n",
       "2000-02-29    0.170713\n",
       "2000-03-31    0.399299\n",
       "2000-04-30   -0.615873\n",
       "Freq: M, dtype: float64"
      ]
     },
     "execution_count": 66,
     "metadata": {},
     "output_type": "execute_result"
    }
   ],
   "source": [
    "ts.resample('M').mean()"
   ]
  },
  {
   "cell_type": "code",
   "execution_count": null,
   "id": "b16b3137",
   "metadata": {},
   "outputs": [],
   "source": []
  },
  {
   "cell_type": "code",
   "execution_count": 67,
   "id": "b4590dc5",
   "metadata": {},
   "outputs": [
    {
     "data": {
      "text/html": [
       "<div>\n",
       "<style scoped>\n",
       "    .dataframe tbody tr th:only-of-type {\n",
       "        vertical-align: middle;\n",
       "    }\n",
       "\n",
       "    .dataframe tbody tr th {\n",
       "        vertical-align: top;\n",
       "    }\n",
       "\n",
       "    .dataframe thead th {\n",
       "        text-align: right;\n",
       "    }\n",
       "</style>\n",
       "<table border=\"1\" class=\"dataframe\">\n",
       "  <thead>\n",
       "    <tr style=\"text-align: right;\">\n",
       "      <th></th>\n",
       "      <th>Date</th>\n",
       "      <th>Open</th>\n",
       "      <th>High</th>\n",
       "      <th>Low</th>\n",
       "      <th>Close</th>\n",
       "      <th>Adj Close</th>\n",
       "      <th>Volume</th>\n",
       "    </tr>\n",
       "  </thead>\n",
       "  <tbody>\n",
       "    <tr>\n",
       "      <th>0</th>\n",
       "      <td>2018-03-14</td>\n",
       "      <td>182.600006</td>\n",
       "      <td>184.250000</td>\n",
       "      <td>181.850006</td>\n",
       "      <td>184.190002</td>\n",
       "      <td>184.190002</td>\n",
       "      <td>16821700</td>\n",
       "    </tr>\n",
       "    <tr>\n",
       "      <th>1</th>\n",
       "      <td>2018-03-15</td>\n",
       "      <td>183.240005</td>\n",
       "      <td>184.000000</td>\n",
       "      <td>182.190002</td>\n",
       "      <td>183.860001</td>\n",
       "      <td>183.860001</td>\n",
       "      <td>15614300</td>\n",
       "    </tr>\n",
       "    <tr>\n",
       "      <th>2</th>\n",
       "      <td>2018-03-16</td>\n",
       "      <td>184.490005</td>\n",
       "      <td>185.330002</td>\n",
       "      <td>183.410004</td>\n",
       "      <td>185.089996</td>\n",
       "      <td>185.089996</td>\n",
       "      <td>24403400</td>\n",
       "    </tr>\n",
       "    <tr>\n",
       "      <th>3</th>\n",
       "      <td>2018-03-19</td>\n",
       "      <td>177.009995</td>\n",
       "      <td>177.169998</td>\n",
       "      <td>170.059998</td>\n",
       "      <td>172.559998</td>\n",
       "      <td>172.559998</td>\n",
       "      <td>88140100</td>\n",
       "    </tr>\n",
       "    <tr>\n",
       "      <th>4</th>\n",
       "      <td>2018-03-20</td>\n",
       "      <td>167.470001</td>\n",
       "      <td>170.199997</td>\n",
       "      <td>161.949997</td>\n",
       "      <td>168.149994</td>\n",
       "      <td>168.149994</td>\n",
       "      <td>129851800</td>\n",
       "    </tr>\n",
       "  </tbody>\n",
       "</table>\n",
       "</div>"
      ],
      "text/plain": [
       "         Date        Open        High         Low       Close   Adj Close  \\\n",
       "0  2018-03-14  182.600006  184.250000  181.850006  184.190002  184.190002   \n",
       "1  2018-03-15  183.240005  184.000000  182.190002  183.860001  183.860001   \n",
       "2  2018-03-16  184.490005  185.330002  183.410004  185.089996  185.089996   \n",
       "3  2018-03-19  177.009995  177.169998  170.059998  172.559998  172.559998   \n",
       "4  2018-03-20  167.470001  170.199997  161.949997  168.149994  168.149994   \n",
       "\n",
       "      Volume  \n",
       "0   16821700  \n",
       "1   15614300  \n",
       "2   24403400  \n",
       "3   88140100  \n",
       "4  129851800  "
      ]
     },
     "execution_count": 67,
     "metadata": {},
     "output_type": "execute_result"
    }
   ],
   "source": [
    "df = pd.read_csv('META.csv')\n",
    "df.head()"
   ]
  },
  {
   "cell_type": "code",
   "execution_count": 68,
   "id": "b572ff06",
   "metadata": {},
   "outputs": [
    {
     "data": {
      "text/plain": [
       "(1258, 7)"
      ]
     },
     "execution_count": 68,
     "metadata": {},
     "output_type": "execute_result"
    }
   ],
   "source": [
    "df.shape"
   ]
  },
  {
   "cell_type": "code",
   "execution_count": 69,
   "id": "965ef324",
   "metadata": {},
   "outputs": [
    {
     "data": {
      "text/plain": [
       "'2018-03-14'"
      ]
     },
     "execution_count": 69,
     "metadata": {},
     "output_type": "execute_result"
    }
   ],
   "source": [
    "df.loc[0, 'Date']"
   ]
  },
  {
   "cell_type": "code",
   "execution_count": 70,
   "id": "92937dbc",
   "metadata": {},
   "outputs": [
    {
     "ename": "AttributeError",
     "evalue": "'str' object has no attribute 'day_name'",
     "output_type": "error",
     "traceback": [
      "\u001b[1;31m---------------------------------------------------------------------------\u001b[0m",
      "\u001b[1;31mAttributeError\u001b[0m                            Traceback (most recent call last)",
      "\u001b[1;32m~\\AppData\\Local\\Temp\\ipykernel_10844\\1622926379.py\u001b[0m in \u001b[0;36m<module>\u001b[1;34m\u001b[0m\n\u001b[1;32m----> 1\u001b[1;33m \u001b[0mdf\u001b[0m\u001b[1;33m.\u001b[0m\u001b[0mloc\u001b[0m\u001b[1;33m[\u001b[0m\u001b[1;36m0\u001b[0m\u001b[1;33m,\u001b[0m \u001b[1;34m'Date'\u001b[0m\u001b[1;33m]\u001b[0m\u001b[1;33m.\u001b[0m\u001b[0mday_name\u001b[0m\u001b[1;33m(\u001b[0m\u001b[1;33m)\u001b[0m\u001b[1;33m\u001b[0m\u001b[1;33m\u001b[0m\u001b[0m\n\u001b[0m",
      "\u001b[1;31mAttributeError\u001b[0m: 'str' object has no attribute 'day_name'"
     ]
    }
   ],
   "source": [
    "df.loc[0, 'Date'].day_name()"
   ]
  },
  {
   "cell_type": "code",
   "execution_count": 71,
   "id": "dc3535b3",
   "metadata": {},
   "outputs": [
    {
     "data": {
      "text/plain": [
       "Date          object\n",
       "Open         float64\n",
       "High         float64\n",
       "Low          float64\n",
       "Close        float64\n",
       "Adj Close    float64\n",
       "Volume         int64\n",
       "dtype: object"
      ]
     },
     "execution_count": 71,
     "metadata": {},
     "output_type": "execute_result"
    }
   ],
   "source": [
    "df.dtypes"
   ]
  },
  {
   "cell_type": "code",
   "execution_count": 72,
   "id": "45e1736c",
   "metadata": {},
   "outputs": [
    {
     "data": {
      "text/html": [
       "<div>\n",
       "<style scoped>\n",
       "    .dataframe tbody tr th:only-of-type {\n",
       "        vertical-align: middle;\n",
       "    }\n",
       "\n",
       "    .dataframe tbody tr th {\n",
       "        vertical-align: top;\n",
       "    }\n",
       "\n",
       "    .dataframe thead th {\n",
       "        text-align: right;\n",
       "    }\n",
       "</style>\n",
       "<table border=\"1\" class=\"dataframe\">\n",
       "  <thead>\n",
       "    <tr style=\"text-align: right;\">\n",
       "      <th></th>\n",
       "      <th>Date</th>\n",
       "      <th>Open</th>\n",
       "      <th>High</th>\n",
       "      <th>Low</th>\n",
       "      <th>Close</th>\n",
       "      <th>Adj Close</th>\n",
       "      <th>Volume</th>\n",
       "    </tr>\n",
       "  </thead>\n",
       "  <tbody>\n",
       "    <tr>\n",
       "      <th>0</th>\n",
       "      <td>2018-03-14</td>\n",
       "      <td>182.600006</td>\n",
       "      <td>184.25</td>\n",
       "      <td>181.850006</td>\n",
       "      <td>184.190002</td>\n",
       "      <td>184.190002</td>\n",
       "      <td>16821700</td>\n",
       "    </tr>\n",
       "    <tr>\n",
       "      <th>1</th>\n",
       "      <td>2018-03-15</td>\n",
       "      <td>183.240005</td>\n",
       "      <td>184.00</td>\n",
       "      <td>182.190002</td>\n",
       "      <td>183.860001</td>\n",
       "      <td>183.860001</td>\n",
       "      <td>15614300</td>\n",
       "    </tr>\n",
       "  </tbody>\n",
       "</table>\n",
       "</div>"
      ],
      "text/plain": [
       "        Date        Open    High         Low       Close   Adj Close    Volume\n",
       "0 2018-03-14  182.600006  184.25  181.850006  184.190002  184.190002  16821700\n",
       "1 2018-03-15  183.240005  184.00  182.190002  183.860001  183.860001  15614300"
      ]
     },
     "execution_count": 72,
     "metadata": {},
     "output_type": "execute_result"
    }
   ],
   "source": [
    "df['Date'] = pd.to_datetime(df['Date'])\n",
    "df.head(2)"
   ]
  },
  {
   "cell_type": "code",
   "execution_count": 73,
   "id": "be379c5a",
   "metadata": {},
   "outputs": [
    {
     "data": {
      "text/plain": [
       "Date         datetime64[ns]\n",
       "Open                float64\n",
       "High                float64\n",
       "Low                 float64\n",
       "Close               float64\n",
       "Adj Close           float64\n",
       "Volume                int64\n",
       "dtype: object"
      ]
     },
     "execution_count": 73,
     "metadata": {},
     "output_type": "execute_result"
    }
   ],
   "source": [
    "df.dtypes"
   ]
  },
  {
   "cell_type": "code",
   "execution_count": 74,
   "id": "c2cbb60e",
   "metadata": {},
   "outputs": [
    {
     "data": {
      "text/plain": [
       "'Wednesday'"
      ]
     },
     "execution_count": 74,
     "metadata": {},
     "output_type": "execute_result"
    }
   ],
   "source": [
    "df.loc[0, 'Date'].day_name()"
   ]
  },
  {
   "cell_type": "code",
   "execution_count": 75,
   "id": "617d1a16",
   "metadata": {},
   "outputs": [
    {
     "data": {
      "text/plain": [
       "0       Wednesday\n",
       "1        Thursday\n",
       "2          Friday\n",
       "3          Monday\n",
       "4         Tuesday\n",
       "          ...    \n",
       "1253      Tuesday\n",
       "1254    Wednesday\n",
       "1255     Thursday\n",
       "1256       Friday\n",
       "1257       Monday\n",
       "Name: Date, Length: 1258, dtype: object"
      ]
     },
     "execution_count": 75,
     "metadata": {},
     "output_type": "execute_result"
    }
   ],
   "source": [
    "df['Date'].dt.day_name()"
   ]
  },
  {
   "cell_type": "code",
   "execution_count": 76,
   "id": "c289fdf7",
   "metadata": {},
   "outputs": [
    {
     "data": {
      "text/plain": [
       "Timestamp('2018-03-14 00:00:00')"
      ]
     },
     "execution_count": 76,
     "metadata": {},
     "output_type": "execute_result"
    }
   ],
   "source": [
    "df['Date'].min()"
   ]
  },
  {
   "cell_type": "code",
   "execution_count": 77,
   "id": "5ec211cb",
   "metadata": {},
   "outputs": [
    {
     "data": {
      "text/plain": [
       "Timestamp('2023-03-13 00:00:00')"
      ]
     },
     "execution_count": 77,
     "metadata": {},
     "output_type": "execute_result"
    }
   ],
   "source": [
    "df['Date'].max()"
   ]
  },
  {
   "cell_type": "code",
   "execution_count": 78,
   "id": "a2a21f4c",
   "metadata": {},
   "outputs": [
    {
     "data": {
      "text/plain": [
       "Timedelta('1825 days 00:00:00')"
      ]
     },
     "execution_count": 78,
     "metadata": {},
     "output_type": "execute_result"
    }
   ],
   "source": [
    "df['Date'].max() - df['Date'].min()"
   ]
  },
  {
   "cell_type": "code",
   "execution_count": 80,
   "id": "4f7c24da",
   "metadata": {},
   "outputs": [
    {
     "data": {
      "text/html": [
       "<div>\n",
       "<style scoped>\n",
       "    .dataframe tbody tr th:only-of-type {\n",
       "        vertical-align: middle;\n",
       "    }\n",
       "\n",
       "    .dataframe tbody tr th {\n",
       "        vertical-align: top;\n",
       "    }\n",
       "\n",
       "    .dataframe thead th {\n",
       "        text-align: right;\n",
       "    }\n",
       "</style>\n",
       "<table border=\"1\" class=\"dataframe\">\n",
       "  <thead>\n",
       "    <tr style=\"text-align: right;\">\n",
       "      <th></th>\n",
       "      <th>Date</th>\n",
       "      <th>Open</th>\n",
       "      <th>High</th>\n",
       "      <th>Low</th>\n",
       "      <th>Close</th>\n",
       "      <th>Adj Close</th>\n",
       "      <th>Volume</th>\n",
       "    </tr>\n",
       "  </thead>\n",
       "  <tbody>\n",
       "    <tr>\n",
       "      <th>1210</th>\n",
       "      <td>2023-01-03</td>\n",
       "      <td>122.820000</td>\n",
       "      <td>126.370003</td>\n",
       "      <td>122.279999</td>\n",
       "      <td>124.739998</td>\n",
       "      <td>124.739998</td>\n",
       "      <td>35528500</td>\n",
       "    </tr>\n",
       "    <tr>\n",
       "      <th>1211</th>\n",
       "      <td>2023-01-04</td>\n",
       "      <td>127.379997</td>\n",
       "      <td>129.050003</td>\n",
       "      <td>125.849998</td>\n",
       "      <td>127.370003</td>\n",
       "      <td>127.370003</td>\n",
       "      <td>32397100</td>\n",
       "    </tr>\n",
       "    <tr>\n",
       "      <th>1212</th>\n",
       "      <td>2023-01-05</td>\n",
       "      <td>126.129997</td>\n",
       "      <td>128.520004</td>\n",
       "      <td>124.540001</td>\n",
       "      <td>126.940002</td>\n",
       "      <td>126.940002</td>\n",
       "      <td>25447100</td>\n",
       "    </tr>\n",
       "    <tr>\n",
       "      <th>1213</th>\n",
       "      <td>2023-01-06</td>\n",
       "      <td>128.970001</td>\n",
       "      <td>130.330002</td>\n",
       "      <td>126.040001</td>\n",
       "      <td>130.020004</td>\n",
       "      <td>130.020004</td>\n",
       "      <td>27584500</td>\n",
       "    </tr>\n",
       "    <tr>\n",
       "      <th>1214</th>\n",
       "      <td>2023-01-09</td>\n",
       "      <td>131.160004</td>\n",
       "      <td>132.949997</td>\n",
       "      <td>129.279999</td>\n",
       "      <td>129.470001</td>\n",
       "      <td>129.470001</td>\n",
       "      <td>26649100</td>\n",
       "    </tr>\n",
       "  </tbody>\n",
       "</table>\n",
       "</div>"
      ],
      "text/plain": [
       "           Date        Open        High         Low       Close   Adj Close  \\\n",
       "1210 2023-01-03  122.820000  126.370003  122.279999  124.739998  124.739998   \n",
       "1211 2023-01-04  127.379997  129.050003  125.849998  127.370003  127.370003   \n",
       "1212 2023-01-05  126.129997  128.520004  124.540001  126.940002  126.940002   \n",
       "1213 2023-01-06  128.970001  130.330002  126.040001  130.020004  130.020004   \n",
       "1214 2023-01-09  131.160004  132.949997  129.279999  129.470001  129.470001   \n",
       "\n",
       "        Volume  \n",
       "1210  35528500  \n",
       "1211  32397100  \n",
       "1212  25447100  \n",
       "1213  27584500  \n",
       "1214  26649100  "
      ]
     },
     "execution_count": 80,
     "metadata": {},
     "output_type": "execute_result"
    }
   ],
   "source": [
    "df.loc[df['Date'] >= '2023'].head()"
   ]
  },
  {
   "cell_type": "code",
   "execution_count": 81,
   "id": "46aca1f8",
   "metadata": {},
   "outputs": [],
   "source": [
    "df.set_index('Date', inplace = True)"
   ]
  },
  {
   "cell_type": "code",
   "execution_count": 82,
   "id": "2ea10331",
   "metadata": {},
   "outputs": [
    {
     "data": {
      "text/html": [
       "<div>\n",
       "<style scoped>\n",
       "    .dataframe tbody tr th:only-of-type {\n",
       "        vertical-align: middle;\n",
       "    }\n",
       "\n",
       "    .dataframe tbody tr th {\n",
       "        vertical-align: top;\n",
       "    }\n",
       "\n",
       "    .dataframe thead th {\n",
       "        text-align: right;\n",
       "    }\n",
       "</style>\n",
       "<table border=\"1\" class=\"dataframe\">\n",
       "  <thead>\n",
       "    <tr style=\"text-align: right;\">\n",
       "      <th></th>\n",
       "      <th>Open</th>\n",
       "      <th>High</th>\n",
       "      <th>Low</th>\n",
       "      <th>Close</th>\n",
       "      <th>Adj Close</th>\n",
       "      <th>Volume</th>\n",
       "    </tr>\n",
       "    <tr>\n",
       "      <th>Date</th>\n",
       "      <th></th>\n",
       "      <th></th>\n",
       "      <th></th>\n",
       "      <th></th>\n",
       "      <th></th>\n",
       "      <th></th>\n",
       "    </tr>\n",
       "  </thead>\n",
       "  <tbody>\n",
       "    <tr>\n",
       "      <th>2018-03-14</th>\n",
       "      <td>182.600006</td>\n",
       "      <td>184.250000</td>\n",
       "      <td>181.850006</td>\n",
       "      <td>184.190002</td>\n",
       "      <td>184.190002</td>\n",
       "      <td>16821700</td>\n",
       "    </tr>\n",
       "    <tr>\n",
       "      <th>2018-03-15</th>\n",
       "      <td>183.240005</td>\n",
       "      <td>184.000000</td>\n",
       "      <td>182.190002</td>\n",
       "      <td>183.860001</td>\n",
       "      <td>183.860001</td>\n",
       "      <td>15614300</td>\n",
       "    </tr>\n",
       "    <tr>\n",
       "      <th>2018-03-16</th>\n",
       "      <td>184.490005</td>\n",
       "      <td>185.330002</td>\n",
       "      <td>183.410004</td>\n",
       "      <td>185.089996</td>\n",
       "      <td>185.089996</td>\n",
       "      <td>24403400</td>\n",
       "    </tr>\n",
       "    <tr>\n",
       "      <th>2018-03-19</th>\n",
       "      <td>177.009995</td>\n",
       "      <td>177.169998</td>\n",
       "      <td>170.059998</td>\n",
       "      <td>172.559998</td>\n",
       "      <td>172.559998</td>\n",
       "      <td>88140100</td>\n",
       "    </tr>\n",
       "    <tr>\n",
       "      <th>2018-03-20</th>\n",
       "      <td>167.470001</td>\n",
       "      <td>170.199997</td>\n",
       "      <td>161.949997</td>\n",
       "      <td>168.149994</td>\n",
       "      <td>168.149994</td>\n",
       "      <td>129851800</td>\n",
       "    </tr>\n",
       "  </tbody>\n",
       "</table>\n",
       "</div>"
      ],
      "text/plain": [
       "                  Open        High         Low       Close   Adj Close  \\\n",
       "Date                                                                     \n",
       "2018-03-14  182.600006  184.250000  181.850006  184.190002  184.190002   \n",
       "2018-03-15  183.240005  184.000000  182.190002  183.860001  183.860001   \n",
       "2018-03-16  184.490005  185.330002  183.410004  185.089996  185.089996   \n",
       "2018-03-19  177.009995  177.169998  170.059998  172.559998  172.559998   \n",
       "2018-03-20  167.470001  170.199997  161.949997  168.149994  168.149994   \n",
       "\n",
       "               Volume  \n",
       "Date                   \n",
       "2018-03-14   16821700  \n",
       "2018-03-15   15614300  \n",
       "2018-03-16   24403400  \n",
       "2018-03-19   88140100  \n",
       "2018-03-20  129851800  "
      ]
     },
     "execution_count": 82,
     "metadata": {},
     "output_type": "execute_result"
    }
   ],
   "source": [
    "df.head()"
   ]
  },
  {
   "cell_type": "code",
   "execution_count": 84,
   "id": "f50d62a1",
   "metadata": {},
   "outputs": [
    {
     "data": {
      "text/plain": [
       "Date\n",
       "2018-03-20    167.470001\n",
       "2018-03-21    164.800003\n",
       "2018-03-22    166.130005\n",
       "2018-03-23    165.440002\n",
       "Name: Open, dtype: float64"
      ]
     },
     "execution_count": 84,
     "metadata": {},
     "output_type": "execute_result"
    }
   ],
   "source": [
    "df.loc['2018-03-20':'2018-03-25']['Open']"
   ]
  },
  {
   "cell_type": "code",
   "execution_count": 85,
   "id": "7182f86c",
   "metadata": {},
   "outputs": [
    {
     "data": {
      "text/html": [
       "<div>\n",
       "<style scoped>\n",
       "    .dataframe tbody tr th:only-of-type {\n",
       "        vertical-align: middle;\n",
       "    }\n",
       "\n",
       "    .dataframe tbody tr th {\n",
       "        vertical-align: top;\n",
       "    }\n",
       "\n",
       "    .dataframe thead th {\n",
       "        text-align: right;\n",
       "    }\n",
       "</style>\n",
       "<table border=\"1\" class=\"dataframe\">\n",
       "  <thead>\n",
       "    <tr style=\"text-align: right;\">\n",
       "      <th></th>\n",
       "      <th>Open</th>\n",
       "      <th>High</th>\n",
       "      <th>Low</th>\n",
       "      <th>Close</th>\n",
       "      <th>Adj Close</th>\n",
       "      <th>Volume</th>\n",
       "    </tr>\n",
       "    <tr>\n",
       "      <th>Date</th>\n",
       "      <th></th>\n",
       "      <th></th>\n",
       "      <th></th>\n",
       "      <th></th>\n",
       "      <th></th>\n",
       "      <th></th>\n",
       "    </tr>\n",
       "  </thead>\n",
       "  <tbody>\n",
       "    <tr>\n",
       "      <th>2023-01-03</th>\n",
       "      <td>122.820000</td>\n",
       "      <td>126.370003</td>\n",
       "      <td>122.279999</td>\n",
       "      <td>124.739998</td>\n",
       "      <td>124.739998</td>\n",
       "      <td>35528500</td>\n",
       "    </tr>\n",
       "    <tr>\n",
       "      <th>2023-01-04</th>\n",
       "      <td>127.379997</td>\n",
       "      <td>129.050003</td>\n",
       "      <td>125.849998</td>\n",
       "      <td>127.370003</td>\n",
       "      <td>127.370003</td>\n",
       "      <td>32397100</td>\n",
       "    </tr>\n",
       "    <tr>\n",
       "      <th>2023-01-05</th>\n",
       "      <td>126.129997</td>\n",
       "      <td>128.520004</td>\n",
       "      <td>124.540001</td>\n",
       "      <td>126.940002</td>\n",
       "      <td>126.940002</td>\n",
       "      <td>25447100</td>\n",
       "    </tr>\n",
       "    <tr>\n",
       "      <th>2023-01-06</th>\n",
       "      <td>128.970001</td>\n",
       "      <td>130.330002</td>\n",
       "      <td>126.040001</td>\n",
       "      <td>130.020004</td>\n",
       "      <td>130.020004</td>\n",
       "      <td>27584500</td>\n",
       "    </tr>\n",
       "    <tr>\n",
       "      <th>2023-01-09</th>\n",
       "      <td>131.160004</td>\n",
       "      <td>132.949997</td>\n",
       "      <td>129.279999</td>\n",
       "      <td>129.470001</td>\n",
       "      <td>129.470001</td>\n",
       "      <td>26649100</td>\n",
       "    </tr>\n",
       "    <tr>\n",
       "      <th>2023-01-10</th>\n",
       "      <td>127.269997</td>\n",
       "      <td>133.440002</td>\n",
       "      <td>127.150002</td>\n",
       "      <td>132.990005</td>\n",
       "      <td>132.990005</td>\n",
       "      <td>28684400</td>\n",
       "    </tr>\n",
       "    <tr>\n",
       "      <th>2023-01-11</th>\n",
       "      <td>130.960007</td>\n",
       "      <td>133.850006</td>\n",
       "      <td>130.339996</td>\n",
       "      <td>132.889999</td>\n",
       "      <td>132.889999</td>\n",
       "      <td>25423000</td>\n",
       "    </tr>\n",
       "    <tr>\n",
       "      <th>2023-01-12</th>\n",
       "      <td>133.440002</td>\n",
       "      <td>137.679993</td>\n",
       "      <td>131.759995</td>\n",
       "      <td>136.710007</td>\n",
       "      <td>136.710007</td>\n",
       "      <td>30757700</td>\n",
       "    </tr>\n",
       "    <tr>\n",
       "      <th>2023-01-13</th>\n",
       "      <td>134.970001</td>\n",
       "      <td>137.389999</td>\n",
       "      <td>134.839996</td>\n",
       "      <td>136.979996</td>\n",
       "      <td>136.979996</td>\n",
       "      <td>22423800</td>\n",
       "    </tr>\n",
       "    <tr>\n",
       "      <th>2023-01-17</th>\n",
       "      <td>136.179993</td>\n",
       "      <td>136.750000</td>\n",
       "      <td>134.250000</td>\n",
       "      <td>135.360001</td>\n",
       "      <td>135.360001</td>\n",
       "      <td>21147600</td>\n",
       "    </tr>\n",
       "    <tr>\n",
       "      <th>2023-01-18</th>\n",
       "      <td>135.809998</td>\n",
       "      <td>137.250000</td>\n",
       "      <td>132.800003</td>\n",
       "      <td>133.020004</td>\n",
       "      <td>133.020004</td>\n",
       "      <td>20215500</td>\n",
       "    </tr>\n",
       "    <tr>\n",
       "      <th>2023-01-19</th>\n",
       "      <td>132.490005</td>\n",
       "      <td>137.449997</td>\n",
       "      <td>132.139999</td>\n",
       "      <td>136.149994</td>\n",
       "      <td>136.149994</td>\n",
       "      <td>28625200</td>\n",
       "    </tr>\n",
       "    <tr>\n",
       "      <th>2023-01-20</th>\n",
       "      <td>135.889999</td>\n",
       "      <td>139.940002</td>\n",
       "      <td>134.610001</td>\n",
       "      <td>139.369995</td>\n",
       "      <td>139.369995</td>\n",
       "      <td>28688600</td>\n",
       "    </tr>\n",
       "    <tr>\n",
       "      <th>2023-01-23</th>\n",
       "      <td>139.289993</td>\n",
       "      <td>143.759995</td>\n",
       "      <td>138.660004</td>\n",
       "      <td>143.270004</td>\n",
       "      <td>143.270004</td>\n",
       "      <td>27470100</td>\n",
       "    </tr>\n",
       "    <tr>\n",
       "      <th>2023-01-24</th>\n",
       "      <td>141.690002</td>\n",
       "      <td>145.000000</td>\n",
       "      <td>141.360001</td>\n",
       "      <td>143.139999</td>\n",
       "      <td>143.139999</td>\n",
       "      <td>21970200</td>\n",
       "    </tr>\n",
       "    <tr>\n",
       "      <th>2023-01-25</th>\n",
       "      <td>141.220001</td>\n",
       "      <td>143.169998</td>\n",
       "      <td>140.309998</td>\n",
       "      <td>141.500000</td>\n",
       "      <td>141.500000</td>\n",
       "      <td>26622000</td>\n",
       "    </tr>\n",
       "    <tr>\n",
       "      <th>2023-01-26</th>\n",
       "      <td>144.399994</td>\n",
       "      <td>147.509995</td>\n",
       "      <td>143.300003</td>\n",
       "      <td>147.300003</td>\n",
       "      <td>147.300003</td>\n",
       "      <td>25482100</td>\n",
       "    </tr>\n",
       "    <tr>\n",
       "      <th>2023-01-27</th>\n",
       "      <td>148.240005</td>\n",
       "      <td>153.190002</td>\n",
       "      <td>147.389999</td>\n",
       "      <td>151.740005</td>\n",
       "      <td>151.740005</td>\n",
       "      <td>35771900</td>\n",
       "    </tr>\n",
       "    <tr>\n",
       "      <th>2023-01-30</th>\n",
       "      <td>149.410004</td>\n",
       "      <td>151.119995</td>\n",
       "      <td>146.949997</td>\n",
       "      <td>147.059998</td>\n",
       "      <td>147.059998</td>\n",
       "      <td>28040100</td>\n",
       "    </tr>\n",
       "    <tr>\n",
       "      <th>2023-01-31</th>\n",
       "      <td>147.949997</td>\n",
       "      <td>149.880005</td>\n",
       "      <td>147.520004</td>\n",
       "      <td>148.970001</td>\n",
       "      <td>148.970001</td>\n",
       "      <td>29842100</td>\n",
       "    </tr>\n",
       "    <tr>\n",
       "      <th>2023-02-01</th>\n",
       "      <td>148.029999</td>\n",
       "      <td>153.580002</td>\n",
       "      <td>147.059998</td>\n",
       "      <td>153.119995</td>\n",
       "      <td>153.119995</td>\n",
       "      <td>55661000</td>\n",
       "    </tr>\n",
       "    <tr>\n",
       "      <th>2023-02-02</th>\n",
       "      <td>183.380005</td>\n",
       "      <td>197.160004</td>\n",
       "      <td>180.160004</td>\n",
       "      <td>188.770004</td>\n",
       "      <td>188.770004</td>\n",
       "      <td>150475700</td>\n",
       "    </tr>\n",
       "    <tr>\n",
       "      <th>2023-02-03</th>\n",
       "      <td>183.470001</td>\n",
       "      <td>196.770004</td>\n",
       "      <td>182.889999</td>\n",
       "      <td>186.529999</td>\n",
       "      <td>186.529999</td>\n",
       "      <td>76809700</td>\n",
       "    </tr>\n",
       "    <tr>\n",
       "      <th>2023-02-06</th>\n",
       "      <td>186.529999</td>\n",
       "      <td>190.699997</td>\n",
       "      <td>185.520004</td>\n",
       "      <td>186.059998</td>\n",
       "      <td>186.059998</td>\n",
       "      <td>42483800</td>\n",
       "    </tr>\n",
       "    <tr>\n",
       "      <th>2023-02-07</th>\n",
       "      <td>185.580002</td>\n",
       "      <td>193.779999</td>\n",
       "      <td>184.399994</td>\n",
       "      <td>191.619995</td>\n",
       "      <td>191.619995</td>\n",
       "      <td>47080700</td>\n",
       "    </tr>\n",
       "    <tr>\n",
       "      <th>2023-02-08</th>\n",
       "      <td>190.000000</td>\n",
       "      <td>190.830002</td>\n",
       "      <td>182.919998</td>\n",
       "      <td>183.429993</td>\n",
       "      <td>183.429993</td>\n",
       "      <td>36139100</td>\n",
       "    </tr>\n",
       "    <tr>\n",
       "      <th>2023-02-09</th>\n",
       "      <td>186.130005</td>\n",
       "      <td>186.649994</td>\n",
       "      <td>177.270004</td>\n",
       "      <td>177.919998</td>\n",
       "      <td>177.919998</td>\n",
       "      <td>37118800</td>\n",
       "    </tr>\n",
       "    <tr>\n",
       "      <th>2023-02-10</th>\n",
       "      <td>176.350006</td>\n",
       "      <td>178.889999</td>\n",
       "      <td>173.350006</td>\n",
       "      <td>174.149994</td>\n",
       "      <td>174.149994</td>\n",
       "      <td>33433600</td>\n",
       "    </tr>\n",
       "    <tr>\n",
       "      <th>2023-02-13</th>\n",
       "      <td>178.220001</td>\n",
       "      <td>181.000000</td>\n",
       "      <td>175.820007</td>\n",
       "      <td>179.429993</td>\n",
       "      <td>179.429993</td>\n",
       "      <td>31463200</td>\n",
       "    </tr>\n",
       "    <tr>\n",
       "      <th>2023-02-14</th>\n",
       "      <td>177.160004</td>\n",
       "      <td>181.509995</td>\n",
       "      <td>175.880005</td>\n",
       "      <td>179.479996</td>\n",
       "      <td>179.479996</td>\n",
       "      <td>24034600</td>\n",
       "    </tr>\n",
       "    <tr>\n",
       "      <th>2023-02-15</th>\n",
       "      <td>176.419998</td>\n",
       "      <td>178.190002</td>\n",
       "      <td>175.330002</td>\n",
       "      <td>177.160004</td>\n",
       "      <td>177.160004</td>\n",
       "      <td>25308900</td>\n",
       "    </tr>\n",
       "    <tr>\n",
       "      <th>2023-02-16</th>\n",
       "      <td>172.750000</td>\n",
       "      <td>175.850006</td>\n",
       "      <td>171.789993</td>\n",
       "      <td>172.440002</td>\n",
       "      <td>172.440002</td>\n",
       "      <td>25827500</td>\n",
       "    </tr>\n",
       "    <tr>\n",
       "      <th>2023-02-17</th>\n",
       "      <td>170.220001</td>\n",
       "      <td>173.179993</td>\n",
       "      <td>169.699997</td>\n",
       "      <td>172.880005</td>\n",
       "      <td>172.880005</td>\n",
       "      <td>24171300</td>\n",
       "    </tr>\n",
       "    <tr>\n",
       "      <th>2023-02-21</th>\n",
       "      <td>174.309998</td>\n",
       "      <td>178.169998</td>\n",
       "      <td>171.880005</td>\n",
       "      <td>172.080002</td>\n",
       "      <td>172.080002</td>\n",
       "      <td>34592600</td>\n",
       "    </tr>\n",
       "    <tr>\n",
       "      <th>2023-02-22</th>\n",
       "      <td>171.070007</td>\n",
       "      <td>172.759995</td>\n",
       "      <td>169.690002</td>\n",
       "      <td>171.119995</td>\n",
       "      <td>171.119995</td>\n",
       "      <td>22433200</td>\n",
       "    </tr>\n",
       "    <tr>\n",
       "      <th>2023-02-23</th>\n",
       "      <td>172.000000</td>\n",
       "      <td>173.690002</td>\n",
       "      <td>169.380005</td>\n",
       "      <td>172.039993</td>\n",
       "      <td>172.039993</td>\n",
       "      <td>20017800</td>\n",
       "    </tr>\n",
       "    <tr>\n",
       "      <th>2023-02-24</th>\n",
       "      <td>168.639999</td>\n",
       "      <td>170.720001</td>\n",
       "      <td>167.660004</td>\n",
       "      <td>170.389999</td>\n",
       "      <td>170.389999</td>\n",
       "      <td>19791300</td>\n",
       "    </tr>\n",
       "    <tr>\n",
       "      <th>2023-02-27</th>\n",
       "      <td>171.880005</td>\n",
       "      <td>173.119995</td>\n",
       "      <td>169.059998</td>\n",
       "      <td>169.539993</td>\n",
       "      <td>169.539993</td>\n",
       "      <td>19277000</td>\n",
       "    </tr>\n",
       "    <tr>\n",
       "      <th>2023-02-28</th>\n",
       "      <td>171.899994</td>\n",
       "      <td>177.550003</td>\n",
       "      <td>171.869995</td>\n",
       "      <td>174.940002</td>\n",
       "      <td>174.940002</td>\n",
       "      <td>46051100</td>\n",
       "    </tr>\n",
       "  </tbody>\n",
       "</table>\n",
       "</div>"
      ],
      "text/plain": [
       "                  Open        High         Low       Close   Adj Close  \\\n",
       "Date                                                                     \n",
       "2023-01-03  122.820000  126.370003  122.279999  124.739998  124.739998   \n",
       "2023-01-04  127.379997  129.050003  125.849998  127.370003  127.370003   \n",
       "2023-01-05  126.129997  128.520004  124.540001  126.940002  126.940002   \n",
       "2023-01-06  128.970001  130.330002  126.040001  130.020004  130.020004   \n",
       "2023-01-09  131.160004  132.949997  129.279999  129.470001  129.470001   \n",
       "2023-01-10  127.269997  133.440002  127.150002  132.990005  132.990005   \n",
       "2023-01-11  130.960007  133.850006  130.339996  132.889999  132.889999   \n",
       "2023-01-12  133.440002  137.679993  131.759995  136.710007  136.710007   \n",
       "2023-01-13  134.970001  137.389999  134.839996  136.979996  136.979996   \n",
       "2023-01-17  136.179993  136.750000  134.250000  135.360001  135.360001   \n",
       "2023-01-18  135.809998  137.250000  132.800003  133.020004  133.020004   \n",
       "2023-01-19  132.490005  137.449997  132.139999  136.149994  136.149994   \n",
       "2023-01-20  135.889999  139.940002  134.610001  139.369995  139.369995   \n",
       "2023-01-23  139.289993  143.759995  138.660004  143.270004  143.270004   \n",
       "2023-01-24  141.690002  145.000000  141.360001  143.139999  143.139999   \n",
       "2023-01-25  141.220001  143.169998  140.309998  141.500000  141.500000   \n",
       "2023-01-26  144.399994  147.509995  143.300003  147.300003  147.300003   \n",
       "2023-01-27  148.240005  153.190002  147.389999  151.740005  151.740005   \n",
       "2023-01-30  149.410004  151.119995  146.949997  147.059998  147.059998   \n",
       "2023-01-31  147.949997  149.880005  147.520004  148.970001  148.970001   \n",
       "2023-02-01  148.029999  153.580002  147.059998  153.119995  153.119995   \n",
       "2023-02-02  183.380005  197.160004  180.160004  188.770004  188.770004   \n",
       "2023-02-03  183.470001  196.770004  182.889999  186.529999  186.529999   \n",
       "2023-02-06  186.529999  190.699997  185.520004  186.059998  186.059998   \n",
       "2023-02-07  185.580002  193.779999  184.399994  191.619995  191.619995   \n",
       "2023-02-08  190.000000  190.830002  182.919998  183.429993  183.429993   \n",
       "2023-02-09  186.130005  186.649994  177.270004  177.919998  177.919998   \n",
       "2023-02-10  176.350006  178.889999  173.350006  174.149994  174.149994   \n",
       "2023-02-13  178.220001  181.000000  175.820007  179.429993  179.429993   \n",
       "2023-02-14  177.160004  181.509995  175.880005  179.479996  179.479996   \n",
       "2023-02-15  176.419998  178.190002  175.330002  177.160004  177.160004   \n",
       "2023-02-16  172.750000  175.850006  171.789993  172.440002  172.440002   \n",
       "2023-02-17  170.220001  173.179993  169.699997  172.880005  172.880005   \n",
       "2023-02-21  174.309998  178.169998  171.880005  172.080002  172.080002   \n",
       "2023-02-22  171.070007  172.759995  169.690002  171.119995  171.119995   \n",
       "2023-02-23  172.000000  173.690002  169.380005  172.039993  172.039993   \n",
       "2023-02-24  168.639999  170.720001  167.660004  170.389999  170.389999   \n",
       "2023-02-27  171.880005  173.119995  169.059998  169.539993  169.539993   \n",
       "2023-02-28  171.899994  177.550003  171.869995  174.940002  174.940002   \n",
       "\n",
       "               Volume  \n",
       "Date                   \n",
       "2023-01-03   35528500  \n",
       "2023-01-04   32397100  \n",
       "2023-01-05   25447100  \n",
       "2023-01-06   27584500  \n",
       "2023-01-09   26649100  \n",
       "2023-01-10   28684400  \n",
       "2023-01-11   25423000  \n",
       "2023-01-12   30757700  \n",
       "2023-01-13   22423800  \n",
       "2023-01-17   21147600  \n",
       "2023-01-18   20215500  \n",
       "2023-01-19   28625200  \n",
       "2023-01-20   28688600  \n",
       "2023-01-23   27470100  \n",
       "2023-01-24   21970200  \n",
       "2023-01-25   26622000  \n",
       "2023-01-26   25482100  \n",
       "2023-01-27   35771900  \n",
       "2023-01-30   28040100  \n",
       "2023-01-31   29842100  \n",
       "2023-02-01   55661000  \n",
       "2023-02-02  150475700  \n",
       "2023-02-03   76809700  \n",
       "2023-02-06   42483800  \n",
       "2023-02-07   47080700  \n",
       "2023-02-08   36139100  \n",
       "2023-02-09   37118800  \n",
       "2023-02-10   33433600  \n",
       "2023-02-13   31463200  \n",
       "2023-02-14   24034600  \n",
       "2023-02-15   25308900  \n",
       "2023-02-16   25827500  \n",
       "2023-02-17   24171300  \n",
       "2023-02-21   34592600  \n",
       "2023-02-22   22433200  \n",
       "2023-02-23   20017800  \n",
       "2023-02-24   19791300  \n",
       "2023-02-27   19277000  \n",
       "2023-02-28   46051100  "
      ]
     },
     "execution_count": 85,
     "metadata": {},
     "output_type": "execute_result"
    }
   ],
   "source": [
    "df['2023-01':'2023-02']"
   ]
  },
  {
   "cell_type": "code",
   "execution_count": 86,
   "id": "c91aef65",
   "metadata": {},
   "outputs": [
    {
     "data": {
      "text/plain": [
       "156.36128151282054"
      ]
     },
     "execution_count": 86,
     "metadata": {},
     "output_type": "execute_result"
    }
   ],
   "source": [
    "df['2023-01':'2023-02']['Close'].mean()"
   ]
  },
  {
   "cell_type": "code",
   "execution_count": 87,
   "id": "c5bffd7d",
   "metadata": {},
   "outputs": [
    {
     "data": {
      "text/plain": [
       "176.98344864137923"
      ]
     },
     "execution_count": 87,
     "metadata": {},
     "output_type": "execute_result"
    }
   ],
   "source": [
    "df['2022-01':'2023-02']['Close'].mean()"
   ]
  },
  {
   "cell_type": "code",
   "execution_count": 89,
   "id": "7802e2b0",
   "metadata": {},
   "outputs": [
    {
     "data": {
      "text/plain": [
       "Date\n",
       "2022-01-31    338.540009\n",
       "2022-02-28    323.000000\n",
       "2022-03-31    229.860001\n",
       "2022-04-30    233.889999\n",
       "2022-05-31    223.410004\n",
       "2022-06-30    198.860001\n",
       "2022-07-31    183.169998\n",
       "2022-08-31    180.889999\n",
       "2022-09-30    169.149994\n",
       "2022-10-31    140.279999\n",
       "2022-11-30    118.099998\n",
       "2022-12-31    123.489998\n",
       "2023-01-31    151.740005\n",
       "2023-02-28    191.619995\n",
       "Freq: M, Name: Close, dtype: float64"
      ]
     },
     "execution_count": 89,
     "metadata": {},
     "output_type": "execute_result"
    }
   ],
   "source": [
    "df['2022-01':'2023-02']['Close'].resample('M').max()"
   ]
  },
  {
   "cell_type": "code",
   "execution_count": 91,
   "id": "de574fe1",
   "metadata": {},
   "outputs": [
    {
     "data": {
      "text/plain": [
       "Date\n",
       "2018-12-31    217.500000\n",
       "2019-12-31    208.100006\n",
       "2020-12-31    303.910004\n",
       "2021-12-31    382.179993\n",
       "2022-12-31    338.540009\n",
       "2023-12-31    191.619995\n",
       "Freq: A-DEC, Name: Close, dtype: float64"
      ]
     },
     "execution_count": 91,
     "metadata": {},
     "output_type": "execute_result"
    }
   ],
   "source": [
    "df['Close'].resample('Y').max()"
   ]
  },
  {
   "cell_type": "code",
   "execution_count": 92,
   "id": "9234f815",
   "metadata": {},
   "outputs": [
    {
     "data": {
      "text/plain": [
       "<AxesSubplot:xlabel='Date'>"
      ]
     },
     "execution_count": 92,
     "metadata": {},
     "output_type": "execute_result"
    },
    {
     "data": {
      "image/png": "[encoded data removed]",
      "text/plain": [
       "<Figure size 640x480 with 1 Axes>"
      ]
     },
     "metadata": {},
     "output_type": "display_data"
    }
   ],
   "source": [
    "df['Close'].resample('Y').max().plot()"
   ]
  },
  {
   "cell_type": "code",
   "execution_count": 94,
   "id": "538593d7",
   "metadata": {},
   "outputs": [
    {
     "data": {
      "text/plain": [
       "<AxesSubplot:xlabel='Date'>"
      ]
     },
     "execution_count": 94,
     "metadata": {},
     "output_type": "execute_result"
    },
    {
     "data": {
      "image/png": "[encoded data removed]",
      "text/plain": [
       "<Figure size 1500x800 with 1 Axes>"
      ]
     },
     "metadata": {},
     "output_type": "display_data"
    }
   ],
   "source": [
    "df['Close'].resample('M').mean().plot(kind='bar', figsize = (15,8))"
   ]
  },
  {
   "cell_type": "code",
   "execution_count": null,
   "id": "0e3719ed",
   "metadata": {},
   "outputs": [],
   "source": []
  },
  {
   "cell_type": "code",
   "execution_count": null,
   "id": "8f53e08d",
   "metadata": {},
   "outputs": [],
   "source": []
  },
  {
   "cell_type": "code",
   "execution_count": null,
   "id": "be2292f5",
   "metadata": {},
   "outputs": [],
   "source": []
  },
  {
   "cell_type": "code",
   "execution_count": null,
   "id": "381d6317",
   "metadata": {},
   "outputs": [],
   "source": []
  },
  {
   "cell_type": "code",
   "execution_count": null,
   "id": "57891b89",
   "metadata": {},
   "outputs": [],
   "source": []
  },
  {
   "cell_type": "code",
   "execution_count": null,
   "id": "31c0367a",
   "metadata": {},
   "outputs": [],
   "source": []
  },
  {
   "cell_type": "code",
   "execution_count": null,
   "id": "c8735a1a",
   "metadata": {},
   "outputs": [],
   "source": []
  },
  {
   "cell_type": "code",
   "execution_count": null,
   "id": "dae66756",
   "metadata": {},
   "outputs": [],
   "source": []
  },
  {
   "cell_type": "code",
   "execution_count": null,
   "id": "e2b17f7d",
   "metadata": {},
   "outputs": [],
   "source": []
  },
  {
   "cell_type": "code",
   "execution_count": null,
   "id": "e4ed54a5",
   "metadata": {},
   "outputs": [],
   "source": []
  },
  {
   "cell_type": "code",
   "execution_count": null,
   "id": "824f5c90",
   "metadata": {},
   "outputs": [],
   "source": []
  },
  {
   "cell_type": "code",
   "execution_count": null,
   "id": "19728479",
   "metadata": {},
   "outputs": [],
   "source": []
  },
  {
   "cell_type": "code",
   "execution_count": null,
   "id": "5ed57d1d",
   "metadata": {},
   "outputs": [],
   "source": []
  },
  {
   "cell_type": "code",
   "execution_count": null,
   "id": "a6bbce94",
   "metadata": {},
   "outputs": [],
   "source": []
  },
  {
   "cell_type": "code",
   "execution_count": null,
   "id": "74a4ce25",
   "metadata": {},
   "outputs": [],
   "source": []
  },
  {
   "cell_type": "code",
   "execution_count": null,
   "id": "904513ca",
   "metadata": {},
   "outputs": [],
   "source": []
  },
  {
   "cell_type": "code",
   "execution_count": null,
   "id": "6ceac2be",
   "metadata": {},
   "outputs": [],
   "source": []
  },
  {
   "cell_type": "code",
   "execution_count": null,
   "id": "b130b899",
   "metadata": {},
   "outputs": [],
   "source": []
  }
 ],
 "metadata": {
  "kernelspec": {
   "display_name": "Python 3 (ipykernel)",
   "language": "python",
   "name": "python3"
  },
  "language_info": {
   "codemirror_mode": {
    "name": "ipython",
    "version": 3
   },
   "file_extension": ".py",
   "mimetype": "text/x-python",
   "name": "python",
   "nbconvert_exporter": "python",
   "pygments_lexer": "ipython3",
   "version": "3.9.13"
  }
 },
 "nbformat": 4,
 "nbformat_minor": 5
}
