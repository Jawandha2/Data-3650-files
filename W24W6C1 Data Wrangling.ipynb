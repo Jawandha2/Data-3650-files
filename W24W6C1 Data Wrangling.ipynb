{
 "cells": [
  {
   "cell_type": "code",
   "execution_count": 1,
   "id": "587ca2de",
   "metadata": {},
   "outputs": [],
   "source": [
    "import numpy as np\n",
    "import pandas as pd"
   ]
  },
  {
   "cell_type": "markdown",
   "id": "258d5fda",
   "metadata": {},
   "source": [
    "# Hierarchical Indexing\n",
    "- tow or more labels of index in our dataset"
   ]
  },
  {
   "cell_type": "code",
   "execution_count": 6,
   "id": "c78e7cd1",
   "metadata": {},
   "outputs": [
    {
     "data": {
      "text/plain": [
       "a  1   -1.749765\n",
       "   2    0.342680\n",
       "   3    1.153036\n",
       "b  1   -0.252436\n",
       "   3    0.981321\n",
       "c  1    0.514219\n",
       "   2    0.221180\n",
       "d  2   -1.070043\n",
       "   3   -0.189496\n",
       "dtype: float64"
      ]
     },
     "execution_count": 6,
     "metadata": {},
     "output_type": "execute_result"
    }
   ],
   "source": [
    "# a Series with hierarchical indexing\n",
    "np.random.seed(100)\n",
    "data = pd.Series(np.random.randn(9), index=[['a', 'a', 'a', 'b', 'b', 'c', 'c', 'd', 'd'],[1,2,3,1,3,1,2,2,3]])\n",
    "data"
   ]
  },
  {
   "cell_type": "code",
   "execution_count": 7,
   "id": "9cfe97c7",
   "metadata": {},
   "outputs": [
    {
     "data": {
      "text/plain": [
       "MultiIndex([('a', 1),\n",
       "            ('a', 2),\n",
       "            ('a', 3),\n",
       "            ('b', 1),\n",
       "            ('b', 3),\n",
       "            ('c', 1),\n",
       "            ('c', 2),\n",
       "            ('d', 2),\n",
       "            ('d', 3)],\n",
       "           )"
      ]
     },
     "execution_count": 7,
     "metadata": {},
     "output_type": "execute_result"
    }
   ],
   "source": [
    "data.index"
   ]
  },
  {
   "cell_type": "markdown",
   "id": "bd64fdad",
   "metadata": {},
   "source": [
    "### Accessing data using outer indexing"
   ]
  },
  {
   "cell_type": "code",
   "execution_count": 8,
   "id": "cec70c3a",
   "metadata": {},
   "outputs": [
    {
     "data": {
      "text/plain": [
       "1   -1.749765\n",
       "2    0.342680\n",
       "3    1.153036\n",
       "dtype: float64"
      ]
     },
     "execution_count": 8,
     "metadata": {},
     "output_type": "execute_result"
    }
   ],
   "source": [
    "data['a']"
   ]
  },
  {
   "cell_type": "code",
   "execution_count": 9,
   "id": "b570aed5",
   "metadata": {},
   "outputs": [
    {
     "data": {
      "text/plain": [
       "1    0.514219\n",
       "2    0.221180\n",
       "dtype: float64"
      ]
     },
     "execution_count": 9,
     "metadata": {},
     "output_type": "execute_result"
    }
   ],
   "source": [
    "data['c']"
   ]
  },
  {
   "cell_type": "code",
   "execution_count": 10,
   "id": "4f451931",
   "metadata": {},
   "outputs": [
    {
     "data": {
      "text/plain": [
       "a  1   -1.749765\n",
       "   2    0.342680\n",
       "   3    1.153036\n",
       "b  1   -0.252436\n",
       "   3    0.981321\n",
       "c  1    0.514219\n",
       "   2    0.221180\n",
       "dtype: float64"
      ]
     },
     "execution_count": 10,
     "metadata": {},
     "output_type": "execute_result"
    }
   ],
   "source": [
    "data['a':'c']"
   ]
  },
  {
   "cell_type": "code",
   "execution_count": 11,
   "id": "9b041977",
   "metadata": {},
   "outputs": [
    {
     "data": {
      "text/plain": [
       "b  1   -0.252436\n",
       "   3    0.981321\n",
       "d  2   -1.070043\n",
       "   3   -0.189496\n",
       "dtype: float64"
      ]
     },
     "execution_count": 11,
     "metadata": {},
     "output_type": "execute_result"
    }
   ],
   "source": [
    "data[['b','d']]"
   ]
  },
  {
   "cell_type": "code",
   "execution_count": 12,
   "id": "f2615707",
   "metadata": {},
   "outputs": [
    {
     "data": {
      "text/plain": [
       "b  1   -0.252436\n",
       "   3    0.981321\n",
       "d  2   -1.070043\n",
       "   3   -0.189496\n",
       "dtype: float64"
      ]
     },
     "execution_count": 12,
     "metadata": {},
     "output_type": "execute_result"
    }
   ],
   "source": [
    "data.loc[['b','d']]"
   ]
  },
  {
   "cell_type": "markdown",
   "id": "a3a9dd81",
   "metadata": {},
   "source": [
    "### Accessing data using inner indexing"
   ]
  },
  {
   "cell_type": "code",
   "execution_count": 13,
   "id": "3c595d38",
   "metadata": {},
   "outputs": [
    {
     "data": {
      "text/plain": [
       "a  1   -1.749765\n",
       "   2    0.342680\n",
       "   3    1.153036\n",
       "b  1   -0.252436\n",
       "   3    0.981321\n",
       "c  1    0.514219\n",
       "   2    0.221180\n",
       "d  2   -1.070043\n",
       "   3   -0.189496\n",
       "dtype: float64"
      ]
     },
     "execution_count": 13,
     "metadata": {},
     "output_type": "execute_result"
    }
   ],
   "source": [
    "data"
   ]
  },
  {
   "cell_type": "code",
   "execution_count": 18,
   "id": "68666aee",
   "metadata": {},
   "outputs": [
    {
     "data": {
      "text/plain": [
       "a    0.342680\n",
       "c    0.221180\n",
       "d   -1.070043\n",
       "dtype: float64"
      ]
     },
     "execution_count": 18,
     "metadata": {},
     "output_type": "execute_result"
    }
   ],
   "source": [
    "# Find the data values for inner index = 2\n",
    "data[: , 2]"
   ]
  },
  {
   "cell_type": "code",
   "execution_count": 29,
   "id": "a3cf54e6",
   "metadata": {},
   "outputs": [
    {
     "data": {
      "text/plain": [
       "b  3    0.981321\n",
       "c  1    0.514219\n",
       "dtype: float64"
      ]
     },
     "execution_count": 29,
     "metadata": {},
     "output_type": "execute_result"
    }
   ],
   "source": [
    "# Find the values b and c, but only the inner index values ranging from 1 to 2\n",
    "data.loc['b':'c'][[1,2]]"
   ]
  },
  {
   "cell_type": "code",
   "execution_count": 32,
   "id": "2358a819",
   "metadata": {},
   "outputs": [
    {
     "data": {
      "text/plain": [
       "b  1   -0.252436\n",
       "   3    0.981321\n",
       "c  1    0.514219\n",
       "dtype: float64"
      ]
     },
     "execution_count": 32,
     "metadata": {},
     "output_type": "execute_result"
    }
   ],
   "source": [
    "data[['b','c']][0:3]"
   ]
  },
  {
   "cell_type": "code",
   "execution_count": 33,
   "id": "d12d0e80",
   "metadata": {},
   "outputs": [
    {
     "data": {
      "text/plain": [
       "a  1   -1.749765\n",
       "   2    0.342680\n",
       "   3    1.153036\n",
       "b  1   -0.252436\n",
       "   3    0.981321\n",
       "c  1    0.514219\n",
       "   2    0.221180\n",
       "d  2   -1.070043\n",
       "   3   -0.189496\n",
       "dtype: float64"
      ]
     },
     "execution_count": 33,
     "metadata": {},
     "output_type": "execute_result"
    }
   ],
   "source": [
    "data"
   ]
  },
  {
   "cell_type": "code",
   "execution_count": 34,
   "id": "d951b737",
   "metadata": {},
   "outputs": [
    {
     "data": {
      "text/plain": [
       "pandas.core.series.Series"
      ]
     },
     "execution_count": 34,
     "metadata": {},
     "output_type": "execute_result"
    }
   ],
   "source": [
    "type(data)"
   ]
  },
  {
   "cell_type": "code",
   "execution_count": 35,
   "id": "9ec94e42",
   "metadata": {},
   "outputs": [
    {
     "data": {
      "text/html": [
       "<div>\n",
       "<style scoped>\n",
       "    .dataframe tbody tr th:only-of-type {\n",
       "        vertical-align: middle;\n",
       "    }\n",
       "\n",
       "    .dataframe tbody tr th {\n",
       "        vertical-align: top;\n",
       "    }\n",
       "\n",
       "    .dataframe thead th {\n",
       "        text-align: right;\n",
       "    }\n",
       "</style>\n",
       "<table border=\"1\" class=\"dataframe\">\n",
       "  <thead>\n",
       "    <tr style=\"text-align: right;\">\n",
       "      <th></th>\n",
       "      <th>1</th>\n",
       "      <th>2</th>\n",
       "      <th>3</th>\n",
       "    </tr>\n",
       "  </thead>\n",
       "  <tbody>\n",
       "    <tr>\n",
       "      <th>a</th>\n",
       "      <td>-1.749765</td>\n",
       "      <td>0.342680</td>\n",
       "      <td>1.153036</td>\n",
       "    </tr>\n",
       "    <tr>\n",
       "      <th>b</th>\n",
       "      <td>-0.252436</td>\n",
       "      <td>NaN</td>\n",
       "      <td>0.981321</td>\n",
       "    </tr>\n",
       "    <tr>\n",
       "      <th>c</th>\n",
       "      <td>0.514219</td>\n",
       "      <td>0.221180</td>\n",
       "      <td>NaN</td>\n",
       "    </tr>\n",
       "    <tr>\n",
       "      <th>d</th>\n",
       "      <td>NaN</td>\n",
       "      <td>-1.070043</td>\n",
       "      <td>-0.189496</td>\n",
       "    </tr>\n",
       "  </tbody>\n",
       "</table>\n",
       "</div>"
      ],
      "text/plain": [
       "          1         2         3\n",
       "a -1.749765  0.342680  1.153036\n",
       "b -0.252436       NaN  0.981321\n",
       "c  0.514219  0.221180       NaN\n",
       "d       NaN -1.070043 -0.189496"
      ]
     },
     "execution_count": 35,
     "metadata": {},
     "output_type": "execute_result"
    }
   ],
   "source": [
    "# arrange data into a DataFrame - unstack()\n",
    "data.unstack()"
   ]
  },
  {
   "cell_type": "code",
   "execution_count": 36,
   "id": "641231bc",
   "metadata": {},
   "outputs": [
    {
     "data": {
      "text/plain": [
       "pandas.core.frame.DataFrame"
      ]
     },
     "execution_count": 36,
     "metadata": {},
     "output_type": "execute_result"
    }
   ],
   "source": [
    "type(data.unstack())"
   ]
  },
  {
   "cell_type": "code",
   "execution_count": 38,
   "id": "f01388dd",
   "metadata": {},
   "outputs": [
    {
     "data": {
      "text/plain": [
       "a  1   -1.749765\n",
       "   2    0.342680\n",
       "   3    1.153036\n",
       "b  1   -0.252436\n",
       "   3    0.981321\n",
       "c  1    0.514219\n",
       "   2    0.221180\n",
       "d  2   -1.070043\n",
       "   3   -0.189496\n",
       "dtype: float64"
      ]
     },
     "execution_count": 38,
     "metadata": {},
     "output_type": "execute_result"
    }
   ],
   "source": [
    "# inverse of unstack()\n",
    "data.unstack().stack()"
   ]
  },
  {
   "cell_type": "code",
   "execution_count": 42,
   "id": "810506b1",
   "metadata": {},
   "outputs": [
    {
     "data": {
      "text/html": [
       "<div>\n",
       "<style scoped>\n",
       "    .dataframe tbody tr th:only-of-type {\n",
       "        vertical-align: middle;\n",
       "    }\n",
       "\n",
       "    .dataframe tbody tr th {\n",
       "        vertical-align: top;\n",
       "    }\n",
       "\n",
       "    .dataframe thead tr th {\n",
       "        text-align: left;\n",
       "    }\n",
       "</style>\n",
       "<table border=\"1\" class=\"dataframe\">\n",
       "  <thead>\n",
       "    <tr>\n",
       "      <th></th>\n",
       "      <th></th>\n",
       "      <th colspan=\"2\" halign=\"left\">Alberta</th>\n",
       "      <th>Ontario</th>\n",
       "    </tr>\n",
       "    <tr>\n",
       "      <th></th>\n",
       "      <th></th>\n",
       "      <th>Sunny</th>\n",
       "      <th>Cloudy</th>\n",
       "      <th>Cloudy</th>\n",
       "    </tr>\n",
       "  </thead>\n",
       "  <tbody>\n",
       "    <tr>\n",
       "      <th rowspan=\"2\" valign=\"top\">a</th>\n",
       "      <th>1</th>\n",
       "      <td>0</td>\n",
       "      <td>1</td>\n",
       "      <td>2</td>\n",
       "    </tr>\n",
       "    <tr>\n",
       "      <th>2</th>\n",
       "      <td>3</td>\n",
       "      <td>4</td>\n",
       "      <td>5</td>\n",
       "    </tr>\n",
       "    <tr>\n",
       "      <th rowspan=\"2\" valign=\"top\">b</th>\n",
       "      <th>1</th>\n",
       "      <td>6</td>\n",
       "      <td>7</td>\n",
       "      <td>8</td>\n",
       "    </tr>\n",
       "    <tr>\n",
       "      <th>2</th>\n",
       "      <td>9</td>\n",
       "      <td>10</td>\n",
       "      <td>11</td>\n",
       "    </tr>\n",
       "  </tbody>\n",
       "</table>\n",
       "</div>"
      ],
      "text/plain": [
       "    Alberta        Ontario\n",
       "      Sunny Cloudy  Cloudy\n",
       "a 1       0      1       2\n",
       "  2       3      4       5\n",
       "b 1       6      7       8\n",
       "  2       9     10      11"
      ]
     },
     "execution_count": 42,
     "metadata": {},
     "output_type": "execute_result"
    }
   ],
   "source": [
    "df = pd.DataFrame(np.arange(12).reshape((4,3)), \n",
    "                  index = [['a','a','b','b'], \n",
    "                           [1,2,1,2]], \n",
    "                  columns=[['Alberta', 'Alberta', 'Ontario'], \n",
    "                           ['Sunny', 'Cloudy', 'Cloudy']])\n",
    "df"
   ]
  },
  {
   "cell_type": "code",
   "execution_count": 43,
   "id": "68fd790d",
   "metadata": {},
   "outputs": [
    {
     "data": {
      "text/plain": [
       "Cloudy    8\n",
       "Name: (b, 1), dtype: int32"
      ]
     },
     "execution_count": 43,
     "metadata": {},
     "output_type": "execute_result"
    }
   ],
   "source": [
    "df.loc['b',1]['Ontario']"
   ]
  },
  {
   "cell_type": "code",
   "execution_count": 44,
   "id": "0bc1d4d0",
   "metadata": {},
   "outputs": [
    {
     "data": {
      "text/plain": [
       "7"
      ]
     },
     "execution_count": 44,
     "metadata": {},
     "output_type": "execute_result"
    }
   ],
   "source": [
    "df.loc['b',1]['Alberta','Cloudy']"
   ]
  },
  {
   "cell_type": "code",
   "execution_count": 47,
   "id": "ccd462f3",
   "metadata": {},
   "outputs": [
    {
     "data": {
      "text/plain": [
       "8"
      ]
     },
     "execution_count": 47,
     "metadata": {},
     "output_type": "execute_result"
    }
   ],
   "source": [
    "df.loc['b',1]['Ontario', 'Cloudy']"
   ]
  },
  {
   "cell_type": "code",
   "execution_count": 48,
   "id": "33231385",
   "metadata": {},
   "outputs": [
    {
     "data": {
      "text/plain": [
       "Alberta  Sunny     6\n",
       "         Cloudy    7\n",
       "Ontario  Cloudy    8\n",
       "Name: (b, 1), dtype: int32"
      ]
     },
     "execution_count": 48,
     "metadata": {},
     "output_type": "execute_result"
    }
   ],
   "source": [
    "df.loc['b',1]"
   ]
  },
  {
   "cell_type": "code",
   "execution_count": 50,
   "id": "040b988f",
   "metadata": {},
   "outputs": [
    {
     "data": {
      "text/html": [
       "<div>\n",
       "<style scoped>\n",
       "    .dataframe tbody tr th:only-of-type {\n",
       "        vertical-align: middle;\n",
       "    }\n",
       "\n",
       "    .dataframe tbody tr th {\n",
       "        vertical-align: top;\n",
       "    }\n",
       "\n",
       "    .dataframe thead tr th {\n",
       "        text-align: left;\n",
       "    }\n",
       "</style>\n",
       "<table border=\"1\" class=\"dataframe\">\n",
       "  <thead>\n",
       "    <tr>\n",
       "      <th></th>\n",
       "      <th></th>\n",
       "      <th colspan=\"2\" halign=\"left\">Alberta</th>\n",
       "      <th>Ontario</th>\n",
       "    </tr>\n",
       "    <tr>\n",
       "      <th></th>\n",
       "      <th></th>\n",
       "      <th>Sunny</th>\n",
       "      <th>Cloudy</th>\n",
       "      <th>Cloudy</th>\n",
       "    </tr>\n",
       "  </thead>\n",
       "  <tbody>\n",
       "    <tr>\n",
       "      <th rowspan=\"2\" valign=\"top\">a</th>\n",
       "      <th>1</th>\n",
       "      <td>0</td>\n",
       "      <td>1</td>\n",
       "      <td>2</td>\n",
       "    </tr>\n",
       "    <tr>\n",
       "      <th>2</th>\n",
       "      <td>3</td>\n",
       "      <td>4</td>\n",
       "      <td>5</td>\n",
       "    </tr>\n",
       "    <tr>\n",
       "      <th rowspan=\"2\" valign=\"top\">b</th>\n",
       "      <th>1</th>\n",
       "      <td>6</td>\n",
       "      <td>7</td>\n",
       "      <td>8</td>\n",
       "    </tr>\n",
       "    <tr>\n",
       "      <th>2</th>\n",
       "      <td>9</td>\n",
       "      <td>10</td>\n",
       "      <td>11</td>\n",
       "    </tr>\n",
       "  </tbody>\n",
       "</table>\n",
       "</div>"
      ],
      "text/plain": [
       "    Alberta        Ontario\n",
       "      Sunny Cloudy  Cloudy\n",
       "a 1       0      1       2\n",
       "  2       3      4       5\n",
       "b 1       6      7       8\n",
       "  2       9     10      11"
      ]
     },
     "execution_count": 50,
     "metadata": {},
     "output_type": "execute_result"
    }
   ],
   "source": [
    "df"
   ]
  },
  {
   "cell_type": "code",
   "execution_count": 53,
   "id": "ed0b392c",
   "metadata": {},
   "outputs": [
    {
     "data": {
      "text/plain": [
       "8"
      ]
     },
     "execution_count": 53,
     "metadata": {},
     "output_type": "execute_result"
    }
   ],
   "source": [
    "df.loc['b'].loc[1]['Ontario']['Cloudy']"
   ]
  },
  {
   "cell_type": "code",
   "execution_count": 54,
   "id": "edbe3318",
   "metadata": {},
   "outputs": [
    {
     "data": {
      "text/plain": [
       "MultiIndex([('a', 1),\n",
       "            ('a', 2),\n",
       "            ('b', 1),\n",
       "            ('b', 2)],\n",
       "           )"
      ]
     },
     "execution_count": 54,
     "metadata": {},
     "output_type": "execute_result"
    }
   ],
   "source": [
    "df.index"
   ]
  },
  {
   "cell_type": "code",
   "execution_count": 55,
   "id": "a8362bbc",
   "metadata": {},
   "outputs": [
    {
     "data": {
      "text/plain": [
       "MultiIndex([('Alberta',  'Sunny'),\n",
       "            ('Alberta', 'Cloudy'),\n",
       "            ('Ontario', 'Cloudy')],\n",
       "           )"
      ]
     },
     "execution_count": 55,
     "metadata": {},
     "output_type": "execute_result"
    }
   ],
   "source": [
    "df.columns"
   ]
  },
  {
   "cell_type": "code",
   "execution_count": 56,
   "id": "18307f04",
   "metadata": {},
   "outputs": [
    {
     "data": {
      "text/html": [
       "<div>\n",
       "<style scoped>\n",
       "    .dataframe tbody tr th:only-of-type {\n",
       "        vertical-align: middle;\n",
       "    }\n",
       "\n",
       "    .dataframe tbody tr th {\n",
       "        vertical-align: top;\n",
       "    }\n",
       "\n",
       "    .dataframe thead tr th {\n",
       "        text-align: left;\n",
       "    }\n",
       "\n",
       "    .dataframe thead tr:last-of-type th {\n",
       "        text-align: right;\n",
       "    }\n",
       "</style>\n",
       "<table border=\"1\" class=\"dataframe\">\n",
       "  <thead>\n",
       "    <tr>\n",
       "      <th></th>\n",
       "      <th>Province</th>\n",
       "      <th colspan=\"2\" halign=\"left\">Alberta</th>\n",
       "      <th>Ontario</th>\n",
       "    </tr>\n",
       "    <tr>\n",
       "      <th></th>\n",
       "      <th>Weather</th>\n",
       "      <th>Sunny</th>\n",
       "      <th>Cloudy</th>\n",
       "      <th>Cloudy</th>\n",
       "    </tr>\n",
       "    <tr>\n",
       "      <th>Outer</th>\n",
       "      <th>Inner</th>\n",
       "      <th></th>\n",
       "      <th></th>\n",
       "      <th></th>\n",
       "    </tr>\n",
       "  </thead>\n",
       "  <tbody>\n",
       "    <tr>\n",
       "      <th rowspan=\"2\" valign=\"top\">a</th>\n",
       "      <th>1</th>\n",
       "      <td>0</td>\n",
       "      <td>1</td>\n",
       "      <td>2</td>\n",
       "    </tr>\n",
       "    <tr>\n",
       "      <th>2</th>\n",
       "      <td>3</td>\n",
       "      <td>4</td>\n",
       "      <td>5</td>\n",
       "    </tr>\n",
       "    <tr>\n",
       "      <th rowspan=\"2\" valign=\"top\">b</th>\n",
       "      <th>1</th>\n",
       "      <td>6</td>\n",
       "      <td>7</td>\n",
       "      <td>8</td>\n",
       "    </tr>\n",
       "    <tr>\n",
       "      <th>2</th>\n",
       "      <td>9</td>\n",
       "      <td>10</td>\n",
       "      <td>11</td>\n",
       "    </tr>\n",
       "  </tbody>\n",
       "</table>\n",
       "</div>"
      ],
      "text/plain": [
       "Province    Alberta        Ontario\n",
       "Weather       Sunny Cloudy  Cloudy\n",
       "Outer Inner                       \n",
       "a     1           0      1       2\n",
       "      2           3      4       5\n",
       "b     1           6      7       8\n",
       "      2           9     10      11"
      ]
     },
     "execution_count": 56,
     "metadata": {},
     "output_type": "execute_result"
    }
   ],
   "source": [
    "df.index.names = ['Outer', 'Inner']\n",
    "df.columns.names = ['Province', 'Weather']\n",
    "df"
   ]
  },
  {
   "cell_type": "code",
   "execution_count": 57,
   "id": "b8f7d1d9",
   "metadata": {},
   "outputs": [
    {
     "data": {
      "text/html": [
       "<div>\n",
       "<style scoped>\n",
       "    .dataframe tbody tr th:only-of-type {\n",
       "        vertical-align: middle;\n",
       "    }\n",
       "\n",
       "    .dataframe tbody tr th {\n",
       "        vertical-align: top;\n",
       "    }\n",
       "\n",
       "    .dataframe thead tr th {\n",
       "        text-align: left;\n",
       "    }\n",
       "\n",
       "    .dataframe thead tr:last-of-type th {\n",
       "        text-align: right;\n",
       "    }\n",
       "</style>\n",
       "<table border=\"1\" class=\"dataframe\">\n",
       "  <thead>\n",
       "    <tr>\n",
       "      <th></th>\n",
       "      <th>Outer</th>\n",
       "      <th colspan=\"2\" halign=\"left\">a</th>\n",
       "      <th colspan=\"2\" halign=\"left\">b</th>\n",
       "    </tr>\n",
       "    <tr>\n",
       "      <th></th>\n",
       "      <th>Inner</th>\n",
       "      <th>1</th>\n",
       "      <th>2</th>\n",
       "      <th>1</th>\n",
       "      <th>2</th>\n",
       "    </tr>\n",
       "    <tr>\n",
       "      <th>Province</th>\n",
       "      <th>Weather</th>\n",
       "      <th></th>\n",
       "      <th></th>\n",
       "      <th></th>\n",
       "      <th></th>\n",
       "    </tr>\n",
       "  </thead>\n",
       "  <tbody>\n",
       "    <tr>\n",
       "      <th rowspan=\"2\" valign=\"top\">Alberta</th>\n",
       "      <th>Sunny</th>\n",
       "      <td>0</td>\n",
       "      <td>3</td>\n",
       "      <td>6</td>\n",
       "      <td>9</td>\n",
       "    </tr>\n",
       "    <tr>\n",
       "      <th>Cloudy</th>\n",
       "      <td>1</td>\n",
       "      <td>4</td>\n",
       "      <td>7</td>\n",
       "      <td>10</td>\n",
       "    </tr>\n",
       "    <tr>\n",
       "      <th>Ontario</th>\n",
       "      <th>Cloudy</th>\n",
       "      <td>2</td>\n",
       "      <td>5</td>\n",
       "      <td>8</td>\n",
       "      <td>11</td>\n",
       "    </tr>\n",
       "  </tbody>\n",
       "</table>\n",
       "</div>"
      ],
      "text/plain": [
       "Outer             a     b    \n",
       "Inner             1  2  1   2\n",
       "Province Weather             \n",
       "Alberta  Sunny    0  3  6   9\n",
       "         Cloudy   1  4  7  10\n",
       "Ontario  Cloudy   2  5  8  11"
      ]
     },
     "execution_count": 57,
     "metadata": {},
     "output_type": "execute_result"
    }
   ],
   "source": [
    "df.T"
   ]
  },
  {
   "cell_type": "code",
   "execution_count": 59,
   "id": "ba2689a8",
   "metadata": {},
   "outputs": [
    {
     "data": {
      "text/html": [
       "<div>\n",
       "<style scoped>\n",
       "    .dataframe tbody tr th:only-of-type {\n",
       "        vertical-align: middle;\n",
       "    }\n",
       "\n",
       "    .dataframe tbody tr th {\n",
       "        vertical-align: top;\n",
       "    }\n",
       "\n",
       "    .dataframe thead tr th {\n",
       "        text-align: left;\n",
       "    }\n",
       "\n",
       "    .dataframe thead tr:last-of-type th {\n",
       "        text-align: right;\n",
       "    }\n",
       "</style>\n",
       "<table border=\"1\" class=\"dataframe\">\n",
       "  <thead>\n",
       "    <tr>\n",
       "      <th></th>\n",
       "      <th>Province</th>\n",
       "      <th colspan=\"2\" halign=\"left\">Alberta</th>\n",
       "      <th>Ontario</th>\n",
       "    </tr>\n",
       "    <tr>\n",
       "      <th></th>\n",
       "      <th>Weather</th>\n",
       "      <th>Sunny</th>\n",
       "      <th>Cloudy</th>\n",
       "      <th>Cloudy</th>\n",
       "    </tr>\n",
       "    <tr>\n",
       "      <th>Inner</th>\n",
       "      <th>Outer</th>\n",
       "      <th></th>\n",
       "      <th></th>\n",
       "      <th></th>\n",
       "    </tr>\n",
       "  </thead>\n",
       "  <tbody>\n",
       "    <tr>\n",
       "      <th>1</th>\n",
       "      <th>a</th>\n",
       "      <td>0</td>\n",
       "      <td>1</td>\n",
       "      <td>2</td>\n",
       "    </tr>\n",
       "    <tr>\n",
       "      <th>2</th>\n",
       "      <th>a</th>\n",
       "      <td>3</td>\n",
       "      <td>4</td>\n",
       "      <td>5</td>\n",
       "    </tr>\n",
       "    <tr>\n",
       "      <th>1</th>\n",
       "      <th>b</th>\n",
       "      <td>6</td>\n",
       "      <td>7</td>\n",
       "      <td>8</td>\n",
       "    </tr>\n",
       "    <tr>\n",
       "      <th>2</th>\n",
       "      <th>b</th>\n",
       "      <td>9</td>\n",
       "      <td>10</td>\n",
       "      <td>11</td>\n",
       "    </tr>\n",
       "  </tbody>\n",
       "</table>\n",
       "</div>"
      ],
      "text/plain": [
       "Province    Alberta        Ontario\n",
       "Weather       Sunny Cloudy  Cloudy\n",
       "Inner Outer                       \n",
       "1     a           0      1       2\n",
       "2     a           3      4       5\n",
       "1     b           6      7       8\n",
       "2     b           9     10      11"
      ]
     },
     "execution_count": 59,
     "metadata": {},
     "output_type": "execute_result"
    }
   ],
   "source": [
    "df = df.swaplevel('Outer', 'Inner')\n",
    "df"
   ]
  },
  {
   "cell_type": "code",
   "execution_count": 60,
   "id": "ae412ca8",
   "metadata": {},
   "outputs": [
    {
     "data": {
      "text/html": [
       "<div>\n",
       "<style scoped>\n",
       "    .dataframe tbody tr th:only-of-type {\n",
       "        vertical-align: middle;\n",
       "    }\n",
       "\n",
       "    .dataframe tbody tr th {\n",
       "        vertical-align: top;\n",
       "    }\n",
       "\n",
       "    .dataframe thead tr th {\n",
       "        text-align: left;\n",
       "    }\n",
       "\n",
       "    .dataframe thead tr:last-of-type th {\n",
       "        text-align: right;\n",
       "    }\n",
       "</style>\n",
       "<table border=\"1\" class=\"dataframe\">\n",
       "  <thead>\n",
       "    <tr>\n",
       "      <th></th>\n",
       "      <th>Province</th>\n",
       "      <th colspan=\"2\" halign=\"left\">Alberta</th>\n",
       "      <th>Ontario</th>\n",
       "    </tr>\n",
       "    <tr>\n",
       "      <th></th>\n",
       "      <th>Weather</th>\n",
       "      <th>Sunny</th>\n",
       "      <th>Cloudy</th>\n",
       "      <th>Cloudy</th>\n",
       "    </tr>\n",
       "    <tr>\n",
       "      <th>Inner</th>\n",
       "      <th>Outer</th>\n",
       "      <th></th>\n",
       "      <th></th>\n",
       "      <th></th>\n",
       "    </tr>\n",
       "  </thead>\n",
       "  <tbody>\n",
       "    <tr>\n",
       "      <th rowspan=\"2\" valign=\"top\">1</th>\n",
       "      <th>a</th>\n",
       "      <td>0</td>\n",
       "      <td>1</td>\n",
       "      <td>2</td>\n",
       "    </tr>\n",
       "    <tr>\n",
       "      <th>b</th>\n",
       "      <td>6</td>\n",
       "      <td>7</td>\n",
       "      <td>8</td>\n",
       "    </tr>\n",
       "    <tr>\n",
       "      <th rowspan=\"2\" valign=\"top\">2</th>\n",
       "      <th>a</th>\n",
       "      <td>3</td>\n",
       "      <td>4</td>\n",
       "      <td>5</td>\n",
       "    </tr>\n",
       "    <tr>\n",
       "      <th>b</th>\n",
       "      <td>9</td>\n",
       "      <td>10</td>\n",
       "      <td>11</td>\n",
       "    </tr>\n",
       "  </tbody>\n",
       "</table>\n",
       "</div>"
      ],
      "text/plain": [
       "Province    Alberta        Ontario\n",
       "Weather       Sunny Cloudy  Cloudy\n",
       "Inner Outer                       \n",
       "1     a           0      1       2\n",
       "      b           6      7       8\n",
       "2     a           3      4       5\n",
       "      b           9     10      11"
      ]
     },
     "execution_count": 60,
     "metadata": {},
     "output_type": "execute_result"
    }
   ],
   "source": [
    "df = df.sort_index(level=0)\n",
    "df"
   ]
  },
  {
   "cell_type": "code",
   "execution_count": 61,
   "id": "8b0e42fe",
   "metadata": {},
   "outputs": [
    {
     "data": {
      "text/html": [
       "<div>\n",
       "<style scoped>\n",
       "    .dataframe tbody tr th:only-of-type {\n",
       "        vertical-align: middle;\n",
       "    }\n",
       "\n",
       "    .dataframe tbody tr th {\n",
       "        vertical-align: top;\n",
       "    }\n",
       "\n",
       "    .dataframe thead tr th {\n",
       "        text-align: left;\n",
       "    }\n",
       "\n",
       "    .dataframe thead tr:last-of-type th {\n",
       "        text-align: right;\n",
       "    }\n",
       "</style>\n",
       "<table border=\"1\" class=\"dataframe\">\n",
       "  <thead>\n",
       "    <tr>\n",
       "      <th></th>\n",
       "      <th>Province</th>\n",
       "      <th colspan=\"2\" halign=\"left\">Alberta</th>\n",
       "      <th>Ontario</th>\n",
       "    </tr>\n",
       "    <tr>\n",
       "      <th></th>\n",
       "      <th>Weather</th>\n",
       "      <th>Sunny</th>\n",
       "      <th>Cloudy</th>\n",
       "      <th>Cloudy</th>\n",
       "    </tr>\n",
       "    <tr>\n",
       "      <th>Outer</th>\n",
       "      <th>Inner</th>\n",
       "      <th></th>\n",
       "      <th></th>\n",
       "      <th></th>\n",
       "    </tr>\n",
       "  </thead>\n",
       "  <tbody>\n",
       "    <tr>\n",
       "      <th rowspan=\"2\" valign=\"top\">a</th>\n",
       "      <th>1</th>\n",
       "      <td>0</td>\n",
       "      <td>1</td>\n",
       "      <td>2</td>\n",
       "    </tr>\n",
       "    <tr>\n",
       "      <th>2</th>\n",
       "      <td>3</td>\n",
       "      <td>4</td>\n",
       "      <td>5</td>\n",
       "    </tr>\n",
       "    <tr>\n",
       "      <th rowspan=\"2\" valign=\"top\">b</th>\n",
       "      <th>1</th>\n",
       "      <td>6</td>\n",
       "      <td>7</td>\n",
       "      <td>8</td>\n",
       "    </tr>\n",
       "    <tr>\n",
       "      <th>2</th>\n",
       "      <td>9</td>\n",
       "      <td>10</td>\n",
       "      <td>11</td>\n",
       "    </tr>\n",
       "  </tbody>\n",
       "</table>\n",
       "</div>"
      ],
      "text/plain": [
       "Province    Alberta        Ontario\n",
       "Weather       Sunny Cloudy  Cloudy\n",
       "Outer Inner                       \n",
       "a     1           0      1       2\n",
       "      2           3      4       5\n",
       "b     1           6      7       8\n",
       "      2           9     10      11"
      ]
     },
     "execution_count": 61,
     "metadata": {},
     "output_type": "execute_result"
    }
   ],
   "source": [
    "df = df.swaplevel(0, 1).sort_index(level = 0)\n",
    "df"
   ]
  },
  {
   "cell_type": "code",
   "execution_count": 62,
   "id": "855b21cf",
   "metadata": {},
   "outputs": [
    {
     "data": {
      "text/plain": [
       "Province  Weather\n",
       "Alberta   Sunny      18\n",
       "          Cloudy     22\n",
       "Ontario   Cloudy     26\n",
       "dtype: int64"
      ]
     },
     "execution_count": 62,
     "metadata": {},
     "output_type": "execute_result"
    }
   ],
   "source": [
    "# default operation will be applied on column axis levels\n",
    "df.sum()"
   ]
  },
  {
   "cell_type": "code",
   "execution_count": 63,
   "id": "8b754334",
   "metadata": {},
   "outputs": [
    {
     "name": "stderr",
     "output_type": "stream",
     "text": [
      "C:\\Users\\ASIFN\\AppData\\Local\\Temp\\ipykernel_23780\\2194439546.py:1: FutureWarning: Using the level keyword in DataFrame and Series aggregations is deprecated and will be removed in a future version. Use groupby instead. df.sum(level=1) should use df.groupby(level=1).sum().\n",
      "  df.sum(level=0)\n"
     ]
    },
    {
     "data": {
      "text/html": [
       "<div>\n",
       "<style scoped>\n",
       "    .dataframe tbody tr th:only-of-type {\n",
       "        vertical-align: middle;\n",
       "    }\n",
       "\n",
       "    .dataframe tbody tr th {\n",
       "        vertical-align: top;\n",
       "    }\n",
       "\n",
       "    .dataframe thead tr th {\n",
       "        text-align: left;\n",
       "    }\n",
       "\n",
       "    .dataframe thead tr:last-of-type th {\n",
       "        text-align: right;\n",
       "    }\n",
       "</style>\n",
       "<table border=\"1\" class=\"dataframe\">\n",
       "  <thead>\n",
       "    <tr>\n",
       "      <th>Province</th>\n",
       "      <th colspan=\"2\" halign=\"left\">Alberta</th>\n",
       "      <th>Ontario</th>\n",
       "    </tr>\n",
       "    <tr>\n",
       "      <th>Weather</th>\n",
       "      <th>Sunny</th>\n",
       "      <th>Cloudy</th>\n",
       "      <th>Cloudy</th>\n",
       "    </tr>\n",
       "    <tr>\n",
       "      <th>Outer</th>\n",
       "      <th></th>\n",
       "      <th></th>\n",
       "      <th></th>\n",
       "    </tr>\n",
       "  </thead>\n",
       "  <tbody>\n",
       "    <tr>\n",
       "      <th>a</th>\n",
       "      <td>3</td>\n",
       "      <td>5</td>\n",
       "      <td>7</td>\n",
       "    </tr>\n",
       "    <tr>\n",
       "      <th>b</th>\n",
       "      <td>15</td>\n",
       "      <td>17</td>\n",
       "      <td>19</td>\n",
       "    </tr>\n",
       "  </tbody>\n",
       "</table>\n",
       "</div>"
      ],
      "text/plain": [
       "Province Alberta        Ontario\n",
       "Weather    Sunny Cloudy  Cloudy\n",
       "Outer                          \n",
       "a              3      5       7\n",
       "b             15     17      19"
      ]
     },
     "execution_count": 63,
     "metadata": {},
     "output_type": "execute_result"
    }
   ],
   "source": [
    "df.sum(level=0)"
   ]
  },
  {
   "cell_type": "code",
   "execution_count": 64,
   "id": "3bfacdc0",
   "metadata": {},
   "outputs": [
    {
     "name": "stderr",
     "output_type": "stream",
     "text": [
      "C:\\Users\\ASIFN\\AppData\\Local\\Temp\\ipykernel_23780\\3065896630.py:1: FutureWarning: Using the level keyword in DataFrame and Series aggregations is deprecated and will be removed in a future version. Use groupby instead. df.sum(level=1) should use df.groupby(level=1).sum().\n",
      "  df.sum(level=1)\n"
     ]
    },
    {
     "data": {
      "text/html": [
       "<div>\n",
       "<style scoped>\n",
       "    .dataframe tbody tr th:only-of-type {\n",
       "        vertical-align: middle;\n",
       "    }\n",
       "\n",
       "    .dataframe tbody tr th {\n",
       "        vertical-align: top;\n",
       "    }\n",
       "\n",
       "    .dataframe thead tr th {\n",
       "        text-align: left;\n",
       "    }\n",
       "\n",
       "    .dataframe thead tr:last-of-type th {\n",
       "        text-align: right;\n",
       "    }\n",
       "</style>\n",
       "<table border=\"1\" class=\"dataframe\">\n",
       "  <thead>\n",
       "    <tr>\n",
       "      <th>Province</th>\n",
       "      <th colspan=\"2\" halign=\"left\">Alberta</th>\n",
       "      <th>Ontario</th>\n",
       "    </tr>\n",
       "    <tr>\n",
       "      <th>Weather</th>\n",
       "      <th>Sunny</th>\n",
       "      <th>Cloudy</th>\n",
       "      <th>Cloudy</th>\n",
       "    </tr>\n",
       "    <tr>\n",
       "      <th>Inner</th>\n",
       "      <th></th>\n",
       "      <th></th>\n",
       "      <th></th>\n",
       "    </tr>\n",
       "  </thead>\n",
       "  <tbody>\n",
       "    <tr>\n",
       "      <th>1</th>\n",
       "      <td>6</td>\n",
       "      <td>8</td>\n",
       "      <td>10</td>\n",
       "    </tr>\n",
       "    <tr>\n",
       "      <th>2</th>\n",
       "      <td>12</td>\n",
       "      <td>14</td>\n",
       "      <td>16</td>\n",
       "    </tr>\n",
       "  </tbody>\n",
       "</table>\n",
       "</div>"
      ],
      "text/plain": [
       "Province Alberta        Ontario\n",
       "Weather    Sunny Cloudy  Cloudy\n",
       "Inner                          \n",
       "1              6      8      10\n",
       "2             12     14      16"
      ]
     },
     "execution_count": 64,
     "metadata": {},
     "output_type": "execute_result"
    }
   ],
   "source": [
    "df.sum(level=1)"
   ]
  },
  {
   "cell_type": "code",
   "execution_count": 65,
   "id": "e3c7ff52",
   "metadata": {},
   "outputs": [
    {
     "data": {
      "text/html": [
       "<div>\n",
       "<style scoped>\n",
       "    .dataframe tbody tr th:only-of-type {\n",
       "        vertical-align: middle;\n",
       "    }\n",
       "\n",
       "    .dataframe tbody tr th {\n",
       "        vertical-align: top;\n",
       "    }\n",
       "\n",
       "    .dataframe thead tr th {\n",
       "        text-align: left;\n",
       "    }\n",
       "\n",
       "    .dataframe thead tr:last-of-type th {\n",
       "        text-align: right;\n",
       "    }\n",
       "</style>\n",
       "<table border=\"1\" class=\"dataframe\">\n",
       "  <thead>\n",
       "    <tr>\n",
       "      <th></th>\n",
       "      <th>Province</th>\n",
       "      <th colspan=\"2\" halign=\"left\">Alberta</th>\n",
       "      <th>Ontario</th>\n",
       "    </tr>\n",
       "    <tr>\n",
       "      <th></th>\n",
       "      <th>Weather</th>\n",
       "      <th>Sunny</th>\n",
       "      <th>Cloudy</th>\n",
       "      <th>Cloudy</th>\n",
       "    </tr>\n",
       "    <tr>\n",
       "      <th>Outer</th>\n",
       "      <th>Inner</th>\n",
       "      <th></th>\n",
       "      <th></th>\n",
       "      <th></th>\n",
       "    </tr>\n",
       "  </thead>\n",
       "  <tbody>\n",
       "    <tr>\n",
       "      <th rowspan=\"2\" valign=\"top\">a</th>\n",
       "      <th>1</th>\n",
       "      <td>0</td>\n",
       "      <td>1</td>\n",
       "      <td>2</td>\n",
       "    </tr>\n",
       "    <tr>\n",
       "      <th>2</th>\n",
       "      <td>3</td>\n",
       "      <td>4</td>\n",
       "      <td>5</td>\n",
       "    </tr>\n",
       "    <tr>\n",
       "      <th rowspan=\"2\" valign=\"top\">b</th>\n",
       "      <th>1</th>\n",
       "      <td>6</td>\n",
       "      <td>7</td>\n",
       "      <td>8</td>\n",
       "    </tr>\n",
       "    <tr>\n",
       "      <th>2</th>\n",
       "      <td>9</td>\n",
       "      <td>10</td>\n",
       "      <td>11</td>\n",
       "    </tr>\n",
       "  </tbody>\n",
       "</table>\n",
       "</div>"
      ],
      "text/plain": [
       "Province    Alberta        Ontario\n",
       "Weather       Sunny Cloudy  Cloudy\n",
       "Outer Inner                       \n",
       "a     1           0      1       2\n",
       "      2           3      4       5\n",
       "b     1           6      7       8\n",
       "      2           9     10      11"
      ]
     },
     "execution_count": 65,
     "metadata": {},
     "output_type": "execute_result"
    }
   ],
   "source": [
    "df"
   ]
  },
  {
   "cell_type": "code",
   "execution_count": 66,
   "id": "3749164c",
   "metadata": {},
   "outputs": [
    {
     "data": {
      "text/html": [
       "<div>\n",
       "<style scoped>\n",
       "    .dataframe tbody tr th:only-of-type {\n",
       "        vertical-align: middle;\n",
       "    }\n",
       "\n",
       "    .dataframe tbody tr th {\n",
       "        vertical-align: top;\n",
       "    }\n",
       "\n",
       "    .dataframe thead th {\n",
       "        text-align: right;\n",
       "    }\n",
       "</style>\n",
       "<table border=\"1\" class=\"dataframe\">\n",
       "  <thead>\n",
       "    <tr style=\"text-align: right;\">\n",
       "      <th></th>\n",
       "      <th>Weather</th>\n",
       "      <th>Sunny</th>\n",
       "      <th>Cloudy</th>\n",
       "    </tr>\n",
       "    <tr>\n",
       "      <th>Outer</th>\n",
       "      <th>Inner</th>\n",
       "      <th></th>\n",
       "      <th></th>\n",
       "    </tr>\n",
       "  </thead>\n",
       "  <tbody>\n",
       "    <tr>\n",
       "      <th rowspan=\"2\" valign=\"top\">a</th>\n",
       "      <th>1</th>\n",
       "      <td>0</td>\n",
       "      <td>1</td>\n",
       "    </tr>\n",
       "    <tr>\n",
       "      <th>2</th>\n",
       "      <td>3</td>\n",
       "      <td>4</td>\n",
       "    </tr>\n",
       "    <tr>\n",
       "      <th rowspan=\"2\" valign=\"top\">b</th>\n",
       "      <th>1</th>\n",
       "      <td>6</td>\n",
       "      <td>7</td>\n",
       "    </tr>\n",
       "    <tr>\n",
       "      <th>2</th>\n",
       "      <td>9</td>\n",
       "      <td>10</td>\n",
       "    </tr>\n",
       "  </tbody>\n",
       "</table>\n",
       "</div>"
      ],
      "text/plain": [
       "Weather      Sunny  Cloudy\n",
       "Outer Inner               \n",
       "a     1          0       1\n",
       "      2          3       4\n",
       "b     1          6       7\n",
       "      2          9      10"
      ]
     },
     "execution_count": 66,
     "metadata": {},
     "output_type": "execute_result"
    }
   ],
   "source": [
    "df['Alberta']"
   ]
  },
  {
   "cell_type": "code",
   "execution_count": 67,
   "id": "b030211f",
   "metadata": {},
   "outputs": [
    {
     "data": {
      "text/plain": [
       "Outer  Inner\n",
       "a      1        0\n",
       "       2        3\n",
       "b      1        6\n",
       "       2        9\n",
       "Name: Sunny, dtype: int32"
      ]
     },
     "execution_count": 67,
     "metadata": {},
     "output_type": "execute_result"
    }
   ],
   "source": [
    "df['Alberta']['Sunny']"
   ]
  },
  {
   "cell_type": "code",
   "execution_count": 68,
   "id": "914ce953",
   "metadata": {},
   "outputs": [
    {
     "data": {
      "text/html": [
       "<div>\n",
       "<style scoped>\n",
       "    .dataframe tbody tr th:only-of-type {\n",
       "        vertical-align: middle;\n",
       "    }\n",
       "\n",
       "    .dataframe tbody tr th {\n",
       "        vertical-align: top;\n",
       "    }\n",
       "\n",
       "    .dataframe thead tr th {\n",
       "        text-align: left;\n",
       "    }\n",
       "\n",
       "    .dataframe thead tr:last-of-type th {\n",
       "        text-align: right;\n",
       "    }\n",
       "</style>\n",
       "<table border=\"1\" class=\"dataframe\">\n",
       "  <thead>\n",
       "    <tr>\n",
       "      <th></th>\n",
       "      <th>Province</th>\n",
       "      <th colspan=\"2\" halign=\"left\">Alberta</th>\n",
       "      <th>Ontario</th>\n",
       "    </tr>\n",
       "    <tr>\n",
       "      <th></th>\n",
       "      <th>Weather</th>\n",
       "      <th>Sunny</th>\n",
       "      <th>Cloudy</th>\n",
       "      <th>Cloudy</th>\n",
       "    </tr>\n",
       "    <tr>\n",
       "      <th>Outer</th>\n",
       "      <th>Inner</th>\n",
       "      <th></th>\n",
       "      <th></th>\n",
       "      <th></th>\n",
       "    </tr>\n",
       "  </thead>\n",
       "  <tbody>\n",
       "    <tr>\n",
       "      <th rowspan=\"2\" valign=\"top\">a</th>\n",
       "      <th>1</th>\n",
       "      <td>0</td>\n",
       "      <td>1</td>\n",
       "      <td>2</td>\n",
       "    </tr>\n",
       "    <tr>\n",
       "      <th>2</th>\n",
       "      <td>3</td>\n",
       "      <td>4</td>\n",
       "      <td>5</td>\n",
       "    </tr>\n",
       "    <tr>\n",
       "      <th rowspan=\"2\" valign=\"top\">b</th>\n",
       "      <th>1</th>\n",
       "      <td>6</td>\n",
       "      <td>7</td>\n",
       "      <td>8</td>\n",
       "    </tr>\n",
       "    <tr>\n",
       "      <th>2</th>\n",
       "      <td>9</td>\n",
       "      <td>10</td>\n",
       "      <td>11</td>\n",
       "    </tr>\n",
       "  </tbody>\n",
       "</table>\n",
       "</div>"
      ],
      "text/plain": [
       "Province    Alberta        Ontario\n",
       "Weather       Sunny Cloudy  Cloudy\n",
       "Outer Inner                       \n",
       "a     1           0      1       2\n",
       "      2           3      4       5\n",
       "b     1           6      7       8\n",
       "      2           9     10      11"
      ]
     },
     "execution_count": 68,
     "metadata": {},
     "output_type": "execute_result"
    }
   ],
   "source": [
    "df[['Alberta', 'Ontario']]"
   ]
  },
  {
   "cell_type": "code",
   "execution_count": 73,
   "id": "d0a0853d",
   "metadata": {},
   "outputs": [
    {
     "data": {
      "text/html": [
       "<div>\n",
       "<style scoped>\n",
       "    .dataframe tbody tr th:only-of-type {\n",
       "        vertical-align: middle;\n",
       "    }\n",
       "\n",
       "    .dataframe tbody tr th {\n",
       "        vertical-align: top;\n",
       "    }\n",
       "\n",
       "    .dataframe thead th {\n",
       "        text-align: right;\n",
       "    }\n",
       "</style>\n",
       "<table border=\"1\" class=\"dataframe\">\n",
       "  <thead>\n",
       "    <tr style=\"text-align: right;\">\n",
       "      <th></th>\n",
       "      <th>date</th>\n",
       "      <th>open</th>\n",
       "      <th>close</th>\n",
       "      <th>Name</th>\n",
       "    </tr>\n",
       "  </thead>\n",
       "  <tbody>\n",
       "    <tr>\n",
       "      <th>0</th>\n",
       "      <td>2013-02-08</td>\n",
       "      <td>15.07</td>\n",
       "      <td>14.75</td>\n",
       "      <td>AAL</td>\n",
       "    </tr>\n",
       "    <tr>\n",
       "      <th>1</th>\n",
       "      <td>2013-02-11</td>\n",
       "      <td>14.89</td>\n",
       "      <td>14.46</td>\n",
       "      <td>AAL</td>\n",
       "    </tr>\n",
       "    <tr>\n",
       "      <th>2</th>\n",
       "      <td>2013-02-12</td>\n",
       "      <td>14.45</td>\n",
       "      <td>14.27</td>\n",
       "      <td>AAL</td>\n",
       "    </tr>\n",
       "    <tr>\n",
       "      <th>3</th>\n",
       "      <td>2013-02-13</td>\n",
       "      <td>14.30</td>\n",
       "      <td>14.66</td>\n",
       "      <td>AAL</td>\n",
       "    </tr>\n",
       "    <tr>\n",
       "      <th>4</th>\n",
       "      <td>2013-02-14</td>\n",
       "      <td>14.94</td>\n",
       "      <td>13.99</td>\n",
       "      <td>AAL</td>\n",
       "    </tr>\n",
       "  </tbody>\n",
       "</table>\n",
       "</div>"
      ],
      "text/plain": [
       "         date   open  close Name\n",
       "0  2013-02-08  15.07  14.75  AAL\n",
       "1  2013-02-11  14.89  14.46  AAL\n",
       "2  2013-02-12  14.45  14.27  AAL\n",
       "3  2013-02-13  14.30  14.66  AAL\n",
       "4  2013-02-14  14.94  13.99  AAL"
      ]
     },
     "execution_count": 73,
     "metadata": {},
     "output_type": "execute_result"
    }
   ],
   "source": [
    "df = pd.read_csv('stocks.csv', usecols=['date', 'open','close','Name'], nrows=5000)\n",
    "df.head()"
   ]
  },
  {
   "cell_type": "code",
   "execution_count": 74,
   "id": "5b71842b",
   "metadata": {},
   "outputs": [
    {
     "data": {
      "text/html": [
       "<div>\n",
       "<style scoped>\n",
       "    .dataframe tbody tr th:only-of-type {\n",
       "        vertical-align: middle;\n",
       "    }\n",
       "\n",
       "    .dataframe tbody tr th {\n",
       "        vertical-align: top;\n",
       "    }\n",
       "\n",
       "    .dataframe thead th {\n",
       "        text-align: right;\n",
       "    }\n",
       "</style>\n",
       "<table border=\"1\" class=\"dataframe\">\n",
       "  <thead>\n",
       "    <tr style=\"text-align: right;\">\n",
       "      <th></th>\n",
       "      <th></th>\n",
       "      <th>open</th>\n",
       "      <th>close</th>\n",
       "    </tr>\n",
       "    <tr>\n",
       "      <th>Name</th>\n",
       "      <th>date</th>\n",
       "      <th></th>\n",
       "      <th></th>\n",
       "    </tr>\n",
       "  </thead>\n",
       "  <tbody>\n",
       "    <tr>\n",
       "      <th rowspan=\"5\" valign=\"top\">AAL</th>\n",
       "      <th>2013-02-08</th>\n",
       "      <td>15.070</td>\n",
       "      <td>14.75</td>\n",
       "    </tr>\n",
       "    <tr>\n",
       "      <th>2013-02-11</th>\n",
       "      <td>14.890</td>\n",
       "      <td>14.46</td>\n",
       "    </tr>\n",
       "    <tr>\n",
       "      <th>2013-02-12</th>\n",
       "      <td>14.450</td>\n",
       "      <td>14.27</td>\n",
       "    </tr>\n",
       "    <tr>\n",
       "      <th>2013-02-13</th>\n",
       "      <td>14.300</td>\n",
       "      <td>14.66</td>\n",
       "    </tr>\n",
       "    <tr>\n",
       "      <th>2013-02-14</th>\n",
       "      <td>14.940</td>\n",
       "      <td>13.99</td>\n",
       "    </tr>\n",
       "    <tr>\n",
       "      <th>...</th>\n",
       "      <th>...</th>\n",
       "      <td>...</td>\n",
       "      <td>...</td>\n",
       "    </tr>\n",
       "    <tr>\n",
       "      <th rowspan=\"5\" valign=\"top\">ABBV</th>\n",
       "      <th>2017-12-08</th>\n",
       "      <td>94.620</td>\n",
       "      <td>95.95</td>\n",
       "    </tr>\n",
       "    <tr>\n",
       "      <th>2017-12-11</th>\n",
       "      <td>95.880</td>\n",
       "      <td>96.47</td>\n",
       "    </tr>\n",
       "    <tr>\n",
       "      <th>2017-12-12</th>\n",
       "      <td>96.620</td>\n",
       "      <td>96.30</td>\n",
       "    </tr>\n",
       "    <tr>\n",
       "      <th>2017-12-13</th>\n",
       "      <td>96.600</td>\n",
       "      <td>97.35</td>\n",
       "    </tr>\n",
       "    <tr>\n",
       "      <th>2017-12-14</th>\n",
       "      <td>97.345</td>\n",
       "      <td>96.30</td>\n",
       "    </tr>\n",
       "  </tbody>\n",
       "</table>\n",
       "<p>5000 rows × 2 columns</p>\n",
       "</div>"
      ],
      "text/plain": [
       "                   open  close\n",
       "Name date                     \n",
       "AAL  2013-02-08  15.070  14.75\n",
       "     2013-02-11  14.890  14.46\n",
       "     2013-02-12  14.450  14.27\n",
       "     2013-02-13  14.300  14.66\n",
       "     2013-02-14  14.940  13.99\n",
       "...                 ...    ...\n",
       "ABBV 2017-12-08  94.620  95.95\n",
       "     2017-12-11  95.880  96.47\n",
       "     2017-12-12  96.620  96.30\n",
       "     2017-12-13  96.600  97.35\n",
       "     2017-12-14  97.345  96.30\n",
       "\n",
       "[5000 rows x 2 columns]"
      ]
     },
     "execution_count": 74,
     "metadata": {},
     "output_type": "execute_result"
    }
   ],
   "source": [
    "df.set_index(['Name', 'date'], inplace=True)\n",
    "df"
   ]
  },
  {
   "cell_type": "code",
   "execution_count": 75,
   "id": "a3246fea",
   "metadata": {},
   "outputs": [
    {
     "data": {
      "text/plain": [
       "MultiIndex([( 'AAL', '2013-02-08'),\n",
       "            ( 'AAL', '2013-02-11'),\n",
       "            ( 'AAL', '2013-02-12'),\n",
       "            ( 'AAL', '2013-02-13'),\n",
       "            ( 'AAL', '2013-02-14'),\n",
       "            ( 'AAL', '2013-02-15'),\n",
       "            ( 'AAL', '2013-02-19'),\n",
       "            ( 'AAL', '2013-02-20'),\n",
       "            ( 'AAL', '2013-02-21'),\n",
       "            ( 'AAL', '2013-02-22'),\n",
       "            ...\n",
       "            ('ABBV', '2017-12-01'),\n",
       "            ('ABBV', '2017-12-04'),\n",
       "            ('ABBV', '2017-12-05'),\n",
       "            ('ABBV', '2017-12-06'),\n",
       "            ('ABBV', '2017-12-07'),\n",
       "            ('ABBV', '2017-12-08'),\n",
       "            ('ABBV', '2017-12-11'),\n",
       "            ('ABBV', '2017-12-12'),\n",
       "            ('ABBV', '2017-12-13'),\n",
       "            ('ABBV', '2017-12-14')],\n",
       "           names=['Name', 'date'], length=5000)"
      ]
     },
     "execution_count": 75,
     "metadata": {},
     "output_type": "execute_result"
    }
   ],
   "source": [
    "df.index"
   ]
  },
  {
   "cell_type": "code",
   "execution_count": 79,
   "id": "10fbd9f9",
   "metadata": {},
   "outputs": [
    {
     "data": {
      "text/html": [
       "<div>\n",
       "<style scoped>\n",
       "    .dataframe tbody tr th:only-of-type {\n",
       "        vertical-align: middle;\n",
       "    }\n",
       "\n",
       "    .dataframe tbody tr th {\n",
       "        vertical-align: top;\n",
       "    }\n",
       "\n",
       "    .dataframe thead th {\n",
       "        text-align: right;\n",
       "    }\n",
       "</style>\n",
       "<table border=\"1\" class=\"dataframe\">\n",
       "  <thead>\n",
       "    <tr style=\"text-align: right;\">\n",
       "      <th></th>\n",
       "      <th>open</th>\n",
       "      <th>close</th>\n",
       "    </tr>\n",
       "    <tr>\n",
       "      <th>date</th>\n",
       "      <th></th>\n",
       "      <th></th>\n",
       "    </tr>\n",
       "  </thead>\n",
       "  <tbody>\n",
       "    <tr>\n",
       "      <th>2013-02-08</th>\n",
       "      <td>15.07</td>\n",
       "      <td>14.75</td>\n",
       "    </tr>\n",
       "    <tr>\n",
       "      <th>2013-02-11</th>\n",
       "      <td>14.89</td>\n",
       "      <td>14.46</td>\n",
       "    </tr>\n",
       "  </tbody>\n",
       "</table>\n",
       "</div>"
      ],
      "text/plain": [
       "             open  close\n",
       "date                    \n",
       "2013-02-08  15.07  14.75\n",
       "2013-02-11  14.89  14.46"
      ]
     },
     "execution_count": 79,
     "metadata": {},
     "output_type": "execute_result"
    }
   ],
   "source": [
    "df.loc['AAL'].head(2)"
   ]
  },
  {
   "cell_type": "code",
   "execution_count": 80,
   "id": "9f65a5e0",
   "metadata": {},
   "outputs": [
    {
     "data": {
      "text/html": [
       "<div>\n",
       "<style scoped>\n",
       "    .dataframe tbody tr th:only-of-type {\n",
       "        vertical-align: middle;\n",
       "    }\n",
       "\n",
       "    .dataframe tbody tr th {\n",
       "        vertical-align: top;\n",
       "    }\n",
       "\n",
       "    .dataframe thead th {\n",
       "        text-align: right;\n",
       "    }\n",
       "</style>\n",
       "<table border=\"1\" class=\"dataframe\">\n",
       "  <thead>\n",
       "    <tr style=\"text-align: right;\">\n",
       "      <th></th>\n",
       "      <th></th>\n",
       "      <th>open</th>\n",
       "      <th>close</th>\n",
       "    </tr>\n",
       "    <tr>\n",
       "      <th>Name</th>\n",
       "      <th>date</th>\n",
       "      <th></th>\n",
       "      <th></th>\n",
       "    </tr>\n",
       "  </thead>\n",
       "  <tbody>\n",
       "    <tr>\n",
       "      <th rowspan=\"2\" valign=\"top\">AAL</th>\n",
       "      <th>2013-02-08</th>\n",
       "      <td>15.07</td>\n",
       "      <td>14.75</td>\n",
       "    </tr>\n",
       "    <tr>\n",
       "      <th>2013-02-11</th>\n",
       "      <td>14.89</td>\n",
       "      <td>14.46</td>\n",
       "    </tr>\n",
       "  </tbody>\n",
       "</table>\n",
       "</div>"
      ],
      "text/plain": [
       "                  open  close\n",
       "Name date                    \n",
       "AAL  2013-02-08  15.07  14.75\n",
       "     2013-02-11  14.89  14.46"
      ]
     },
     "execution_count": 80,
     "metadata": {},
     "output_type": "execute_result"
    }
   ],
   "source": [
    "df.head(2)"
   ]
  },
  {
   "cell_type": "code",
   "execution_count": 81,
   "id": "da03a795",
   "metadata": {},
   "outputs": [
    {
     "data": {
      "text/plain": [
       "open     14.30\n",
       "close    14.66\n",
       "Name: (AAL, 2013-02-13), dtype: float64"
      ]
     },
     "execution_count": 81,
     "metadata": {},
     "output_type": "execute_result"
    }
   ],
   "source": [
    "# get the opening and the closing prices of AAL on 2013-02-13\n",
    "df.loc[('AAL','2013-02-13')]"
   ]
  },
  {
   "cell_type": "code",
   "execution_count": 82,
   "id": "ea10ddfd",
   "metadata": {},
   "outputs": [
    {
     "data": {
      "text/plain": [
       "open     14.30\n",
       "close    14.66\n",
       "Name: (AAL, 2013-02-13), dtype: float64"
      ]
     },
     "execution_count": 82,
     "metadata": {},
     "output_type": "execute_result"
    }
   ],
   "source": [
    "df.loc[('AAL','2013-02-13'), :]"
   ]
  },
  {
   "cell_type": "code",
   "execution_count": 83,
   "id": "cd58e948",
   "metadata": {},
   "outputs": [
    {
     "data": {
      "text/plain": [
       "14.3"
      ]
     },
     "execution_count": 83,
     "metadata": {},
     "output_type": "execute_result"
    }
   ],
   "source": [
    "# get the opening price of AAL on 2013-02-13\n",
    "df.loc[('AAL','2013-02-13')]['open']"
   ]
  },
  {
   "cell_type": "code",
   "execution_count": 84,
   "id": "2992fd7f",
   "metadata": {},
   "outputs": [
    {
     "data": {
      "text/plain": [
       "14.3"
      ]
     },
     "execution_count": 84,
     "metadata": {},
     "output_type": "execute_result"
    }
   ],
   "source": [
    "df.loc[('AAL', '2013-02-13'), 'open']"
   ]
  },
  {
   "cell_type": "code",
   "execution_count": 85,
   "id": "0531af98",
   "metadata": {},
   "outputs": [
    {
     "data": {
      "text/plain": [
       "Name  date      \n",
       "AAL   2013-02-13    14.30\n",
       "ABBV  2013-02-13    35.42\n",
       "Name: open, dtype: float64"
      ]
     },
     "execution_count": 85,
     "metadata": {},
     "output_type": "execute_result"
    }
   ],
   "source": [
    "# get the opening price of AAL and ABBV on 2013-02-13\n",
    "df.loc[(['AAL', 'ABBV'], '2013-02-13'), 'open']"
   ]
  },
  {
   "cell_type": "code",
   "execution_count": 86,
   "id": "bc1246c8",
   "metadata": {},
   "outputs": [
    {
     "data": {
      "text/plain": [
       "Name  date      \n",
       "AAL   2013-02-13    14.30\n",
       "ABBV  2013-02-13    35.42\n",
       "Name: open, dtype: float64"
      ]
     },
     "execution_count": 86,
     "metadata": {},
     "output_type": "execute_result"
    }
   ],
   "source": [
    "df.loc[[('AAL','2013-02-13'),('ABBV','2013-02-13')],'open']"
   ]
  },
  {
   "cell_type": "code",
   "execution_count": 87,
   "id": "860c6308",
   "metadata": {},
   "outputs": [
    {
     "data": {
      "text/plain": [
       "Name  date      \n",
       "AAL   2013-02-13    14.30\n",
       "      2013-02-14    14.94\n",
       "ABBV  2013-02-13    35.42\n",
       "      2013-02-14    35.05\n",
       "Name: open, dtype: float64"
      ]
     },
     "execution_count": 87,
     "metadata": {},
     "output_type": "execute_result"
    }
   ],
   "source": [
    "# get the opening price of AAL and ABBV on 2013-02-13 and 14-02-2013\n",
    "df.loc[(['AAL', 'ABBV'], ['2013-02-13', '2013-02-14']), 'open']"
   ]
  },
  {
   "cell_type": "code",
   "execution_count": 91,
   "id": "b8991964",
   "metadata": {},
   "outputs": [
    {
     "data": {
      "text/plain": [
       "Name  date      \n",
       "AAL   2013-02-14    14.9400\n",
       "AAPL  2013-02-14    66.3599\n",
       "AAP   2013-02-14    78.6600\n",
       "ABBV  2013-02-14    35.0500\n",
       "Name: open, dtype: float64"
      ]
     },
     "execution_count": 91,
     "metadata": {},
     "output_type": "execute_result"
    }
   ],
   "source": [
    "df.loc[(['AAL', 'AAPL', 'AAP', 'ABBV'], '2013-02-14'), 'open']"
   ]
  },
  {
   "cell_type": "code",
   "execution_count": 88,
   "id": "fa9b06c5",
   "metadata": {},
   "outputs": [
    {
     "data": {
      "text/plain": [
       "Name  date      \n",
       "AAL   2013-02-14    14.9400\n",
       "AAPL  2013-02-14    66.3599\n",
       "AAP   2013-02-14    78.6600\n",
       "ABBV  2013-02-14    35.0500\n",
       "Name: open, dtype: float64"
      ]
     },
     "execution_count": 88,
     "metadata": {},
     "output_type": "execute_result"
    }
   ],
   "source": [
    "df.loc[(slice(None),'2013-02-14'), 'open']"
   ]
  },
  {
   "cell_type": "code",
   "execution_count": null,
   "id": "47438629",
   "metadata": {},
   "outputs": [],
   "source": []
  },
  {
   "cell_type": "code",
   "execution_count": 89,
   "id": "d1607366",
   "metadata": {},
   "outputs": [
    {
     "data": {
      "text/plain": [
       "array([15.07 , 14.89 , 14.45 , ..., 95.88 , 96.6  , 97.345])"
      ]
     },
     "execution_count": 89,
     "metadata": {},
     "output_type": "execute_result"
    }
   ],
   "source": [
    "df['open'].unique()"
   ]
  },
  {
   "cell_type": "code",
   "execution_count": null,
   "id": "aee2f261",
   "metadata": {},
   "outputs": [],
   "source": []
  },
  {
   "cell_type": "code",
   "execution_count": null,
   "id": "9362b5f5",
   "metadata": {},
   "outputs": [],
   "source": []
  },
  {
   "cell_type": "code",
   "execution_count": null,
   "id": "df2ddd7b",
   "metadata": {},
   "outputs": [],
   "source": []
  },
  {
   "cell_type": "code",
   "execution_count": null,
   "id": "53764a31",
   "metadata": {},
   "outputs": [],
   "source": []
  },
  {
   "cell_type": "code",
   "execution_count": null,
   "id": "01d208ad",
   "metadata": {},
   "outputs": [],
   "source": []
  },
  {
   "cell_type": "code",
   "execution_count": null,
   "id": "d7b8bc74",
   "metadata": {},
   "outputs": [],
   "source": []
  },
  {
   "cell_type": "code",
   "execution_count": null,
   "id": "6ec75b03",
   "metadata": {},
   "outputs": [],
   "source": []
  },
  {
   "cell_type": "code",
   "execution_count": null,
   "id": "7bb4ac62",
   "metadata": {},
   "outputs": [],
   "source": []
  },
  {
   "cell_type": "code",
   "execution_count": null,
   "id": "f69bf2d3",
   "metadata": {},
   "outputs": [],
   "source": []
  },
  {
   "cell_type": "code",
   "execution_count": null,
   "id": "11824210",
   "metadata": {},
   "outputs": [],
   "source": []
  },
  {
   "cell_type": "code",
   "execution_count": null,
   "id": "f12af4ab",
   "metadata": {},
   "outputs": [],
   "source": []
  },
  {
   "cell_type": "code",
   "execution_count": null,
   "id": "21a3fea0",
   "metadata": {},
   "outputs": [],
   "source": []
  },
  {
   "cell_type": "code",
   "execution_count": null,
   "id": "7831dccc",
   "metadata": {},
   "outputs": [],
   "source": []
  },
  {
   "cell_type": "code",
   "execution_count": null,
   "id": "22271222",
   "metadata": {},
   "outputs": [],
   "source": []
  },
  {
   "cell_type": "code",
   "execution_count": null,
   "id": "7146105d",
   "metadata": {},
   "outputs": [],
   "source": []
  },
  {
   "cell_type": "code",
   "execution_count": null,
   "id": "03ce3c1b",
   "metadata": {},
   "outputs": [],
   "source": []
  },
  {
   "cell_type": "code",
   "execution_count": null,
   "id": "0ba5dae0",
   "metadata": {},
   "outputs": [],
   "source": []
  },
  {
   "cell_type": "code",
   "execution_count": null,
   "id": "88510430",
   "metadata": {},
   "outputs": [],
   "source": []
  },
  {
   "cell_type": "code",
   "execution_count": null,
   "id": "a9ad866f",
   "metadata": {},
   "outputs": [],
   "source": []
  },
  {
   "cell_type": "code",
   "execution_count": null,
   "id": "6830cd0e",
   "metadata": {},
   "outputs": [],
   "source": []
  },
  {
   "cell_type": "code",
   "execution_count": null,
   "id": "783ba97a",
   "metadata": {},
   "outputs": [],
   "source": []
  },
  {
   "cell_type": "code",
   "execution_count": null,
   "id": "c2ab069c",
   "metadata": {},
   "outputs": [],
   "source": []
  },
  {
   "cell_type": "code",
   "execution_count": null,
   "id": "6656d9c5",
   "metadata": {},
   "outputs": [],
   "source": []
  },
  {
   "cell_type": "code",
   "execution_count": null,
   "id": "80b2a6f2",
   "metadata": {},
   "outputs": [],
   "source": []
  },
  {
   "cell_type": "code",
   "execution_count": null,
   "id": "793c3ece",
   "metadata": {},
   "outputs": [],
   "source": []
  },
  {
   "cell_type": "code",
   "execution_count": null,
   "id": "f974606d",
   "metadata": {},
   "outputs": [],
   "source": []
  },
  {
   "cell_type": "code",
   "execution_count": null,
   "id": "595a4537",
   "metadata": {},
   "outputs": [],
   "source": []
  },
  {
   "cell_type": "code",
   "execution_count": null,
   "id": "cf4370b4",
   "metadata": {},
   "outputs": [],
   "source": []
  },
  {
   "cell_type": "code",
   "execution_count": null,
   "id": "643efb70",
   "metadata": {},
   "outputs": [],
   "source": []
  },
  {
   "cell_type": "code",
   "execution_count": null,
   "id": "e55627bd",
   "metadata": {},
   "outputs": [],
   "source": []
  },
  {
   "cell_type": "code",
   "execution_count": null,
   "id": "b58f8021",
   "metadata": {},
   "outputs": [],
   "source": []
  }
 ],
 "metadata": {
  "kernelspec": {
   "display_name": "Python 3 (ipykernel)",
   "language": "python",
   "name": "python3"
  },
  "language_info": {
   "codemirror_mode": {
    "name": "ipython",
    "version": 3
   },
   "file_extension": ".py",
   "mimetype": "text/x-python",
   "name": "python",
   "nbconvert_exporter": "python",
   "pygments_lexer": "ipython3",
   "version": "3.9.13"
  }
 },
 "nbformat": 4,
 "nbformat_minor": 5
}
