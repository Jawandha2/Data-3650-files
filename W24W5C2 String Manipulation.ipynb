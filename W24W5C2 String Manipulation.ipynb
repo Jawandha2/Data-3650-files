{
 "cells": [
  {
   "cell_type": "code",
   "execution_count": 1,
   "id": "17f92c99",
   "metadata": {},
   "outputs": [],
   "source": [
    "import numpy as np\n",
    "import pandas as pd"
   ]
  },
  {
   "cell_type": "code",
   "execution_count": 2,
   "id": "82fd100b",
   "metadata": {},
   "outputs": [
    {
     "data": {
      "text/plain": [
       "'Let there be light'"
      ]
     },
     "execution_count": 2,
     "metadata": {},
     "output_type": "execute_result"
    }
   ],
   "source": [
    "text = 'Let there be light'\n",
    "text"
   ]
  },
  {
   "cell_type": "code",
   "execution_count": 3,
   "id": "feabed72",
   "metadata": {},
   "outputs": [
    {
     "data": {
      "text/plain": [
       "str"
      ]
     },
     "execution_count": 3,
     "metadata": {},
     "output_type": "execute_result"
    }
   ],
   "source": [
    "type(text)"
   ]
  },
  {
   "cell_type": "code",
   "execution_count": 4,
   "id": "f614a1cf",
   "metadata": {},
   "outputs": [
    {
     "data": {
      "text/plain": [
       "True"
      ]
     },
     "execution_count": 4,
     "metadata": {},
     "output_type": "execute_result"
    }
   ],
   "source": [
    "'the' in text"
   ]
  },
  {
   "cell_type": "code",
   "execution_count": 5,
   "id": "4b420acc",
   "metadata": {},
   "outputs": [
    {
     "data": {
      "text/plain": [
       "18"
      ]
     },
     "execution_count": 5,
     "metadata": {},
     "output_type": "execute_result"
    }
   ],
   "source": [
    "# length of a string\n",
    "len(text)"
   ]
  },
  {
   "cell_type": "code",
   "execution_count": 6,
   "id": "32e46538",
   "metadata": {},
   "outputs": [
    {
     "data": {
      "text/plain": [
       "4"
      ]
     },
     "execution_count": 6,
     "metadata": {},
     "output_type": "execute_result"
    }
   ],
   "source": [
    "text.index('the')"
   ]
  },
  {
   "cell_type": "code",
   "execution_count": 7,
   "id": "22e88130",
   "metadata": {},
   "outputs": [
    {
     "ename": "ValueError",
     "evalue": "substring not found",
     "output_type": "error",
     "traceback": [
      "\u001b[1;31m---------------------------------------------------------------------------\u001b[0m",
      "\u001b[1;31mValueError\u001b[0m                                Traceback (most recent call last)",
      "\u001b[1;32m~\\AppData\\Local\\Temp\\ipykernel_2392\\345659176.py\u001b[0m in \u001b[0;36m<module>\u001b[1;34m\u001b[0m\n\u001b[1;32m----> 1\u001b[1;33m \u001b[0mtext\u001b[0m\u001b[1;33m.\u001b[0m\u001b[0mindex\u001b[0m\u001b[1;33m(\u001b[0m\u001b[1;34m'they'\u001b[0m\u001b[1;33m)\u001b[0m\u001b[1;33m\u001b[0m\u001b[1;33m\u001b[0m\u001b[0m\n\u001b[0m",
      "\u001b[1;31mValueError\u001b[0m: substring not found"
     ]
    }
   ],
   "source": [
    "text.index('they')"
   ]
  },
  {
   "cell_type": "code",
   "execution_count": 8,
   "id": "6f96798c",
   "metadata": {},
   "outputs": [
    {
     "data": {
      "text/plain": [
       "4"
      ]
     },
     "execution_count": 8,
     "metadata": {},
     "output_type": "execute_result"
    }
   ],
   "source": [
    "text.find('the')"
   ]
  },
  {
   "cell_type": "code",
   "execution_count": 9,
   "id": "b1d26b1c",
   "metadata": {},
   "outputs": [
    {
     "data": {
      "text/plain": [
       "-1"
      ]
     },
     "execution_count": 9,
     "metadata": {},
     "output_type": "execute_result"
    }
   ],
   "source": [
    "text.find('they')"
   ]
  },
  {
   "cell_type": "code",
   "execution_count": 10,
   "id": "757ea2dd",
   "metadata": {},
   "outputs": [
    {
     "data": {
      "text/plain": [
       "'let there be light'"
      ]
     },
     "execution_count": 10,
     "metadata": {},
     "output_type": "execute_result"
    }
   ],
   "source": [
    "text.lower()"
   ]
  },
  {
   "cell_type": "code",
   "execution_count": 11,
   "id": "f896d171",
   "metadata": {},
   "outputs": [
    {
     "data": {
      "text/plain": [
       "'LET THERE BE LIGHT'"
      ]
     },
     "execution_count": 11,
     "metadata": {},
     "output_type": "execute_result"
    }
   ],
   "source": [
    "text.upper()"
   ]
  },
  {
   "cell_type": "code",
   "execution_count": 12,
   "id": "6680f5e0",
   "metadata": {},
   "outputs": [
    {
     "data": {
      "text/plain": [
       "False"
      ]
     },
     "execution_count": 12,
     "metadata": {},
     "output_type": "execute_result"
    }
   ],
   "source": [
    "text.islower()"
   ]
  },
  {
   "cell_type": "code",
   "execution_count": 13,
   "id": "f6c531f5",
   "metadata": {},
   "outputs": [
    {
     "data": {
      "text/plain": [
       "'Let there be light'"
      ]
     },
     "execution_count": 13,
     "metadata": {},
     "output_type": "execute_result"
    }
   ],
   "source": [
    "text"
   ]
  },
  {
   "cell_type": "code",
   "execution_count": 14,
   "id": "7b46a7ef",
   "metadata": {},
   "outputs": [
    {
     "data": {
      "text/plain": [
       "False"
      ]
     },
     "execution_count": 14,
     "metadata": {},
     "output_type": "execute_result"
    }
   ],
   "source": [
    "text.startswith('let')"
   ]
  },
  {
   "cell_type": "code",
   "execution_count": 15,
   "id": "4783d27e",
   "metadata": {},
   "outputs": [
    {
     "data": {
      "text/plain": [
       "True"
      ]
     },
     "execution_count": 15,
     "metadata": {},
     "output_type": "execute_result"
    }
   ],
   "source": [
    "text.startswith('Let')"
   ]
  },
  {
   "cell_type": "code",
   "execution_count": 16,
   "id": "c3d6c803",
   "metadata": {},
   "outputs": [
    {
     "data": {
      "text/plain": [
       "True"
      ]
     },
     "execution_count": 16,
     "metadata": {},
     "output_type": "execute_result"
    }
   ],
   "source": [
    "text.endswith('light')"
   ]
  },
  {
   "cell_type": "code",
   "execution_count": 17,
   "id": "a68a873b",
   "metadata": {},
   "outputs": [],
   "source": [
    "text = ' Let there be light ' "
   ]
  },
  {
   "cell_type": "code",
   "execution_count": 18,
   "id": "22ac859b",
   "metadata": {},
   "outputs": [
    {
     "data": {
      "text/plain": [
       "'Let there be light'"
      ]
     },
     "execution_count": 18,
     "metadata": {},
     "output_type": "execute_result"
    }
   ],
   "source": [
    "text.strip()"
   ]
  },
  {
   "cell_type": "code",
   "execution_count": 19,
   "id": "fb622da7",
   "metadata": {},
   "outputs": [
    {
     "data": {
      "text/plain": [
       "['Let', 'there', 'be', 'light']"
      ]
     },
     "execution_count": 19,
     "metadata": {},
     "output_type": "execute_result"
    }
   ],
   "source": [
    "text.split()"
   ]
  },
  {
   "cell_type": "code",
   "execution_count": 20,
   "id": "082bde18",
   "metadata": {},
   "outputs": [
    {
     "data": {
      "text/plain": [
       "' Let there be light '"
      ]
     },
     "execution_count": 20,
     "metadata": {},
     "output_type": "execute_result"
    }
   ],
   "source": [
    "text"
   ]
  },
  {
   "cell_type": "code",
   "execution_count": 21,
   "id": "d357659e",
   "metadata": {},
   "outputs": [
    {
     "data": {
      "text/plain": [
       "' Let there be Light '"
      ]
     },
     "execution_count": 21,
     "metadata": {},
     "output_type": "execute_result"
    }
   ],
   "source": [
    "text.replace('light', 'Light')"
   ]
  },
  {
   "cell_type": "markdown",
   "id": "0fb42513",
   "metadata": {},
   "source": [
    "## Regular Expression"
   ]
  },
  {
   "cell_type": "code",
   "execution_count": 22,
   "id": "8e50c4c6",
   "metadata": {},
   "outputs": [],
   "source": [
    "import re"
   ]
  },
  {
   "cell_type": "code",
   "execution_count": 23,
   "id": "999629cd",
   "metadata": {},
   "outputs": [],
   "source": [
    "sentence = 'foo bar\\t baz \\tquz'"
   ]
  },
  {
   "cell_type": "code",
   "execution_count": 24,
   "id": "73b58b98",
   "metadata": {},
   "outputs": [
    {
     "data": {
      "text/plain": [
       "'foo bar\\t baz \\tquz'"
      ]
     },
     "execution_count": 24,
     "metadata": {},
     "output_type": "execute_result"
    }
   ],
   "source": [
    "sentence"
   ]
  },
  {
   "cell_type": "code",
   "execution_count": 25,
   "id": "a1648b8d",
   "metadata": {},
   "outputs": [
    {
     "data": {
      "text/plain": [
       "['foo', 'bar', 'baz', 'quz']"
      ]
     },
     "execution_count": 25,
     "metadata": {},
     "output_type": "execute_result"
    }
   ],
   "source": [
    "sentence.split()"
   ]
  },
  {
   "cell_type": "code",
   "execution_count": 26,
   "id": "d3b921bd",
   "metadata": {},
   "outputs": [
    {
     "data": {
      "text/plain": [
       "['foo', 'bar', 'baz', 'quz']"
      ]
     },
     "execution_count": 26,
     "metadata": {},
     "output_type": "execute_result"
    }
   ],
   "source": [
    "re.split('\\s+', sentence)"
   ]
  },
  {
   "cell_type": "code",
   "execution_count": 27,
   "id": "356a406b",
   "metadata": {},
   "outputs": [],
   "source": [
    "regex = re.compile('\\s+')"
   ]
  },
  {
   "cell_type": "code",
   "execution_count": 28,
   "id": "675f6664",
   "metadata": {},
   "outputs": [
    {
     "data": {
      "text/plain": [
       "['foo', 'bar', 'baz', 'quz']"
      ]
     },
     "execution_count": 28,
     "metadata": {},
     "output_type": "execute_result"
    }
   ],
   "source": [
    "regex.split(sentence)"
   ]
  },
  {
   "cell_type": "code",
   "execution_count": 29,
   "id": "e7316d36",
   "metadata": {},
   "outputs": [
    {
     "data": {
      "text/plain": [
       "[' ', '\\t ', ' \\t']"
      ]
     },
     "execution_count": 29,
     "metadata": {},
     "output_type": "execute_result"
    }
   ],
   "source": [
    "regex.findall(sentence)"
   ]
  },
  {
   "cell_type": "code",
   "execution_count": 30,
   "id": "67b16d4e",
   "metadata": {},
   "outputs": [],
   "source": [
    "text = \"\"\"Dave dave@gamil.com\n",
    "Steve steve@gmail.com\n",
    "Rob rob@gmail.com\n",
    "Ryan ryan@gmail.com\n",
    "\"\"\""
   ]
  },
  {
   "cell_type": "code",
   "execution_count": 31,
   "id": "40cb6e74",
   "metadata": {},
   "outputs": [],
   "source": [
    "pattern = r'[A-Z0-9._]+@[A-Z0-9.-]+\\.[A-Z]{2,4}'"
   ]
  },
  {
   "cell_type": "code",
   "execution_count": 32,
   "id": "82452c2d",
   "metadata": {},
   "outputs": [],
   "source": [
    "regex = re.compile(pattern, flags=re.IGNORECASE)"
   ]
  },
  {
   "cell_type": "code",
   "execution_count": 33,
   "id": "d02b6c15",
   "metadata": {},
   "outputs": [
    {
     "data": {
      "text/plain": [
       "['dave@gamil.com', 'steve@gmail.com', 'rob@gmail.com', 'ryan@gmail.com']"
      ]
     },
     "execution_count": 33,
     "metadata": {},
     "output_type": "execute_result"
    }
   ],
   "source": [
    "regex.findall(text)"
   ]
  },
  {
   "cell_type": "code",
   "execution_count": null,
   "id": "84d1d432",
   "metadata": {},
   "outputs": [],
   "source": [
    "# any word with 4 letters long staring with r and ending with d"
   ]
  },
  {
   "cell_type": "code",
   "execution_count": 34,
   "id": "fbdbb580",
   "metadata": {},
   "outputs": [
    {
     "name": "stdout",
     "output_type": "stream",
     "text": [
      "Present\n"
     ]
    }
   ],
   "source": [
    "# match() only matches at the beginning of a string\n",
    "pattern = '^r..d$'\n",
    "sentence = 'read'\n",
    "\n",
    "check = re.match(pattern, sentence)\n",
    "if check:\n",
    "    print('Present')\n",
    "else:\n",
    "    print(\"Absent\")"
   ]
  },
  {
   "cell_type": "code",
   "execution_count": 37,
   "id": "89915def",
   "metadata": {},
   "outputs": [
    {
     "name": "stdout",
     "output_type": "stream",
     "text": [
      "Absent\n"
     ]
    }
   ],
   "source": [
    "pattern = '^r..d$'\n",
    "sentence = 'play and read'\n",
    "\n",
    "check = re.match(pattern, sentence)\n",
    "if check:\n",
    "    print('Present')\n",
    "else:\n",
    "    print(\"Absent\")"
   ]
  },
  {
   "cell_type": "code",
   "execution_count": 38,
   "id": "64213367",
   "metadata": {},
   "outputs": [
    {
     "data": {
      "text/plain": [
       "[]"
      ]
     },
     "execution_count": 38,
     "metadata": {},
     "output_type": "execute_result"
    }
   ],
   "source": [
    "re.findall(pattern, sentence)"
   ]
  },
  {
   "cell_type": "code",
   "execution_count": 39,
   "id": "7b9f645e",
   "metadata": {},
   "outputs": [
    {
     "data": {
      "text/plain": [
       "['read']"
      ]
     },
     "execution_count": 39,
     "metadata": {},
     "output_type": "execute_result"
    }
   ],
   "source": [
    "pattern1 = 'r..d'\n",
    "sentence1 = 'play and read'\n",
    "re.findall(pattern1, sentence1)"
   ]
  },
  {
   "cell_type": "code",
   "execution_count": 43,
   "id": "3cf3faad",
   "metadata": {},
   "outputs": [
    {
     "name": "stdout",
     "output_type": "stream",
     "text": [
      "<re.Match object; span=(2, 3), match='a'>\n"
     ]
    }
   ],
   "source": [
    "sentenct = 'data analytics'\n",
    "print(re.search(r'[ad]', sentence))"
   ]
  },
  {
   "cell_type": "code",
   "execution_count": 44,
   "id": "b4f4da6b",
   "metadata": {},
   "outputs": [
    {
     "name": "stdout",
     "output_type": "stream",
     "text": [
      "<re.Match object; span=(0, 1), match='d'>\n"
     ]
    }
   ],
   "source": [
    "pattern = r'.'\n",
    "sentenct = 'data'\n",
    "print(re.search(pattern, sentenct))"
   ]
  },
  {
   "cell_type": "code",
   "execution_count": 45,
   "id": "f3740f05",
   "metadata": {},
   "outputs": [
    {
     "name": "stdout",
     "output_type": "stream",
     "text": [
      "<re.Match object; span=(0, 2), match='da'>\n"
     ]
    }
   ],
   "source": [
    "pattern = r'..'\n",
    "sentenct = 'data'\n",
    "print(re.search(pattern, sentenct))"
   ]
  },
  {
   "cell_type": "code",
   "execution_count": 46,
   "id": "fbfa7034",
   "metadata": {},
   "outputs": [
    {
     "name": "stdout",
     "output_type": "stream",
     "text": [
      "['da', 'ta']\n"
     ]
    }
   ],
   "source": [
    "pattern = r'..'\n",
    "sentenct = 'data'\n",
    "print(re.findall(pattern, sentenct))"
   ]
  },
  {
   "cell_type": "code",
   "execution_count": 47,
   "id": "55523962",
   "metadata": {},
   "outputs": [
    {
     "data": {
      "text/plain": [
       "['abc']"
      ]
     },
     "execution_count": 47,
     "metadata": {},
     "output_type": "execute_result"
    }
   ],
   "source": [
    "re.findall(r'^abc', 'abcd')"
   ]
  },
  {
   "cell_type": "code",
   "execution_count": 48,
   "id": "34d89a02",
   "metadata": {},
   "outputs": [
    {
     "data": {
      "text/plain": [
       "[]"
      ]
     },
     "execution_count": 48,
     "metadata": {},
     "output_type": "execute_result"
    }
   ],
   "source": [
    "re.findall(r'^za', 'abcd')"
   ]
  },
  {
   "cell_type": "code",
   "execution_count": 49,
   "id": "8905f565",
   "metadata": {},
   "outputs": [
    {
     "data": {
      "text/plain": [
       "[]"
      ]
     },
     "execution_count": 49,
     "metadata": {},
     "output_type": "execute_result"
    }
   ],
   "source": [
    "re.findall(r'a$', 'abcd')"
   ]
  },
  {
   "cell_type": "code",
   "execution_count": 50,
   "id": "d49436a8",
   "metadata": {},
   "outputs": [
    {
     "data": {
      "text/plain": [
       "['a']"
      ]
     },
     "execution_count": 50,
     "metadata": {},
     "output_type": "execute_result"
    }
   ],
   "source": [
    "re.findall(r'a$', 'abcda')"
   ]
  },
  {
   "cell_type": "code",
   "execution_count": 52,
   "id": "79c58c76",
   "metadata": {},
   "outputs": [
    {
     "name": "stdout",
     "output_type": "stream",
     "text": [
      "None\n"
     ]
    }
   ],
   "source": [
    "print(re.search(r'a{2,3}', 'abc dat'))"
   ]
  },
  {
   "cell_type": "code",
   "execution_count": 53,
   "id": "b8d8a867",
   "metadata": {},
   "outputs": [
    {
     "name": "stdout",
     "output_type": "stream",
     "text": [
      "<re.Match object; span=(5, 7), match='aa'>\n"
     ]
    }
   ],
   "source": [
    "print(re.search(r'a{2,3}', 'abc daat'))"
   ]
  },
  {
   "cell_type": "code",
   "execution_count": 55,
   "id": "a7dc4967",
   "metadata": {},
   "outputs": [
    {
     "name": "stdout",
     "output_type": "stream",
     "text": [
      "['123']\n"
     ]
    }
   ],
   "source": [
    "print(re.findall(r'[0-9]{2,4}', 'ab123cd2q'))"
   ]
  },
  {
   "cell_type": "code",
   "execution_count": 56,
   "id": "2a86b198",
   "metadata": {},
   "outputs": [
    {
     "name": "stdout",
     "output_type": "stream",
     "text": [
      "['12', '1234']\n"
     ]
    }
   ],
   "source": [
    "print(re.findall(r'[0-9]{2,4}', '12 and 12345'))"
   ]
  },
  {
   "cell_type": "code",
   "execution_count": null,
   "id": "6b40d19b",
   "metadata": {},
   "outputs": [],
   "source": []
  },
  {
   "cell_type": "code",
   "execution_count": 67,
   "id": "a4ab4e0b",
   "metadata": {},
   "outputs": [],
   "source": [
    "provinces = ['British Columbia', 'Prince Edward Islan', 'NewfoundlandAndLabrador', 'Nova Scotia', 'Alberta']"
   ]
  },
  {
   "cell_type": "code",
   "execution_count": 71,
   "id": "58041bb0",
   "metadata": {},
   "outputs": [
    {
     "name": "stdout",
     "output_type": "stream",
     "text": [
      "British Columbia\n",
      "Nova Scotia\n"
     ]
    }
   ],
   "source": [
    "regex = r'^\\w+ \\w+$'\n",
    "for prov in provinces:\n",
    "    check = re.match(regex, prov)\n",
    "    if check:\n",
    "        print(prov)"
   ]
  },
  {
   "cell_type": "code",
   "execution_count": 73,
   "id": "e11b3c39",
   "metadata": {},
   "outputs": [
    {
     "name": "stdout",
     "output_type": "stream",
     "text": [
      "British   Columbia\n",
      "Nova   Scotia\n"
     ]
    }
   ],
   "source": [
    "provinces = ['British   Columbia', 'Prince Edward Islan', 'NewfoundlandAndLabrador', 'Nova   Scotia', 'Alberta']\n",
    "\n",
    "regex = r'^\\w+\\s+\\w+$'\n",
    "for prov in provinces:\n",
    "    check = re.match(regex, prov)\n",
    "    if check:\n",
    "        print(prov)"
   ]
  },
  {
   "cell_type": "code",
   "execution_count": 74,
   "id": "e9f46d99",
   "metadata": {},
   "outputs": [],
   "source": [
    "sentence = '''\n",
    "rescue recover restore\n",
    "February 08, 2024\n",
    "'''"
   ]
  },
  {
   "cell_type": "code",
   "execution_count": 75,
   "id": "69b7e9c9",
   "metadata": {},
   "outputs": [
    {
     "name": "stdout",
     "output_type": "stream",
     "text": [
      "<re.Match object; span=(1, 2), match='r'>\n",
      "<re.Match object; span=(2, 3), match='e'>\n",
      "<re.Match object; span=(3, 4), match='s'>\n",
      "<re.Match object; span=(4, 5), match='c'>\n",
      "<re.Match object; span=(5, 6), match='u'>\n",
      "<re.Match object; span=(6, 7), match='e'>\n",
      "<re.Match object; span=(7, 8), match=' '>\n",
      "<re.Match object; span=(8, 9), match='r'>\n",
      "<re.Match object; span=(9, 10), match='e'>\n",
      "<re.Match object; span=(10, 11), match='c'>\n",
      "<re.Match object; span=(11, 12), match='o'>\n",
      "<re.Match object; span=(12, 13), match='v'>\n",
      "<re.Match object; span=(13, 14), match='e'>\n",
      "<re.Match object; span=(14, 15), match='r'>\n",
      "<re.Match object; span=(15, 16), match=' '>\n",
      "<re.Match object; span=(16, 17), match='r'>\n",
      "<re.Match object; span=(17, 18), match='e'>\n",
      "<re.Match object; span=(18, 19), match='s'>\n",
      "<re.Match object; span=(19, 20), match='t'>\n",
      "<re.Match object; span=(20, 21), match='o'>\n",
      "<re.Match object; span=(21, 22), match='r'>\n",
      "<re.Match object; span=(22, 23), match='e'>\n",
      "<re.Match object; span=(24, 25), match='F'>\n",
      "<re.Match object; span=(25, 26), match='e'>\n",
      "<re.Match object; span=(26, 27), match='b'>\n",
      "<re.Match object; span=(27, 28), match='r'>\n",
      "<re.Match object; span=(28, 29), match='u'>\n",
      "<re.Match object; span=(29, 30), match='a'>\n",
      "<re.Match object; span=(30, 31), match='r'>\n",
      "<re.Match object; span=(31, 32), match='y'>\n",
      "<re.Match object; span=(32, 33), match=' '>\n",
      "<re.Match object; span=(33, 34), match='0'>\n",
      "<re.Match object; span=(34, 35), match='8'>\n",
      "<re.Match object; span=(35, 36), match=','>\n",
      "<re.Match object; span=(36, 37), match=' '>\n",
      "<re.Match object; span=(37, 38), match='2'>\n",
      "<re.Match object; span=(38, 39), match='0'>\n",
      "<re.Match object; span=(39, 40), match='2'>\n",
      "<re.Match object; span=(40, 41), match='4'>\n"
     ]
    }
   ],
   "source": [
    "pattern = re.compile(r'.')\n",
    "search = pattern.finditer(sentence)\n",
    "for item in search:\n",
    "    print(item)"
   ]
  },
  {
   "cell_type": "code",
   "execution_count": null,
   "id": "0c9ce7ba",
   "metadata": {},
   "outputs": [],
   "source": []
  },
  {
   "cell_type": "code",
   "execution_count": 76,
   "id": "475e48f5",
   "metadata": {},
   "outputs": [],
   "source": [
    "sentence = '''\n",
    "rescue recover restore\n",
    "February 08, 2024\n",
    "'''"
   ]
  },
  {
   "cell_type": "code",
   "execution_count": 77,
   "id": "a6308acc",
   "metadata": {},
   "outputs": [
    {
     "name": "stdout",
     "output_type": "stream",
     "text": [
      "<re.Match object; span=(33, 34), match='0'>\n",
      "<re.Match object; span=(34, 35), match='8'>\n",
      "<re.Match object; span=(37, 38), match='2'>\n",
      "<re.Match object; span=(38, 39), match='0'>\n",
      "<re.Match object; span=(39, 40), match='2'>\n",
      "<re.Match object; span=(40, 41), match='4'>\n"
     ]
    }
   ],
   "source": [
    "pattern = re.compile(r'\\d')\n",
    "search = pattern.finditer(sentence)\n",
    "for item in search:\n",
    "    print(item)"
   ]
  },
  {
   "cell_type": "code",
   "execution_count": 78,
   "id": "599372b3",
   "metadata": {},
   "outputs": [
    {
     "name": "stdout",
     "output_type": "stream",
     "text": [
      "<re.Match object; span=(0, 1), match='\\n'>\n",
      "<re.Match object; span=(1, 2), match='r'>\n",
      "<re.Match object; span=(2, 3), match='e'>\n",
      "<re.Match object; span=(3, 4), match='s'>\n",
      "<re.Match object; span=(4, 5), match='c'>\n",
      "<re.Match object; span=(5, 6), match='u'>\n",
      "<re.Match object; span=(6, 7), match='e'>\n",
      "<re.Match object; span=(7, 8), match=' '>\n",
      "<re.Match object; span=(8, 9), match='r'>\n",
      "<re.Match object; span=(9, 10), match='e'>\n",
      "<re.Match object; span=(10, 11), match='c'>\n",
      "<re.Match object; span=(11, 12), match='o'>\n",
      "<re.Match object; span=(12, 13), match='v'>\n",
      "<re.Match object; span=(13, 14), match='e'>\n",
      "<re.Match object; span=(14, 15), match='r'>\n",
      "<re.Match object; span=(15, 16), match=' '>\n",
      "<re.Match object; span=(16, 17), match='r'>\n",
      "<re.Match object; span=(17, 18), match='e'>\n",
      "<re.Match object; span=(18, 19), match='s'>\n",
      "<re.Match object; span=(19, 20), match='t'>\n",
      "<re.Match object; span=(20, 21), match='o'>\n",
      "<re.Match object; span=(21, 22), match='r'>\n",
      "<re.Match object; span=(22, 23), match='e'>\n",
      "<re.Match object; span=(23, 24), match='\\n'>\n",
      "<re.Match object; span=(24, 25), match='F'>\n",
      "<re.Match object; span=(25, 26), match='e'>\n",
      "<re.Match object; span=(26, 27), match='b'>\n",
      "<re.Match object; span=(27, 28), match='r'>\n",
      "<re.Match object; span=(28, 29), match='u'>\n",
      "<re.Match object; span=(29, 30), match='a'>\n",
      "<re.Match object; span=(30, 31), match='r'>\n",
      "<re.Match object; span=(31, 32), match='y'>\n",
      "<re.Match object; span=(32, 33), match=' '>\n",
      "<re.Match object; span=(35, 36), match=','>\n",
      "<re.Match object; span=(36, 37), match=' '>\n",
      "<re.Match object; span=(41, 42), match='\\n'>\n"
     ]
    }
   ],
   "source": [
    "pattern = re.compile(r'\\D')\n",
    "search = pattern.finditer(sentence)\n",
    "for item in search:\n",
    "    print(item)"
   ]
  },
  {
   "cell_type": "code",
   "execution_count": null,
   "id": "90fca76f",
   "metadata": {},
   "outputs": [],
   "source": []
  },
  {
   "cell_type": "code",
   "execution_count": 79,
   "id": "65a2cb44",
   "metadata": {},
   "outputs": [],
   "source": [
    "phoneNumbers = '''\n",
    "123456\n",
    "123-234-1234\n",
    "123 456 6574\n",
    "278278178\n",
    "'''"
   ]
  },
  {
   "cell_type": "code",
   "execution_count": 80,
   "id": "d85a34c6",
   "metadata": {},
   "outputs": [
    {
     "name": "stdout",
     "output_type": "stream",
     "text": [
      "<re.Match object; span=(8, 20), match='123-234-1234'>\n",
      "<re.Match object; span=(21, 33), match='123 456 6574'>\n"
     ]
    }
   ],
   "source": [
    "pattern = re.compile(r'\\d\\d\\d.\\d\\d\\d.\\d\\d\\d\\d')\n",
    "search = pattern.finditer(phoneNumbers)\n",
    "for item in search:\n",
    "    print(item)"
   ]
  },
  {
   "cell_type": "code",
   "execution_count": 81,
   "id": "680724f3",
   "metadata": {},
   "outputs": [
    {
     "name": "stdout",
     "output_type": "stream",
     "text": [
      "<re.Match object; span=(8, 20), match='123-234-1234'>\n",
      "<re.Match object; span=(21, 33), match='123 456 6574'>\n"
     ]
    }
   ],
   "source": [
    "pattern = re.compile(r'\\d{3}.\\d{3}.\\d{4}')\n",
    "search = pattern.finditer(phoneNumbers)\n",
    "for item in search:\n",
    "    print(item)"
   ]
  },
  {
   "cell_type": "code",
   "execution_count": 82,
   "id": "6aa7b2b4",
   "metadata": {},
   "outputs": [],
   "source": [
    "phoneNumbers = '''\n",
    "123-234-5633\n",
    "123-234-1234\n",
    "123-456-6574\n",
    "278 278 1478\n",
    "403 123 8888\n",
    "587-222-9876\n",
    "403 345 2134\n",
    "'''"
   ]
  },
  {
   "cell_type": "code",
   "execution_count": 83,
   "id": "00dd1c86",
   "metadata": {},
   "outputs": [],
   "source": [
    "# Find the valid postal codes\n",
    "# format: LetterDigitLetter DigitLetterDigit\n",
    "\n",
    "postCodes = '''\n",
    "Tr25o9\n",
    "M1L8Y6\n",
    "W4X7YR\n",
    "T1W-2R7\n",
    "P0Q 3R9\n",
    "'''"
   ]
  },
  {
   "cell_type": "code",
   "execution_count": null,
   "id": "62ccdcc8",
   "metadata": {},
   "outputs": [],
   "source": []
  },
  {
   "cell_type": "code",
   "execution_count": null,
   "id": "ceb409fc",
   "metadata": {},
   "outputs": [],
   "source": []
  },
  {
   "cell_type": "code",
   "execution_count": null,
   "id": "3abfff9e",
   "metadata": {},
   "outputs": [],
   "source": []
  },
  {
   "cell_type": "code",
   "execution_count": null,
   "id": "cb1c71c3",
   "metadata": {},
   "outputs": [],
   "source": []
  },
  {
   "cell_type": "code",
   "execution_count": null,
   "id": "3a0ee04d",
   "metadata": {},
   "outputs": [],
   "source": []
  },
  {
   "cell_type": "code",
   "execution_count": null,
   "id": "54b5069e",
   "metadata": {},
   "outputs": [],
   "source": []
  },
  {
   "cell_type": "code",
   "execution_count": null,
   "id": "6bafbc88",
   "metadata": {},
   "outputs": [],
   "source": []
  },
  {
   "cell_type": "code",
   "execution_count": null,
   "id": "9f7b80a0",
   "metadata": {},
   "outputs": [],
   "source": []
  },
  {
   "cell_type": "code",
   "execution_count": null,
   "id": "f05afb1d",
   "metadata": {},
   "outputs": [],
   "source": []
  },
  {
   "cell_type": "code",
   "execution_count": null,
   "id": "7c0c7bc5",
   "metadata": {},
   "outputs": [],
   "source": []
  },
  {
   "cell_type": "code",
   "execution_count": null,
   "id": "1f296d61",
   "metadata": {},
   "outputs": [],
   "source": []
  },
  {
   "cell_type": "code",
   "execution_count": null,
   "id": "92c85db0",
   "metadata": {},
   "outputs": [],
   "source": []
  }
 ],
 "metadata": {
  "kernelspec": {
   "display_name": "Python 3 (ipykernel)",
   "language": "python",
   "name": "python3"
  },
  "language_info": {
   "codemirror_mode": {
    "name": "ipython",
    "version": 3
   },
   "file_extension": ".py",
   "mimetype": "text/x-python",
   "name": "python",
   "nbconvert_exporter": "python",
   "pygments_lexer": "ipython3",
   "version": "3.9.13"
  }
 },
 "nbformat": 4,
 "nbformat_minor": 5
}
